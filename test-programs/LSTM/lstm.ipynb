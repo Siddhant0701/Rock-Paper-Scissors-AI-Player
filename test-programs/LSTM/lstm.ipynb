{
 "cells": [
  {
   "cell_type": "code",
   "execution_count": 27,
   "metadata": {},
   "outputs": [],
   "source": [
    "import tensorflow as tf\n",
    "from tensorflow import keras\n",
    "from random import shuffle\n",
    "import numpy as np\n",
    "import csv"
   ]
  },
  {
   "cell_type": "code",
   "execution_count": 28,
   "metadata": {},
   "outputs": [],
   "source": [
    "dict = {\n",
    "    0: \"Rock\",\n",
    "    1: \"Paper\",\n",
    "    2: \"Scissors\"\n",
    "}"
   ]
  },
  {
   "cell_type": "code",
   "execution_count": 29,
   "metadata": {},
   "outputs": [],
   "source": [
    "player_sequences = []\n",
    "computer_sequences = []\n",
    "win_data = []\n",
    "\n",
    "labels = []\n",
    "\n",
    "maxlen = 3\n",
    "split = 0.7\n",
    "\n",
    "with open('../../data/temp.csv', 'r') as csvfile:\n",
    "    reader = csv.reader(csvfile)\n",
    "\n",
    "    next(reader)\n",
    "\n",
    "    for row in reader:\n",
    "        inputs = [int(char) for char in row[2]]\n",
    "        for i in range(1, len(inputs)+1):\n",
    "            player_sequences.append(inputs[:i+1])\n",
    "        inputs = [int(char) for char in row[4]]\n",
    "        for i in range(1, len(inputs)+1):\n",
    "            computer_sequences.append(inputs[:i+1])\n",
    "        inputs = [(lambda x : 1 if x=='w' else (0 if x=='t' else -1))(char) for char in row[3]]\n",
    "        for i in range(1, len(inputs)+1):\n",
    "            win_data.append(inputs[:i+1])\n",
    "\n",
    "# s = '2002120021200212002120021200212002120021200212002120021200212002120021200212002120021200212002120021'\n",
    "# input = [int(i) for i in s]\n",
    "# for i in range(1, len(input)+1):\n",
    "#     player_sequences.append(input[:i+1])\n"
   ]
  },
  {
   "cell_type": "code",
   "execution_count": 30,
   "metadata": {},
   "outputs": [
    {
     "name": "stderr",
     "output_type": "stream",
     "text": [
      "C:\\Users\\mahaj\\AppData\\Roaming\\Python\\Python39\\site-packages\\numpy\\core\\fromnumeric.py:2007: VisibleDeprecationWarning: Creating an ndarray from ragged nested sequences (which is a list-or-tuple of lists-or-tuples-or ndarrays with different lengths or shapes) is deprecated. If you meant to do this, you must specify 'dtype=object' when creating the ndarray.\n",
      "  result = asarray(a).shape\n"
     ]
    },
    {
     "data": {
      "text/plain": [
       "((494,), (494,), (494,))"
      ]
     },
     "execution_count": 30,
     "metadata": {},
     "output_type": "execute_result"
    }
   ],
   "source": [
    "np.shape(player_sequences), np.shape(computer_sequences), np.shape(win_data)"
   ]
  },
  {
   "cell_type": "code",
   "execution_count": 31,
   "metadata": {},
   "outputs": [],
   "source": [
    "player_sequences = list(filter(lambda x : len(x) >= maxlen+1,player_sequences))\n",
    "computer_sequences = list(filter(lambda x : len(x) >= maxlen+1, computer_sequences))\n",
    "win_data = list(filter(lambda x : len(x) >= maxlen+1, win_data))"
   ]
  },
  {
   "cell_type": "code",
   "execution_count": 32,
   "metadata": {},
   "outputs": [],
   "source": [
    "player_sequences = list(map(lambda x: x[-maxlen-1:], player_sequences))\n",
    "computer_sequences = list(map(lambda x: x[-maxlen-1:], computer_sequences))\n",
    "win_data = list(map(lambda x: x[-maxlen-1:], win_data))"
   ]
  },
  {
   "cell_type": "code",
   "execution_count": 33,
   "metadata": {},
   "outputs": [
    {
     "data": {
      "text/plain": [
       "([[1, 2, 1, 1], [2, 1, 1, 1], [1, 1, 1, 2], [1, 1, 2, 3], [1, 2, 3, 2]],\n",
       " [[3, 1, 3, 1], [1, 3, 1, 2], [3, 1, 2, 2], [1, 2, 2, 1], [2, 2, 1, 3]],\n",
       " [[1, 1, 1, 0], [1, 1, 0, -1], [1, 0, -1, 0], [0, -1, 0, -1], [-1, 0, -1, -1]])"
      ]
     },
     "execution_count": 33,
     "metadata": {},
     "output_type": "execute_result"
    }
   ],
   "source": [
    "player_sequences[:5], computer_sequences[:5], win_data[:5]"
   ]
  },
  {
   "cell_type": "code",
   "execution_count": 34,
   "metadata": {},
   "outputs": [],
   "source": [
    "player_sequences, computer_sequences, win_data = np.array(player_sequences), np.array(computer_sequences), np.array(win_data)"
   ]
  },
  {
   "cell_type": "code",
   "execution_count": 35,
   "metadata": {},
   "outputs": [],
   "source": [
    "player_inputs, labels = player_sequences[:,:-1], player_sequences[:,-1]\n",
    "computer_inputs = computer_sequences[:,:-1]\n",
    "win_inputs = win_data[:,:-1]"
   ]
  },
  {
   "cell_type": "code",
   "execution_count": 36,
   "metadata": {},
   "outputs": [
    {
     "data": {
      "text/plain": [
       "((492, 3), (492, 3), (492, 3))"
      ]
     },
     "execution_count": 36,
     "metadata": {},
     "output_type": "execute_result"
    }
   ],
   "source": [
    "np.shape(player_inputs), np.shape(computer_inputs), np.shape(win_inputs)"
   ]
  },
  {
   "cell_type": "code",
   "execution_count": 37,
   "metadata": {},
   "outputs": [
    {
     "data": {
      "text/plain": [
       "(array([[1, 2, 1],\n",
       "        [2, 1, 1],\n",
       "        [1, 1, 1],\n",
       "        [1, 1, 2],\n",
       "        [1, 2, 3]]),\n",
       " array([[3, 1, 3],\n",
       "        [1, 3, 1],\n",
       "        [3, 1, 2],\n",
       "        [1, 2, 2],\n",
       "        [2, 2, 1]]),\n",
       " array([[ 1,  1,  1],\n",
       "        [ 1,  1,  0],\n",
       "        [ 1,  0, -1],\n",
       "        [ 0, -1,  0],\n",
       "        [-1,  0, -1]]))"
      ]
     },
     "execution_count": 37,
     "metadata": {},
     "output_type": "execute_result"
    }
   ],
   "source": [
    "player_inputs[:5], computer_inputs[:5], win_inputs[:5]"
   ]
  },
  {
   "cell_type": "code",
   "execution_count": 38,
   "metadata": {},
   "outputs": [],
   "source": [
    "inputs = np.stack((player_inputs, win_inputs), axis=1)\n",
    "input_dim = 2"
   ]
  },
  {
   "cell_type": "code",
   "execution_count": 39,
   "metadata": {},
   "outputs": [],
   "source": [
    "# inputs = inputs-1\n",
    "labels = labels-1\n",
    "\n",
    "# inputs = inputs /2 \n",
    "# inputs"
   ]
  },
  {
   "cell_type": "code",
   "execution_count": 40,
   "metadata": {},
   "outputs": [
    {
     "data": {
      "text/plain": [
       "(array([[[ 1,  2,  1],\n",
       "         [ 1,  1,  1]],\n",
       " \n",
       "        [[ 2,  1,  1],\n",
       "         [ 1,  1,  0]],\n",
       " \n",
       "        [[ 1,  1,  1],\n",
       "         [ 1,  0, -1]],\n",
       " \n",
       "        [[ 1,  1,  2],\n",
       "         [ 0, -1,  0]],\n",
       " \n",
       "        [[ 1,  2,  3],\n",
       "         [-1,  0, -1]]]),\n",
       " array([0, 0, 1, 2, 1]))"
      ]
     },
     "execution_count": 40,
     "metadata": {},
     "output_type": "execute_result"
    }
   ],
   "source": [
    "inputs[:5], labels[:5]"
   ]
  },
  {
   "cell_type": "code",
   "execution_count": 41,
   "metadata": {},
   "outputs": [],
   "source": [
    "# np.shape(player_sequences), labels"
   ]
  },
  {
   "cell_type": "code",
   "execution_count": 42,
   "metadata": {},
   "outputs": [],
   "source": [
    "train_size = int(split * len(inputs))\n",
    "valid_size = int(((1+split)/2) * len(inputs))\n",
    "\n",
    "training_data, training_labels = inputs[:train_size], labels[:train_size]\n",
    "valid_data, valid_labels = inputs[train_size:valid_size], labels[train_size:valid_size]\n",
    "test_data, test_labels = inputs[valid_size:], labels[valid_size:]"
   ]
  },
  {
   "cell_type": "code",
   "execution_count": 43,
   "metadata": {},
   "outputs": [
    {
     "name": "stdout",
     "output_type": "stream",
     "text": [
      "Training data: (344, 2, 3), (344,)\n",
      "Validation data: (74, 2, 3), (74,)\n",
      "Test data: (74, 2, 3), (74,)\n"
     ]
    }
   ],
   "source": [
    "print(f\"Training data: {training_data.shape}, {training_labels.shape}\")\n",
    "print(f\"Validation data: {valid_data.shape}, {valid_labels.shape}\")\n",
    "print(f\"Test data: {test_data.shape}, {test_labels.shape}\")"
   ]
  },
  {
   "cell_type": "code",
   "execution_count": 44,
   "metadata": {},
   "outputs": [],
   "source": [
    "model = tf.keras.Sequential([\n",
    "    tf.keras.layers.LSTM(160, input_shape=(input_dim, maxlen), return_sequences=True),\n",
    "    tf.keras.layers.LSTM(160, return_sequences=True),\n",
    "    tf.keras.layers.LSTM(160),\n",
    "    \n",
    "    tf.keras.layers.Dense(80, activation='relu'),\n",
    "    tf.keras.layers.Dense(80, activation='relu'),\n",
    "    tf.keras.layers.Dense(3, activation='softmax')\n",
    "])"
   ]
  },
  {
   "cell_type": "code",
   "execution_count": 45,
   "metadata": {},
   "outputs": [],
   "source": [
    "optimizer=tf.keras.optimizers.SGD(learning_rate=0.01, momentum=0.9)"
   ]
  },
  {
   "cell_type": "code",
   "execution_count": 46,
   "metadata": {},
   "outputs": [],
   "source": [
    "model.compile(optimizer=optimizer, loss='sparse_categorical_crossentropy', metrics=['accuracy'])"
   ]
  },
  {
   "cell_type": "code",
   "execution_count": 47,
   "metadata": {},
   "outputs": [
    {
     "name": "stdout",
     "output_type": "stream",
     "text": [
      "Epoch 1/250\n",
      "22/22 [==============================] - 10s 86ms/step - loss: 1.0995 - accuracy: 0.3227 - val_loss: 1.0980 - val_accuracy: 0.3514\n",
      "Epoch 2/250\n",
      "22/22 [==============================] - 0s 13ms/step - loss: 1.0999 - accuracy: 0.3110 - val_loss: 1.0983 - val_accuracy: 0.3243\n",
      "Epoch 3/250\n",
      "22/22 [==============================] - 0s 14ms/step - loss: 1.0992 - accuracy: 0.3401 - val_loss: 1.0978 - val_accuracy: 0.3514\n",
      "Epoch 4/250\n",
      "22/22 [==============================] - 0s 19ms/step - loss: 1.0994 - accuracy: 0.3459 - val_loss: 1.0978 - val_accuracy: 0.3514\n",
      "Epoch 5/250\n",
      "22/22 [==============================] - 0s 16ms/step - loss: 1.0993 - accuracy: 0.3459 - val_loss: 1.0980 - val_accuracy: 0.3514\n",
      "Epoch 6/250\n",
      "22/22 [==============================] - 0s 16ms/step - loss: 1.1000 - accuracy: 0.2965 - val_loss: 1.0981 - val_accuracy: 0.3514\n",
      "Epoch 7/250\n",
      "22/22 [==============================] - 0s 14ms/step - loss: 1.0989 - accuracy: 0.2994 - val_loss: 1.0983 - val_accuracy: 0.3514\n",
      "Epoch 8/250\n",
      "22/22 [==============================] - 0s 16ms/step - loss: 1.1014 - accuracy: 0.3459 - val_loss: 1.0979 - val_accuracy: 0.3514\n",
      "Epoch 9/250\n",
      "22/22 [==============================] - 0s 21ms/step - loss: 1.0984 - accuracy: 0.3459 - val_loss: 1.0981 - val_accuracy: 0.3514\n",
      "Epoch 10/250\n",
      "22/22 [==============================] - 1s 26ms/step - loss: 1.0997 - accuracy: 0.2994 - val_loss: 1.0982 - val_accuracy: 0.3514\n",
      "Epoch 11/250\n",
      "22/22 [==============================] - 0s 21ms/step - loss: 1.0998 - accuracy: 0.3052 - val_loss: 1.0983 - val_accuracy: 0.3514\n",
      "Epoch 12/250\n",
      "22/22 [==============================] - 0s 20ms/step - loss: 1.0994 - accuracy: 0.3459 - val_loss: 1.0979 - val_accuracy: 0.3514\n",
      "Epoch 13/250\n",
      "22/22 [==============================] - 0s 16ms/step - loss: 1.0989 - accuracy: 0.3459 - val_loss: 1.0979 - val_accuracy: 0.3514\n",
      "Epoch 14/250\n",
      "22/22 [==============================] - 0s 15ms/step - loss: 1.1000 - accuracy: 0.3459 - val_loss: 1.0979 - val_accuracy: 0.3514\n",
      "Epoch 15/250\n",
      "22/22 [==============================] - 0s 17ms/step - loss: 1.0989 - accuracy: 0.3459 - val_loss: 1.0980 - val_accuracy: 0.3514\n",
      "Epoch 16/250\n",
      "22/22 [==============================] - 0s 22ms/step - loss: 1.0994 - accuracy: 0.3459 - val_loss: 1.0978 - val_accuracy: 0.3514\n",
      "Epoch 17/250\n",
      "22/22 [==============================] - 0s 22ms/step - loss: 1.0987 - accuracy: 0.3459 - val_loss: 1.0981 - val_accuracy: 0.3514\n",
      "Epoch 18/250\n",
      "22/22 [==============================] - 0s 21ms/step - loss: 1.0990 - accuracy: 0.3459 - val_loss: 1.0979 - val_accuracy: 0.3514\n",
      "Epoch 19/250\n",
      "22/22 [==============================] - 1s 26ms/step - loss: 1.0986 - accuracy: 0.3459 - val_loss: 1.0978 - val_accuracy: 0.3514\n",
      "Epoch 20/250\n",
      "22/22 [==============================] - 1s 27ms/step - loss: 1.0990 - accuracy: 0.3459 - val_loss: 1.0980 - val_accuracy: 0.3514\n",
      "Epoch 21/250\n",
      "22/22 [==============================] - 1s 26ms/step - loss: 1.0991 - accuracy: 0.3459 - val_loss: 1.0978 - val_accuracy: 0.3514\n",
      "Epoch 22/250\n",
      "22/22 [==============================] - 1s 24ms/step - loss: 1.1005 - accuracy: 0.3459 - val_loss: 1.0979 - val_accuracy: 0.3514\n",
      "Epoch 23/250\n",
      "22/22 [==============================] - 1s 23ms/step - loss: 1.1014 - accuracy: 0.3227 - val_loss: 1.0984 - val_accuracy: 0.3243\n",
      "Epoch 24/250\n",
      "22/22 [==============================] - 0s 22ms/step - loss: 1.1005 - accuracy: 0.3285 - val_loss: 1.0978 - val_accuracy: 0.3514\n",
      "Epoch 25/250\n",
      "22/22 [==============================] - 0s 19ms/step - loss: 1.0989 - accuracy: 0.3459 - val_loss: 1.0980 - val_accuracy: 0.3514\n",
      "Epoch 26/250\n",
      "22/22 [==============================] - 1s 25ms/step - loss: 1.0997 - accuracy: 0.3110 - val_loss: 1.0985 - val_accuracy: 0.3243\n",
      "Epoch 27/250\n",
      "22/22 [==============================] - 0s 22ms/step - loss: 1.0992 - accuracy: 0.3372 - val_loss: 1.0978 - val_accuracy: 0.3514\n",
      "Epoch 28/250\n",
      "22/22 [==============================] - 0s 20ms/step - loss: 1.0999 - accuracy: 0.3459 - val_loss: 1.0979 - val_accuracy: 0.3514\n",
      "Epoch 29/250\n",
      "22/22 [==============================] - 1s 27ms/step - loss: 1.0997 - accuracy: 0.3459 - val_loss: 1.0982 - val_accuracy: 0.3514\n",
      "Epoch 30/250\n",
      "22/22 [==============================] - 1s 24ms/step - loss: 1.0992 - accuracy: 0.3459 - val_loss: 1.0978 - val_accuracy: 0.3514\n",
      "Epoch 31/250\n",
      "22/22 [==============================] - 1s 26ms/step - loss: 1.0991 - accuracy: 0.3459 - val_loss: 1.0978 - val_accuracy: 0.3514\n",
      "Epoch 32/250\n",
      "22/22 [==============================] - 1s 24ms/step - loss: 1.0991 - accuracy: 0.3459 - val_loss: 1.0979 - val_accuracy: 0.3514\n",
      "Epoch 33/250\n",
      "22/22 [==============================] - 0s 22ms/step - loss: 1.0987 - accuracy: 0.3459 - val_loss: 1.0979 - val_accuracy: 0.3514\n",
      "Epoch 34/250\n",
      "22/22 [==============================] - 1s 24ms/step - loss: 1.0991 - accuracy: 0.3459 - val_loss: 1.0982 - val_accuracy: 0.3514\n",
      "Epoch 35/250\n",
      "22/22 [==============================] - 1s 24ms/step - loss: 1.0987 - accuracy: 0.3459 - val_loss: 1.0979 - val_accuracy: 0.3514\n",
      "Epoch 36/250\n",
      "22/22 [==============================] - 1s 25ms/step - loss: 1.0988 - accuracy: 0.3459 - val_loss: 1.0980 - val_accuracy: 0.3514\n",
      "Epoch 37/250\n",
      "22/22 [==============================] - 0s 19ms/step - loss: 1.0986 - accuracy: 0.3459 - val_loss: 1.0979 - val_accuracy: 0.3514\n",
      "Epoch 38/250\n",
      "22/22 [==============================] - 0s 20ms/step - loss: 1.1003 - accuracy: 0.3459 - val_loss: 1.0979 - val_accuracy: 0.3514\n",
      "Epoch 39/250\n",
      "22/22 [==============================] - 1s 27ms/step - loss: 1.0988 - accuracy: 0.3459 - val_loss: 1.0978 - val_accuracy: 0.3514\n",
      "Epoch 40/250\n",
      "22/22 [==============================] - 1s 28ms/step - loss: 1.0993 - accuracy: 0.3459 - val_loss: 1.0980 - val_accuracy: 0.3514\n",
      "Epoch 41/250\n",
      "22/22 [==============================] - 1s 33ms/step - loss: 1.0986 - accuracy: 0.3459 - val_loss: 1.0979 - val_accuracy: 0.3514\n",
      "Epoch 42/250\n",
      "22/22 [==============================] - 1s 25ms/step - loss: 1.0989 - accuracy: 0.3459 - val_loss: 1.0978 - val_accuracy: 0.3514\n",
      "Epoch 43/250\n",
      "22/22 [==============================] - 0s 22ms/step - loss: 1.0990 - accuracy: 0.3459 - val_loss: 1.0979 - val_accuracy: 0.3514\n",
      "Epoch 44/250\n",
      "22/22 [==============================] - 0s 19ms/step - loss: 1.0987 - accuracy: 0.3459 - val_loss: 1.0979 - val_accuracy: 0.3514\n",
      "Epoch 45/250\n",
      "22/22 [==============================] - 0s 17ms/step - loss: 1.0989 - accuracy: 0.3459 - val_loss: 1.0979 - val_accuracy: 0.3514\n",
      "Epoch 46/250\n",
      "22/22 [==============================] - 0s 18ms/step - loss: 1.0990 - accuracy: 0.3459 - val_loss: 1.0978 - val_accuracy: 0.3514\n",
      "Epoch 47/250\n",
      "22/22 [==============================] - 1s 26ms/step - loss: 1.0992 - accuracy: 0.3459 - val_loss: 1.0979 - val_accuracy: 0.3514\n",
      "Epoch 48/250\n",
      "22/22 [==============================] - 0s 22ms/step - loss: 1.0989 - accuracy: 0.3459 - val_loss: 1.0979 - val_accuracy: 0.3514\n",
      "Epoch 49/250\n",
      "22/22 [==============================] - 1s 26ms/step - loss: 1.0993 - accuracy: 0.3459 - val_loss: 1.0979 - val_accuracy: 0.3514\n",
      "Epoch 50/250\n",
      "22/22 [==============================] - 1s 24ms/step - loss: 1.1011 - accuracy: 0.3459 - val_loss: 1.0979 - val_accuracy: 0.3514\n",
      "Epoch 51/250\n",
      "22/22 [==============================] - 0s 22ms/step - loss: 1.0987 - accuracy: 0.3459 - val_loss: 1.0982 - val_accuracy: 0.3514\n",
      "Epoch 52/250\n",
      "22/22 [==============================] - 0s 22ms/step - loss: 1.0998 - accuracy: 0.3459 - val_loss: 1.0980 - val_accuracy: 0.3514\n",
      "Epoch 53/250\n",
      "22/22 [==============================] - 0s 20ms/step - loss: 1.0990 - accuracy: 0.3459 - val_loss: 1.0979 - val_accuracy: 0.3514\n",
      "Epoch 54/250\n",
      "22/22 [==============================] - 0s 19ms/step - loss: 1.0991 - accuracy: 0.3459 - val_loss: 1.0979 - val_accuracy: 0.3514\n",
      "Epoch 55/250\n",
      "22/22 [==============================] - 0s 18ms/step - loss: 1.0985 - accuracy: 0.3459 - val_loss: 1.0978 - val_accuracy: 0.3514\n",
      "Epoch 56/250\n",
      "22/22 [==============================] - 0s 17ms/step - loss: 1.0990 - accuracy: 0.3459 - val_loss: 1.0978 - val_accuracy: 0.3514\n",
      "Epoch 57/250\n",
      "22/22 [==============================] - 0s 17ms/step - loss: 1.0990 - accuracy: 0.3459 - val_loss: 1.0978 - val_accuracy: 0.3514\n",
      "Epoch 58/250\n",
      "22/22 [==============================] - 0s 18ms/step - loss: 1.0992 - accuracy: 0.3459 - val_loss: 1.0978 - val_accuracy: 0.3514\n",
      "Epoch 59/250\n",
      "22/22 [==============================] - 0s 21ms/step - loss: 1.0992 - accuracy: 0.3459 - val_loss: 1.0980 - val_accuracy: 0.3514\n",
      "Epoch 60/250\n",
      "22/22 [==============================] - 1s 29ms/step - loss: 1.0987 - accuracy: 0.3459 - val_loss: 1.0977 - val_accuracy: 0.3514\n",
      "Epoch 61/250\n",
      "22/22 [==============================] - 1s 27ms/step - loss: 1.0988 - accuracy: 0.3459 - val_loss: 1.0978 - val_accuracy: 0.3514\n",
      "Epoch 62/250\n",
      "22/22 [==============================] - 1s 26ms/step - loss: 1.1003 - accuracy: 0.3140 - val_loss: 1.0978 - val_accuracy: 0.3514\n",
      "Epoch 63/250\n",
      " 1/22 [>.............................] - ETA: 0s - loss: 1.0946 - accuracy: 0.3750"
     ]
    },
    {
     "ename": "KeyboardInterrupt",
     "evalue": "",
     "output_type": "error",
     "traceback": [
      "\u001b[1;31m---------------------------------------------------------------------------\u001b[0m",
      "\u001b[1;31mKeyboardInterrupt\u001b[0m                         Traceback (most recent call last)",
      "\u001b[1;32mc:\\Comp-Sci\\RPS-AI-Player\\test-programs\\LSTM\\lstm.ipynb Cell 21\u001b[0m in \u001b[0;36m<cell line: 1>\u001b[1;34m()\u001b[0m\n\u001b[1;32m----> <a href='vscode-notebook-cell:/c%3A/Comp-Sci/RPS-AI-Player/test-programs/LSTM/lstm.ipynb#ch0000020?line=0'>1</a>\u001b[0m history \u001b[39m=\u001b[39m model\u001b[39m.\u001b[39;49mfit(training_data, training_labels, epochs\u001b[39m=\u001b[39;49m\u001b[39m250\u001b[39;49m, batch_size\u001b[39m=\u001b[39;49m\u001b[39m16\u001b[39;49m, verbose\u001b[39m=\u001b[39;49m\u001b[39m1\u001b[39;49m, shuffle\u001b[39m=\u001b[39;49m\u001b[39mTrue\u001b[39;49;00m, validation_data\u001b[39m=\u001b[39;49m(valid_data, valid_labels))\n",
      "File \u001b[1;32m~\\AppData\\Roaming\\Python\\Python39\\site-packages\\keras\\utils\\traceback_utils.py:64\u001b[0m, in \u001b[0;36mfilter_traceback.<locals>.error_handler\u001b[1;34m(*args, **kwargs)\u001b[0m\n\u001b[0;32m     62\u001b[0m filtered_tb \u001b[39m=\u001b[39m \u001b[39mNone\u001b[39;00m\n\u001b[0;32m     63\u001b[0m \u001b[39mtry\u001b[39;00m:\n\u001b[1;32m---> 64\u001b[0m   \u001b[39mreturn\u001b[39;00m fn(\u001b[39m*\u001b[39margs, \u001b[39m*\u001b[39m\u001b[39m*\u001b[39mkwargs)\n\u001b[0;32m     65\u001b[0m \u001b[39mexcept\u001b[39;00m \u001b[39mException\u001b[39;00m \u001b[39mas\u001b[39;00m e:  \u001b[39m# pylint: disable=broad-except\u001b[39;00m\n\u001b[0;32m     66\u001b[0m   filtered_tb \u001b[39m=\u001b[39m _process_traceback_frames(e\u001b[39m.\u001b[39m__traceback__)\n",
      "File \u001b[1;32m~\\AppData\\Roaming\\Python\\Python39\\site-packages\\keras\\engine\\training.py:1409\u001b[0m, in \u001b[0;36mModel.fit\u001b[1;34m(self, x, y, batch_size, epochs, verbose, callbacks, validation_split, validation_data, shuffle, class_weight, sample_weight, initial_epoch, steps_per_epoch, validation_steps, validation_batch_size, validation_freq, max_queue_size, workers, use_multiprocessing)\u001b[0m\n\u001b[0;32m   1402\u001b[0m \u001b[39mwith\u001b[39;00m tf\u001b[39m.\u001b[39mprofiler\u001b[39m.\u001b[39mexperimental\u001b[39m.\u001b[39mTrace(\n\u001b[0;32m   1403\u001b[0m     \u001b[39m'\u001b[39m\u001b[39mtrain\u001b[39m\u001b[39m'\u001b[39m,\n\u001b[0;32m   1404\u001b[0m     epoch_num\u001b[39m=\u001b[39mepoch,\n\u001b[0;32m   1405\u001b[0m     step_num\u001b[39m=\u001b[39mstep,\n\u001b[0;32m   1406\u001b[0m     batch_size\u001b[39m=\u001b[39mbatch_size,\n\u001b[0;32m   1407\u001b[0m     _r\u001b[39m=\u001b[39m\u001b[39m1\u001b[39m):\n\u001b[0;32m   1408\u001b[0m   callbacks\u001b[39m.\u001b[39mon_train_batch_begin(step)\n\u001b[1;32m-> 1409\u001b[0m   tmp_logs \u001b[39m=\u001b[39m \u001b[39mself\u001b[39;49m\u001b[39m.\u001b[39;49mtrain_function(iterator)\n\u001b[0;32m   1410\u001b[0m   \u001b[39mif\u001b[39;00m data_handler\u001b[39m.\u001b[39mshould_sync:\n\u001b[0;32m   1411\u001b[0m     context\u001b[39m.\u001b[39masync_wait()\n",
      "File \u001b[1;32m~\\AppData\\Roaming\\Python\\Python39\\site-packages\\tensorflow\\python\\util\\traceback_utils.py:150\u001b[0m, in \u001b[0;36mfilter_traceback.<locals>.error_handler\u001b[1;34m(*args, **kwargs)\u001b[0m\n\u001b[0;32m    148\u001b[0m filtered_tb \u001b[39m=\u001b[39m \u001b[39mNone\u001b[39;00m\n\u001b[0;32m    149\u001b[0m \u001b[39mtry\u001b[39;00m:\n\u001b[1;32m--> 150\u001b[0m   \u001b[39mreturn\u001b[39;00m fn(\u001b[39m*\u001b[39margs, \u001b[39m*\u001b[39m\u001b[39m*\u001b[39mkwargs)\n\u001b[0;32m    151\u001b[0m \u001b[39mexcept\u001b[39;00m \u001b[39mException\u001b[39;00m \u001b[39mas\u001b[39;00m e:\n\u001b[0;32m    152\u001b[0m   filtered_tb \u001b[39m=\u001b[39m _process_traceback_frames(e\u001b[39m.\u001b[39m__traceback__)\n",
      "File \u001b[1;32m~\\AppData\\Roaming\\Python\\Python39\\site-packages\\tensorflow\\python\\eager\\def_function.py:915\u001b[0m, in \u001b[0;36mFunction.__call__\u001b[1;34m(self, *args, **kwds)\u001b[0m\n\u001b[0;32m    912\u001b[0m compiler \u001b[39m=\u001b[39m \u001b[39m\"\u001b[39m\u001b[39mxla\u001b[39m\u001b[39m\"\u001b[39m \u001b[39mif\u001b[39;00m \u001b[39mself\u001b[39m\u001b[39m.\u001b[39m_jit_compile \u001b[39melse\u001b[39;00m \u001b[39m\"\u001b[39m\u001b[39mnonXla\u001b[39m\u001b[39m\"\u001b[39m\n\u001b[0;32m    914\u001b[0m \u001b[39mwith\u001b[39;00m OptionalXlaContext(\u001b[39mself\u001b[39m\u001b[39m.\u001b[39m_jit_compile):\n\u001b[1;32m--> 915\u001b[0m   result \u001b[39m=\u001b[39m \u001b[39mself\u001b[39m\u001b[39m.\u001b[39m_call(\u001b[39m*\u001b[39margs, \u001b[39m*\u001b[39m\u001b[39m*\u001b[39mkwds)\n\u001b[0;32m    917\u001b[0m new_tracing_count \u001b[39m=\u001b[39m \u001b[39mself\u001b[39m\u001b[39m.\u001b[39mexperimental_get_tracing_count()\n\u001b[0;32m    918\u001b[0m without_tracing \u001b[39m=\u001b[39m (tracing_count \u001b[39m==\u001b[39m new_tracing_count)\n",
      "File \u001b[1;32m~\\AppData\\Roaming\\Python\\Python39\\site-packages\\tensorflow\\python\\eager\\def_function.py:947\u001b[0m, in \u001b[0;36mFunction._call\u001b[1;34m(self, *args, **kwds)\u001b[0m\n\u001b[0;32m    944\u001b[0m   \u001b[39mself\u001b[39m\u001b[39m.\u001b[39m_lock\u001b[39m.\u001b[39mrelease()\n\u001b[0;32m    945\u001b[0m   \u001b[39m# In this case we have created variables on the first call, so we run the\u001b[39;00m\n\u001b[0;32m    946\u001b[0m   \u001b[39m# defunned version which is guaranteed to never create variables.\u001b[39;00m\n\u001b[1;32m--> 947\u001b[0m   \u001b[39mreturn\u001b[39;00m \u001b[39mself\u001b[39m\u001b[39m.\u001b[39m_stateless_fn(\u001b[39m*\u001b[39margs, \u001b[39m*\u001b[39m\u001b[39m*\u001b[39mkwds)  \u001b[39m# pylint: disable=not-callable\u001b[39;00m\n\u001b[0;32m    948\u001b[0m \u001b[39melif\u001b[39;00m \u001b[39mself\u001b[39m\u001b[39m.\u001b[39m_stateful_fn \u001b[39mis\u001b[39;00m \u001b[39mnot\u001b[39;00m \u001b[39mNone\u001b[39;00m:\n\u001b[0;32m    949\u001b[0m   \u001b[39m# Release the lock early so that multiple threads can perform the call\u001b[39;00m\n\u001b[0;32m    950\u001b[0m   \u001b[39m# in parallel.\u001b[39;00m\n\u001b[0;32m    951\u001b[0m   \u001b[39mself\u001b[39m\u001b[39m.\u001b[39m_lock\u001b[39m.\u001b[39mrelease()\n",
      "File \u001b[1;32m~\\AppData\\Roaming\\Python\\Python39\\site-packages\\tensorflow\\python\\eager\\function.py:2453\u001b[0m, in \u001b[0;36mFunction.__call__\u001b[1;34m(self, *args, **kwargs)\u001b[0m\n\u001b[0;32m   2450\u001b[0m \u001b[39mwith\u001b[39;00m \u001b[39mself\u001b[39m\u001b[39m.\u001b[39m_lock:\n\u001b[0;32m   2451\u001b[0m   (graph_function,\n\u001b[0;32m   2452\u001b[0m    filtered_flat_args) \u001b[39m=\u001b[39m \u001b[39mself\u001b[39m\u001b[39m.\u001b[39m_maybe_define_function(args, kwargs)\n\u001b[1;32m-> 2453\u001b[0m \u001b[39mreturn\u001b[39;00m graph_function\u001b[39m.\u001b[39;49m_call_flat(\n\u001b[0;32m   2454\u001b[0m     filtered_flat_args, captured_inputs\u001b[39m=\u001b[39;49mgraph_function\u001b[39m.\u001b[39;49mcaptured_inputs)\n",
      "File \u001b[1;32m~\\AppData\\Roaming\\Python\\Python39\\site-packages\\tensorflow\\python\\eager\\function.py:1860\u001b[0m, in \u001b[0;36mConcreteFunction._call_flat\u001b[1;34m(self, args, captured_inputs, cancellation_manager)\u001b[0m\n\u001b[0;32m   1856\u001b[0m possible_gradient_type \u001b[39m=\u001b[39m gradients_util\u001b[39m.\u001b[39mPossibleTapeGradientTypes(args)\n\u001b[0;32m   1857\u001b[0m \u001b[39mif\u001b[39;00m (possible_gradient_type \u001b[39m==\u001b[39m gradients_util\u001b[39m.\u001b[39mPOSSIBLE_GRADIENT_TYPES_NONE\n\u001b[0;32m   1858\u001b[0m     \u001b[39mand\u001b[39;00m executing_eagerly):\n\u001b[0;32m   1859\u001b[0m   \u001b[39m# No tape is watching; skip to running the function.\u001b[39;00m\n\u001b[1;32m-> 1860\u001b[0m   \u001b[39mreturn\u001b[39;00m \u001b[39mself\u001b[39m\u001b[39m.\u001b[39m_build_call_outputs(\u001b[39mself\u001b[39;49m\u001b[39m.\u001b[39;49m_inference_function\u001b[39m.\u001b[39;49mcall(\n\u001b[0;32m   1861\u001b[0m       ctx, args, cancellation_manager\u001b[39m=\u001b[39;49mcancellation_manager))\n\u001b[0;32m   1862\u001b[0m forward_backward \u001b[39m=\u001b[39m \u001b[39mself\u001b[39m\u001b[39m.\u001b[39m_select_forward_and_backward_functions(\n\u001b[0;32m   1863\u001b[0m     args,\n\u001b[0;32m   1864\u001b[0m     possible_gradient_type,\n\u001b[0;32m   1865\u001b[0m     executing_eagerly)\n\u001b[0;32m   1866\u001b[0m forward_function, args_with_tangents \u001b[39m=\u001b[39m forward_backward\u001b[39m.\u001b[39mforward()\n",
      "File \u001b[1;32m~\\AppData\\Roaming\\Python\\Python39\\site-packages\\tensorflow\\python\\eager\\function.py:497\u001b[0m, in \u001b[0;36m_EagerDefinedFunction.call\u001b[1;34m(self, ctx, args, cancellation_manager)\u001b[0m\n\u001b[0;32m    495\u001b[0m \u001b[39mwith\u001b[39;00m _InterpolateFunctionError(\u001b[39mself\u001b[39m):\n\u001b[0;32m    496\u001b[0m   \u001b[39mif\u001b[39;00m cancellation_manager \u001b[39mis\u001b[39;00m \u001b[39mNone\u001b[39;00m:\n\u001b[1;32m--> 497\u001b[0m     outputs \u001b[39m=\u001b[39m execute\u001b[39m.\u001b[39;49mexecute(\n\u001b[0;32m    498\u001b[0m         \u001b[39mstr\u001b[39;49m(\u001b[39mself\u001b[39;49m\u001b[39m.\u001b[39;49msignature\u001b[39m.\u001b[39;49mname),\n\u001b[0;32m    499\u001b[0m         num_outputs\u001b[39m=\u001b[39;49m\u001b[39mself\u001b[39;49m\u001b[39m.\u001b[39;49m_num_outputs,\n\u001b[0;32m    500\u001b[0m         inputs\u001b[39m=\u001b[39;49margs,\n\u001b[0;32m    501\u001b[0m         attrs\u001b[39m=\u001b[39;49mattrs,\n\u001b[0;32m    502\u001b[0m         ctx\u001b[39m=\u001b[39;49mctx)\n\u001b[0;32m    503\u001b[0m   \u001b[39melse\u001b[39;00m:\n\u001b[0;32m    504\u001b[0m     outputs \u001b[39m=\u001b[39m execute\u001b[39m.\u001b[39mexecute_with_cancellation(\n\u001b[0;32m    505\u001b[0m         \u001b[39mstr\u001b[39m(\u001b[39mself\u001b[39m\u001b[39m.\u001b[39msignature\u001b[39m.\u001b[39mname),\n\u001b[0;32m    506\u001b[0m         num_outputs\u001b[39m=\u001b[39m\u001b[39mself\u001b[39m\u001b[39m.\u001b[39m_num_outputs,\n\u001b[1;32m   (...)\u001b[0m\n\u001b[0;32m    509\u001b[0m         ctx\u001b[39m=\u001b[39mctx,\n\u001b[0;32m    510\u001b[0m         cancellation_manager\u001b[39m=\u001b[39mcancellation_manager)\n",
      "File \u001b[1;32m~\\AppData\\Roaming\\Python\\Python39\\site-packages\\tensorflow\\python\\eager\\execute.py:54\u001b[0m, in \u001b[0;36mquick_execute\u001b[1;34m(op_name, num_outputs, inputs, attrs, ctx, name)\u001b[0m\n\u001b[0;32m     52\u001b[0m \u001b[39mtry\u001b[39;00m:\n\u001b[0;32m     53\u001b[0m   ctx\u001b[39m.\u001b[39mensure_initialized()\n\u001b[1;32m---> 54\u001b[0m   tensors \u001b[39m=\u001b[39m pywrap_tfe\u001b[39m.\u001b[39;49mTFE_Py_Execute(ctx\u001b[39m.\u001b[39;49m_handle, device_name, op_name,\n\u001b[0;32m     55\u001b[0m                                       inputs, attrs, num_outputs)\n\u001b[0;32m     56\u001b[0m \u001b[39mexcept\u001b[39;00m core\u001b[39m.\u001b[39m_NotOkStatusException \u001b[39mas\u001b[39;00m e:\n\u001b[0;32m     57\u001b[0m   \u001b[39mif\u001b[39;00m name \u001b[39mis\u001b[39;00m \u001b[39mnot\u001b[39;00m \u001b[39mNone\u001b[39;00m:\n",
      "\u001b[1;31mKeyboardInterrupt\u001b[0m: "
     ]
    }
   ],
   "source": [
    "history = model.fit(training_data, training_labels, epochs=250, batch_size=16, verbose=1, shuffle=True, validation_data=(valid_data, valid_labels))"
   ]
  },
  {
   "cell_type": "code",
   "execution_count": null,
   "metadata": {},
   "outputs": [
    {
     "data": {
      "image/png": "[encoded data removed]",
      "text/plain": [
       "<Figure size 432x288 with 1 Axes>"
      ]
     },
     "metadata": {
      "needs_background": "light"
     },
     "output_type": "display_data"
    },
    {
     "data": {
      "image/png": "[encoded data removed]",
      "text/plain": [
       "<Figure size 432x288 with 1 Axes>"
      ]
     },
     "metadata": {
      "needs_background": "light"
     },
     "output_type": "display_data"
    }
   ],
   "source": [
    "import matplotlib.pyplot as plt\n",
    "\n",
    "# Plot utility\n",
    "def plot_graphs(history, string):\n",
    "  plt.plot(history.history[string])\n",
    "  plt.plot(history.history['val_'+string])\n",
    "  plt.xlabel(\"Epochs\")\n",
    "  plt.ylabel(string)\n",
    "  plt.show()\n",
    "\n",
    "# Visualize the accuracy\n",
    "plot_graphs(history, 'accuracy')\n",
    "plot_graphs(history, 'loss')"
   ]
  },
  {
   "cell_type": "code",
   "execution_count": null,
   "metadata": {},
   "outputs": [
    {
     "name": "stdout",
     "output_type": "stream",
     "text": [
      "3/3 [==============================] - 0s 13ms/step - loss: 1.2909 - accuracy: 0.3472\n"
     ]
    },
    {
     "data": {
      "text/plain": [
       "[1.2908666133880615, 0.3472222089767456]"
      ]
     },
     "execution_count": 26,
     "metadata": {},
     "output_type": "execute_result"
    }
   ],
   "source": [
    "model.evaluate(test_data, test_labels)"
   ]
  },
  {
   "cell_type": "code",
   "execution_count": null,
   "metadata": {},
   "outputs": [],
   "source": [
    "model.save('../models/test_lstm.h5')"
   ]
  }
 ],
 "metadata": {
  "kernelspec": {
   "display_name": "Python 3.9.0 64-bit",
   "language": "python",
   "name": "python3"
  },
  "language_info": {
   "codemirror_mode": {
    "name": "ipython",
    "version": 3
   },
   "file_extension": ".py",
   "mimetype": "text/x-python",
   "name": "python",
   "nbconvert_exporter": "python",
   "pygments_lexer": "ipython3",
   "version": "3.9.0"
  },
  "orig_nbformat": 4,
  "vscode": {
   "interpreter": {
    "hash": "11938c6bc6919ae2720b4d5011047913343b08a43b18698fd82dedb0d4417594"
   }
  }
 },
 "nbformat": 4,
 "nbformat_minor": 2
}
