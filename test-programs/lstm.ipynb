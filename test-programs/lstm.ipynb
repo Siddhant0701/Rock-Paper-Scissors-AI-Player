{
 "cells": [
  {
   "cell_type": "code",
   "execution_count": 1,
   "metadata": {},
   "outputs": [],
   "source": [
    "import tensorflow as tf\n",
    "from tensorflow import keras\n",
    "from random import shuffle\n",
    "import numpy as np\n",
    "import csv"
   ]
  },
  {
   "cell_type": "code",
   "execution_count": 24,
   "metadata": {},
   "outputs": [],
   "source": [
    "dict = {\n",
    "    0: \"Rock\",\n",
    "    1: \"Paper\",\n",
    "    2: \"Scissors\"\n",
    "}"
   ]
  },
  {
   "cell_type": "code",
   "execution_count": 39,
   "metadata": {},
   "outputs": [],
   "source": [
    "input_sequences = []\n",
    "labels = []\n",
    "\n",
    "maxlen = 6\n",
    "split = 0.7\n",
    "\n",
    "with open('../data/collected.csv', 'r') as csvfile:\n",
    "    reader = csv.reader(csvfile)\n",
    "\n",
    "    next(reader)\n",
    "\n",
    "    for row in reader:\n",
    "        inputs = [int(char) for char in row[2]]\n",
    "        for i in range(1, len(inputs)+1):\n",
    "            input_sequences.append(inputs[:i+1])\n"
   ]
  },
  {
   "cell_type": "code",
   "execution_count": 40,
   "metadata": {},
   "outputs": [],
   "source": [
    "input_sequences = keras.preprocessing.sequence.pad_sequences(input_sequences, maxlen=maxlen+1)\n",
    "\n",
    "inputs,labels = input_sequences[:,:-1], input_sequences[:,-1]\n",
    "\n",
    "labels = labels-1"
   ]
  },
  {
   "cell_type": "code",
   "execution_count": 44,
   "metadata": {},
   "outputs": [
    {
     "data": {
      "text/plain": [
       "(array([[0, 0, 0, 0, 0, 3],\n",
       "        [0, 0, 0, 0, 3, 2],\n",
       "        [0, 0, 0, 3, 2, 2],\n",
       "        ...,\n",
       "        [3, 3, 3, 2, 2, 1],\n",
       "        [3, 3, 2, 2, 1, 1],\n",
       "        [3, 3, 2, 2, 1, 1]]),\n",
       " array([1, 1, 1, 1, 1, 1, 0, 0, 2, 1, 1, 0, 2, 1, 1, 1, 1, 0, 0, 0, 0, 2,\n",
       "        2, 1, 1, 1, 0, 0, 0, 0, 0, 2, 2, 1, 1, 1, 1, 1, 1, 1, 0, 0, 2, 0,\n",
       "        1, 2, 2, 1, 1, 1, 0, 0, 0, 0, 2, 2, 1, 0, 0, 2, 1, 1, 0, 2, 1, 1,\n",
       "        1, 0, 0, 2, 1, 0, 2, 1, 0, 2, 2, 2, 1, 0, 2, 2, 1, 0, 0, 0, 2, 2,\n",
       "        2, 1, 1, 1, 1, 1, 0, 0, 2, 1, 1, 1, 2, 1, 1, 0, 2, 1, 1, 2, 1, 0,\n",
       "        0, 1, 0, 2, 1, 2, 2, 2, 1, 0, 1, 0, 0, 1, 0, 2, 0, 0, 1, 0, 1, 1,\n",
       "        0, 0, 1, 0, 2, 1, 1, 2, 0, 2, 1, 2, 0, 2, 1, 2, 0, 2, 1, 2, 0, 2,\n",
       "        1, 2, 0, 1, 0, 1, 2, 1, 2, 0, 1, 0, 2, 0, 0, 1, 0, 2, 0, 0, 1, 1,\n",
       "        1, 2, 0, 0, 1, 0, 2, 1, 0, 2, 2, 2, 1, 2, 2, 0, 0, 1, 0, 2, 1, 0,\n",
       "        1, 1, 0, 2, 0, 1, 2, 0, 0, 0, 2, 1, 2, 1, 1, 0, 2, 1, 2, 0, 2, 1,\n",
       "        2, 2, 0, 0, 2, 2, 2, 2, 2, 1, 2, 0, 2, 1, 0, 1, 1, 0, 2, 1, 2, 0,\n",
       "        2, 2, 2, 1, 2, 0, 0, 1, 1, 2, 0, 0, 1, 1, 0, 0, 1, 2, 1, 0, 1, 0,\n",
       "        0, 1, 0, 0, 2, 1, 2, 0, 2, 2, 2, 1, 1, 2, 2, 1, 2, 2, 0, 0, 1, 0,\n",
       "        0, 2, 1, 2, 2, 1, 1, 1, 2, 1, 1, 2, 1, 1, 1, 1, 2, 1, 2, 0, 0, 1,\n",
       "        2, 0, 1, 1, 0, 0, 0, 1, 0, 2, 1, 2, 1, 2, 2, 2, 0, 2, 0, 0, 2, 1,\n",
       "        2, 2, 0, 0, 2, 1, 2, 0, 0, 0, 0, 0, 0, 0, 2, 1, 0, 0, 2, 2, 2, 2,\n",
       "        1, 0, 1, 2, 2, 1, 2, 0, 1, 1, 0, 0, 2, 2, 1, 0, 0, 1, 2, 1, 2, 1,\n",
       "        0, 0, 1, 2, 2, 1, 0, 1, 2, 2, 1, 1, 0, 1, 2, 0, 1, 2, 1, 2, 0, 1,\n",
       "        2, 2, 0, 1, 2, 2, 1, 0, 2, 2, 0, 1, 2, 1, 2, 2, 1, 2, 2, 0, 1, 2,\n",
       "        0, 1, 2, 0, 2, 1, 0, 1, 2, 0, 1, 2, 2, 1, 2, 0, 0, 1, 2, 2, 0, 0,\n",
       "        0, 0, 1, 1, 2, 2, 2, 1, 2, 0, 0, 1, 2, 0, 0, 0, 0, 2, 0, 0, 0, 2,\n",
       "        2, 1, 0, 0, 0, 2, 0, 1, 1, 2, 0, 0, 2, 1, 1, 0, 0, 0, 2, 2, 1, 1,\n",
       "        0, 0, 0, 2, 2, 2, 0, 1, 2, 2, 0, 2, 0, 1, 1, 2, 0, 2, 2, 1, 0, 2,\n",
       "        2, 2, 2, 2, 1, 0, 1, 1, 0, 0, 0, 0, 0, 0, 2, 1, 2, 0, 2, 1, 2, 2,\n",
       "        1, 0, 1, 2, 1, 0, 0, 2, 1, 0, 0, 1, 2, 2, 1, 0, 0, 1, 2, 2, 2, 1,\n",
       "        2, 0, 1, 2, 0, 1, 2, 0, 1, 2, 0, 1, 2, 2, 1, 0, 0, 1, 2, 1, 0, 2,\n",
       "        1, 1, 1, 1, 0, 1, 2, 2, 1, 0, 1, 0, 2, 0, 1, 2, 1, 0, 0, 0, 0, 0,\n",
       "        0, 0, 0, 1, 1, 1, 1, 1, 1, 2, 2, 2, 2, 2, 0, 1, 2, 0, 1, 2, 1, 2,\n",
       "        0, 0, 2, 1, 2, 1, 0, 1, 2, 0, 0, 0, 1, 2, 2, 1, 1, 0, 0, 0, 1, 1,\n",
       "        1, 2, 2, 2, 2, 1, 1, 0, 0, 1, 1]))"
      ]
     },
     "execution_count": 44,
     "metadata": {},
     "output_type": "execute_result"
    }
   ],
   "source": [
    "inputs, labels"
   ]
  },
  {
   "cell_type": "code",
   "execution_count": 45,
   "metadata": {},
   "outputs": [],
   "source": [
    "train_size = int(split * len(inputs))\n",
    "valid_size = int(((1+split)/2) * len(inputs))\n",
    "\n",
    "training_data, training_labels = inputs[:train_size], labels[:train_size]\n",
    "valid_data, valid_labels = inputs[train_size:valid_size], labels[train_size:valid_size]\n",
    "test_data, test_labels = inputs[valid_size:], labels[valid_size:]"
   ]
  },
  {
   "cell_type": "code",
   "execution_count": 46,
   "metadata": {},
   "outputs": [
    {
     "name": "stdout",
     "output_type": "stream",
     "text": [
      "Training data: (454, 6), (454,)\n",
      "Validation data: (97, 6), (97,)\n",
      "Test data: (98, 6), (98,)\n"
     ]
    }
   ],
   "source": [
    "print(f\"Training data: {training_data.shape}, {training_labels.shape}\")\n",
    "print(f\"Validation data: {valid_data.shape}, {valid_labels.shape}\")\n",
    "print(f\"Test data: {test_data.shape}, {test_labels.shape}\")"
   ]
  },
  {
   "cell_type": "code",
   "execution_count": 51,
   "metadata": {},
   "outputs": [],
   "source": [
    "model = tf.keras.Sequential([\n",
    "    tf.keras.layers.LSTM(200, return_sequences=True, input_shape=(maxlen, 1)),\n",
    "    tf.keras.layers.LSTM(200),\n",
    "\n",
    "    tf.keras.layers.Dense(128, activation='relu'),\n",
    "    tf.keras.layers.Dense(64, activation='relu'),\n",
    "    tf.keras.layers.Dense(3, activation='softmax')\n",
    "])"
   ]
  },
  {
   "cell_type": "code",
   "execution_count": 55,
   "metadata": {},
   "outputs": [],
   "source": [
    "optimizer=tf.keras.optimizers.SGD(learning_rate=5e-5, momentum=0.9)"
   ]
  },
  {
   "cell_type": "code",
   "execution_count": 56,
   "metadata": {},
   "outputs": [],
   "source": [
    "model.compile(optimizer=optimizer, loss='sparse_categorical_crossentropy', metrics=['accuracy'])"
   ]
  },
  {
   "cell_type": "code",
   "execution_count": 57,
   "metadata": {},
   "outputs": [
    {
     "name": "stdout",
     "output_type": "stream",
     "text": [
      "Epoch 1/50\n",
      "114/114 [==============================] - 11s 36ms/step - loss: 1.0987 - accuracy: 0.3348 - val_loss: 1.0987 - val_accuracy: 0.3505\n",
      "Epoch 2/50\n",
      "114/114 [==============================] - 3s 23ms/step - loss: 1.0987 - accuracy: 0.3216 - val_loss: 1.0991 - val_accuracy: 0.3299\n",
      "Epoch 3/50\n",
      "114/114 [==============================] - 3s 26ms/step - loss: 1.0985 - accuracy: 0.3370 - val_loss: 1.0995 - val_accuracy: 0.2680\n",
      "Epoch 4/50\n",
      "114/114 [==============================] - 3s 29ms/step - loss: 1.0985 - accuracy: 0.3458 - val_loss: 1.0997 - val_accuracy: 0.2680\n",
      "Epoch 5/50\n",
      "114/114 [==============================] - 3s 24ms/step - loss: 1.0984 - accuracy: 0.3436 - val_loss: 1.1002 - val_accuracy: 0.2474\n",
      "Epoch 6/50\n",
      "114/114 [==============================] - 4s 32ms/step - loss: 1.0984 - accuracy: 0.3480 - val_loss: 1.1003 - val_accuracy: 0.2474\n",
      "Epoch 7/50\n",
      "114/114 [==============================] - 3s 29ms/step - loss: 1.0984 - accuracy: 0.3370 - val_loss: 1.1005 - val_accuracy: 0.2371\n",
      "Epoch 8/50\n",
      "114/114 [==============================] - 3s 25ms/step - loss: 1.0984 - accuracy: 0.3480 - val_loss: 1.1010 - val_accuracy: 0.2474\n",
      "Epoch 9/50\n",
      "114/114 [==============================] - 3s 23ms/step - loss: 1.0983 - accuracy: 0.3502 - val_loss: 1.1011 - val_accuracy: 0.2474\n",
      "Epoch 10/50\n",
      "114/114 [==============================] - 3s 26ms/step - loss: 1.0983 - accuracy: 0.3480 - val_loss: 1.1014 - val_accuracy: 0.2474\n",
      "Epoch 11/50\n",
      "114/114 [==============================] - 3s 27ms/step - loss: 1.0983 - accuracy: 0.3480 - val_loss: 1.1012 - val_accuracy: 0.2474\n",
      "Epoch 12/50\n",
      "114/114 [==============================] - 3s 24ms/step - loss: 1.0982 - accuracy: 0.3480 - val_loss: 1.1017 - val_accuracy: 0.2474\n",
      "Epoch 13/50\n",
      "114/114 [==============================] - 3s 27ms/step - loss: 1.0982 - accuracy: 0.3480 - val_loss: 1.1017 - val_accuracy: 0.2474\n",
      "Epoch 14/50\n",
      "114/114 [==============================] - 3s 26ms/step - loss: 1.0982 - accuracy: 0.3480 - val_loss: 1.1020 - val_accuracy: 0.2474\n",
      "Epoch 15/50\n",
      "114/114 [==============================] - 2s 20ms/step - loss: 1.0982 - accuracy: 0.3480 - val_loss: 1.1023 - val_accuracy: 0.2474\n",
      "Epoch 16/50\n",
      "114/114 [==============================] - 3s 23ms/step - loss: 1.0982 - accuracy: 0.3480 - val_loss: 1.1024 - val_accuracy: 0.2474\n",
      "Epoch 17/50\n",
      "114/114 [==============================] - 4s 33ms/step - loss: 1.0982 - accuracy: 0.3480 - val_loss: 1.1022 - val_accuracy: 0.2474\n",
      "Epoch 18/50\n",
      "114/114 [==============================] - 3s 30ms/step - loss: 1.0981 - accuracy: 0.3480 - val_loss: 1.1023 - val_accuracy: 0.2474\n",
      "Epoch 19/50\n",
      "114/114 [==============================] - 3s 28ms/step - loss: 1.0982 - accuracy: 0.3480 - val_loss: 1.1027 - val_accuracy: 0.2474\n",
      "Epoch 20/50\n",
      "114/114 [==============================] - 5s 42ms/step - loss: 1.0981 - accuracy: 0.3480 - val_loss: 1.1027 - val_accuracy: 0.2474\n",
      "Epoch 21/50\n",
      "114/114 [==============================] - 4s 31ms/step - loss: 1.0981 - accuracy: 0.3480 - val_loss: 1.1025 - val_accuracy: 0.2474\n",
      "Epoch 22/50\n",
      "114/114 [==============================] - 3s 30ms/step - loss: 1.0981 - accuracy: 0.3480 - val_loss: 1.1028 - val_accuracy: 0.2474\n",
      "Epoch 23/50\n",
      "114/114 [==============================] - 4s 31ms/step - loss: 1.0981 - accuracy: 0.3480 - val_loss: 1.1029 - val_accuracy: 0.2474\n",
      "Epoch 24/50\n",
      "114/114 [==============================] - 3s 26ms/step - loss: 1.0980 - accuracy: 0.3480 - val_loss: 1.1030 - val_accuracy: 0.2474\n",
      "Epoch 25/50\n",
      "114/114 [==============================] - 3s 24ms/step - loss: 1.0981 - accuracy: 0.3480 - val_loss: 1.1034 - val_accuracy: 0.2474\n",
      "Epoch 26/50\n",
      "114/114 [==============================] - 2s 20ms/step - loss: 1.0980 - accuracy: 0.3480 - val_loss: 1.1031 - val_accuracy: 0.2474\n",
      "Epoch 27/50\n",
      "114/114 [==============================] - 2s 18ms/step - loss: 1.0981 - accuracy: 0.3480 - val_loss: 1.1033 - val_accuracy: 0.2474\n",
      "Epoch 28/50\n",
      "114/114 [==============================] - 2s 16ms/step - loss: 1.0981 - accuracy: 0.3480 - val_loss: 1.1035 - val_accuracy: 0.2474\n",
      "Epoch 29/50\n",
      "114/114 [==============================] - 2s 16ms/step - loss: 1.0980 - accuracy: 0.3480 - val_loss: 1.1036 - val_accuracy: 0.2474\n",
      "Epoch 30/50\n",
      "114/114 [==============================] - 2s 15ms/step - loss: 1.0980 - accuracy: 0.3480 - val_loss: 1.1036 - val_accuracy: 0.2474\n",
      "Epoch 31/50\n",
      "114/114 [==============================] - 2s 14ms/step - loss: 1.0980 - accuracy: 0.3480 - val_loss: 1.1038 - val_accuracy: 0.2474\n",
      "Epoch 32/50\n",
      "114/114 [==============================] - 2s 17ms/step - loss: 1.0980 - accuracy: 0.3480 - val_loss: 1.1036 - val_accuracy: 0.2474\n",
      "Epoch 33/50\n",
      "114/114 [==============================] - 2s 14ms/step - loss: 1.0980 - accuracy: 0.3480 - val_loss: 1.1037 - val_accuracy: 0.2474\n",
      "Epoch 34/50\n",
      "114/114 [==============================] - 2s 16ms/step - loss: 1.0980 - accuracy: 0.3480 - val_loss: 1.1037 - val_accuracy: 0.2474\n",
      "Epoch 35/50\n",
      "114/114 [==============================] - 2s 20ms/step - loss: 1.0980 - accuracy: 0.3480 - val_loss: 1.1039 - val_accuracy: 0.2474\n",
      "Epoch 36/50\n",
      "114/114 [==============================] - 2s 18ms/step - loss: 1.0980 - accuracy: 0.3480 - val_loss: 1.1039 - val_accuracy: 0.2474\n",
      "Epoch 37/50\n",
      "114/114 [==============================] - 2s 20ms/step - loss: 1.0980 - accuracy: 0.3480 - val_loss: 1.1038 - val_accuracy: 0.2474\n",
      "Epoch 38/50\n",
      "114/114 [==============================] - 2s 18ms/step - loss: 1.0979 - accuracy: 0.3480 - val_loss: 1.1041 - val_accuracy: 0.2474\n",
      "Epoch 39/50\n",
      "114/114 [==============================] - 2s 20ms/step - loss: 1.0979 - accuracy: 0.3480 - val_loss: 1.1039 - val_accuracy: 0.2474\n",
      "Epoch 40/50\n",
      "114/114 [==============================] - 2s 19ms/step - loss: 1.0980 - accuracy: 0.3480 - val_loss: 1.1042 - val_accuracy: 0.2474\n",
      "Epoch 41/50\n",
      "114/114 [==============================] - 2s 19ms/step - loss: 1.0980 - accuracy: 0.3480 - val_loss: 1.1041 - val_accuracy: 0.2474\n",
      "Epoch 42/50\n",
      "114/114 [==============================] - 2s 18ms/step - loss: 1.0980 - accuracy: 0.3480 - val_loss: 1.1037 - val_accuracy: 0.2474\n",
      "Epoch 43/50\n",
      "114/114 [==============================] - 2s 17ms/step - loss: 1.0980 - accuracy: 0.3480 - val_loss: 1.1042 - val_accuracy: 0.2474\n",
      "Epoch 44/50\n",
      "114/114 [==============================] - 2s 18ms/step - loss: 1.0980 - accuracy: 0.3480 - val_loss: 1.1042 - val_accuracy: 0.2474\n",
      "Epoch 45/50\n",
      "114/114 [==============================] - 2s 17ms/step - loss: 1.0979 - accuracy: 0.3480 - val_loss: 1.1041 - val_accuracy: 0.2474\n",
      "Epoch 46/50\n",
      "114/114 [==============================] - 2s 18ms/step - loss: 1.0980 - accuracy: 0.3480 - val_loss: 1.1041 - val_accuracy: 0.2474\n",
      "Epoch 47/50\n",
      "114/114 [==============================] - 2s 19ms/step - loss: 1.0979 - accuracy: 0.3480 - val_loss: 1.1042 - val_accuracy: 0.2474\n",
      "Epoch 48/50\n",
      "114/114 [==============================] - 2s 16ms/step - loss: 1.0980 - accuracy: 0.3480 - val_loss: 1.1042 - val_accuracy: 0.2474\n",
      "Epoch 49/50\n",
      "114/114 [==============================] - 2s 19ms/step - loss: 1.0979 - accuracy: 0.3480 - val_loss: 1.1043 - val_accuracy: 0.2474\n",
      "Epoch 50/50\n",
      "114/114 [==============================] - 2s 15ms/step - loss: 1.0980 - accuracy: 0.3480 - val_loss: 1.1044 - val_accuracy: 0.2474\n"
     ]
    }
   ],
   "source": [
    "history = model.fit(training_data, training_labels, epochs=50, batch_size=4, verbose=1, shuffle=True, validation_data=(valid_data, valid_labels))"
   ]
  },
  {
   "cell_type": "code",
   "execution_count": 34,
   "metadata": {},
   "outputs": [
    {
     "data": {
      "image/png": "[encoded data removed]",
      "text/plain": [
       "<Figure size 432x288 with 1 Axes>"
      ]
     },
     "metadata": {
      "needs_background": "light"
     },
     "output_type": "display_data"
    },
    {
     "data": {
      "image/png": "[encoded data removed]",
      "text/plain": [
       "<Figure size 432x288 with 1 Axes>"
      ]
     },
     "metadata": {
      "needs_background": "light"
     },
     "output_type": "display_data"
    }
   ],
   "source": [
    "import matplotlib.pyplot as plt\n",
    "\n",
    "# Plot utility\n",
    "def plot_graphs(history, string):\n",
    "  plt.plot(history.history[string])\n",
    "  plt.plot(history.history['val_'+string])\n",
    "  plt.xlabel(\"Epochs\")\n",
    "  plt.ylabel(string)\n",
    "  plt.show()\n",
    "\n",
    "# Visualize the accuracy\n",
    "plot_graphs(history, 'accuracy')\n",
    "plot_graphs(history, 'loss')"
   ]
  },
  {
   "cell_type": "code",
   "execution_count": 35,
   "metadata": {},
   "outputs": [
    {
     "name": "stdout",
     "output_type": "stream",
     "text": [
      "4/4 [==============================] - 0s 15ms/step - loss: 2.9426 - accuracy: 0.3265\n"
     ]
    },
    {
     "data": {
      "text/plain": [
       "[2.9425952434539795, 0.3265306055545807]"
      ]
     },
     "execution_count": 35,
     "metadata": {},
     "output_type": "execute_result"
    }
   ],
   "source": [
    "model.evaluate(test_data, test_labels)"
   ]
  },
  {
   "cell_type": "code",
   "execution_count": 63,
   "metadata": {},
   "outputs": [],
   "source": [
    "model.save('../models/test_lstm.h5')"
   ]
  }
 ],
 "metadata": {
  "kernelspec": {
   "display_name": "Python 3.9.0 64-bit",
   "language": "python",
   "name": "python3"
  },
  "language_info": {
   "codemirror_mode": {
    "name": "ipython",
    "version": 3
   },
   "file_extension": ".py",
   "mimetype": "text/x-python",
   "name": "python",
   "nbconvert_exporter": "python",
   "pygments_lexer": "ipython3",
   "version": "3.9.0"
  },
  "orig_nbformat": 4,
  "vscode": {
   "interpreter": {
    "hash": "11938c6bc6919ae2720b4d5011047913343b08a43b18698fd82dedb0d4417594"
   }
  }
 },
 "nbformat": 4,
 "nbformat_minor": 2
}
