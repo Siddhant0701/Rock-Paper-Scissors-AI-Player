{
 "cells": [
  {
   "cell_type": "code",
   "execution_count": 419,
   "metadata": {},
   "outputs": [],
   "source": [
    "import tensorflow as tf\n",
    "from tensorflow import keras\n",
    "from random import shuffle\n",
    "import numpy as np\n",
    "import csv"
   ]
  },
  {
   "cell_type": "code",
   "execution_count": 420,
   "metadata": {},
   "outputs": [],
   "source": [
    "dict = {\n",
    "    0: \"Rock\",\n",
    "    1: \"Paper\",\n",
    "    2: \"Scissors\"\n",
    "}"
   ]
  },
  {
   "cell_type": "code",
   "execution_count": 474,
   "metadata": {},
   "outputs": [],
   "source": [
    "player_sequences = []\n",
    "computer_sequences = []\n",
    "win_data = []\n",
    "\n",
    "labels = []\n",
    "\n",
    "maxlen = 4\n",
    "split = 0.7\n",
    "\n",
    "with open('../data/collected.csv', 'r') as csvfile:\n",
    "    reader = csv.reader(csvfile)\n",
    "\n",
    "    next(reader)\n",
    "\n",
    "    for row in reader:\n",
    "        inputs = [int(char) for char in row[2]]\n",
    "        for i in range(1, len(inputs)+1):\n",
    "            player_sequences.append(inputs[:i+1])\n",
    "        inputs = [int(char) for char in row[4]]\n",
    "        for i in range(1, len(inputs)+1):\n",
    "            computer_sequences.append(inputs[:i+1])\n",
    "        inputs = [(lambda x : 1 if x=='w' else (0 if x=='t' else -1))(char) for char in row[3]]\n",
    "        for i in range(1, len(inputs)+1):\n",
    "            win_data.append(inputs[:i+1])\n",
    "\n",
    "# s = '2002120021200212002120021200212002120021200212002120021200212002120021200212002120021200212002120021'\n",
    "# input = [int(i) for i in s]\n",
    "# for i in range(1, len(input)+1):\n",
    "#     player_sequences.append(input[:i+1])\n"
   ]
  },
  {
   "cell_type": "code",
   "execution_count": 475,
   "metadata": {},
   "outputs": [
    {
     "name": "stderr",
     "output_type": "stream",
     "text": [
      "C:\\Users\\mahaj\\AppData\\Roaming\\Python\\Python39\\site-packages\\numpy\\core\\fromnumeric.py:2007: VisibleDeprecationWarning: Creating an ndarray from ragged nested sequences (which is a list-or-tuple of lists-or-tuples-or ndarrays with different lengths or shapes) is deprecated. If you meant to do this, you must specify 'dtype=object' when creating the ndarray.\n",
      "  result = asarray(a).shape\n"
     ]
    },
    {
     "data": {
      "text/plain": [
       "((646,), (646,), (646,))"
      ]
     },
     "execution_count": 475,
     "metadata": {},
     "output_type": "execute_result"
    }
   ],
   "source": [
    "np.shape(player_sequences), np.shape(computer_sequences), np.shape(win_data)"
   ]
  },
  {
   "cell_type": "code",
   "execution_count": 476,
   "metadata": {},
   "outputs": [],
   "source": [
    "player_sequences = list(filter(lambda x : len(x) >= maxlen+1,player_sequences))\n",
    "computer_sequences = list(filter(lambda x : len(x) >= maxlen+1, computer_sequences))\n",
    "win_data = list(filter(lambda x : len(x) >= maxlen+1, win_data))"
   ]
  },
  {
   "cell_type": "code",
   "execution_count": 477,
   "metadata": {},
   "outputs": [],
   "source": [
    "player_sequences = list(map(lambda x: x[-maxlen-1:], player_sequences))\n",
    "computer_sequences = list(map(lambda x: x[-maxlen-1:], computer_sequences))\n",
    "win_data = list(map(lambda x: x[-maxlen-1:], win_data))"
   ]
  },
  {
   "cell_type": "code",
   "execution_count": 478,
   "metadata": {},
   "outputs": [
    {
     "data": {
      "text/plain": [
       "([[3, 2, 2, 2, 2],\n",
       "  [2, 2, 2, 2, 2],\n",
       "  [2, 2, 2, 2, 2],\n",
       "  [2, 2, 2, 2, 1],\n",
       "  [2, 2, 2, 1, 1]],\n",
       " [[2, 2, 2, 2, 2],\n",
       "  [2, 2, 2, 2, 2],\n",
       "  [2, 2, 2, 2, 1],\n",
       "  [2, 2, 2, 1, 2],\n",
       "  [2, 2, 1, 2, 3]],\n",
       " [[1, 0, 0, 0, 0],\n",
       "  [0, 0, 0, 0, 0],\n",
       "  [0, 0, 0, 0, 1],\n",
       "  [0, 0, 0, 1, -1],\n",
       "  [0, 0, 1, -1, 1]])"
      ]
     },
     "execution_count": 478,
     "metadata": {},
     "output_type": "execute_result"
    }
   ],
   "source": [
    "player_sequences[:5], computer_sequences[:5], win_data[:5]"
   ]
  },
  {
   "cell_type": "code",
   "execution_count": 479,
   "metadata": {},
   "outputs": [],
   "source": [
    "player_sequences, computer_sequences, win_data = np.array(player_sequences), np.array(computer_sequences), np.array(win_data)"
   ]
  },
  {
   "cell_type": "code",
   "execution_count": 480,
   "metadata": {},
   "outputs": [],
   "source": [
    "player_inputs, labels = player_sequences[:,:-1], player_sequences[:,-1]\n",
    "computer_inputs = computer_sequences[:,:-1]\n",
    "win_inputs = win_data[:,:-1]"
   ]
  },
  {
   "cell_type": "code",
   "execution_count": 481,
   "metadata": {},
   "outputs": [
    {
     "data": {
      "text/plain": [
       "((628, 4), (628, 4), (628, 4))"
      ]
     },
     "execution_count": 481,
     "metadata": {},
     "output_type": "execute_result"
    }
   ],
   "source": [
    "np.shape(player_inputs), np.shape(computer_inputs), np.shape(win_inputs)"
   ]
  },
  {
   "cell_type": "code",
   "execution_count": 482,
   "metadata": {},
   "outputs": [
    {
     "data": {
      "text/plain": [
       "(array([[3, 2, 2, 2],\n",
       "        [2, 2, 2, 2],\n",
       "        [2, 2, 2, 2],\n",
       "        [2, 2, 2, 2],\n",
       "        [2, 2, 2, 1]]),\n",
       " array([[2, 2, 2, 2],\n",
       "        [2, 2, 2, 2],\n",
       "        [2, 2, 2, 2],\n",
       "        [2, 2, 2, 1],\n",
       "        [2, 2, 1, 2]]),\n",
       " array([[ 1,  0,  0,  0],\n",
       "        [ 0,  0,  0,  0],\n",
       "        [ 0,  0,  0,  0],\n",
       "        [ 0,  0,  0,  1],\n",
       "        [ 0,  0,  1, -1]]))"
      ]
     },
     "execution_count": 482,
     "metadata": {},
     "output_type": "execute_result"
    }
   ],
   "source": [
    "player_inputs[:5], computer_inputs[:5], win_inputs[:5]"
   ]
  },
  {
   "cell_type": "code",
   "execution_count": 483,
   "metadata": {},
   "outputs": [],
   "source": [
    "inputs = np.stack((player_inputs, computer_inputs), axis=1)\n",
    "input_dim = 2"
   ]
  },
  {
   "cell_type": "code",
   "execution_count": 484,
   "metadata": {},
   "outputs": [
    {
     "data": {
      "text/plain": [
       "array([[[1. , 0.5, 0.5, 0.5],\n",
       "        [0.5, 0.5, 0.5, 0.5]],\n",
       "\n",
       "       [[0.5, 0.5, 0.5, 0.5],\n",
       "        [0.5, 0.5, 0.5, 0.5]],\n",
       "\n",
       "       [[0.5, 0.5, 0.5, 0.5],\n",
       "        [0.5, 0.5, 0.5, 0.5]],\n",
       "\n",
       "       ...,\n",
       "\n",
       "       [[1. , 0.5, 0.5, 0. ],\n",
       "        [0.5, 0. , 1. , 1. ]],\n",
       "\n",
       "       [[0.5, 0.5, 0. , 0. ],\n",
       "        [0. , 1. , 1. , 1. ]],\n",
       "\n",
       "       [[0.5, 0.5, 0. , 0. ],\n",
       "        [0. , 1. , 1. , 1. ]]])"
      ]
     },
     "execution_count": 484,
     "metadata": {},
     "output_type": "execute_result"
    }
   ],
   "source": [
    "inputs = inputs-1\n",
    "labels = labels-1\n",
    "\n",
    "inputs = inputs /2 \n",
    "inputs"
   ]
  },
  {
   "cell_type": "code",
   "execution_count": 485,
   "metadata": {},
   "outputs": [
    {
     "data": {
      "text/plain": [
       "(array([[[1. , 0.5, 0.5, 0.5],\n",
       "         [0.5, 0.5, 0.5, 0.5]],\n",
       " \n",
       "        [[0.5, 0.5, 0.5, 0.5],\n",
       "         [0.5, 0.5, 0.5, 0.5]],\n",
       " \n",
       "        [[0.5, 0.5, 0.5, 0.5],\n",
       "         [0.5, 0.5, 0.5, 0.5]],\n",
       " \n",
       "        [[0.5, 0.5, 0.5, 0.5],\n",
       "         [0.5, 0.5, 0.5, 0. ]],\n",
       " \n",
       "        [[0.5, 0.5, 0.5, 0. ],\n",
       "         [0.5, 0.5, 0. , 0.5]]]),\n",
       " array([1, 1, 1, 0, 0]))"
      ]
     },
     "execution_count": 485,
     "metadata": {},
     "output_type": "execute_result"
    }
   ],
   "source": [
    "inputs[:5], labels[:5]"
   ]
  },
  {
   "cell_type": "code",
   "execution_count": 486,
   "metadata": {},
   "outputs": [],
   "source": [
    "# np.shape(player_sequences), labels"
   ]
  },
  {
   "cell_type": "code",
   "execution_count": 487,
   "metadata": {},
   "outputs": [],
   "source": [
    "train_size = int(split * len(inputs))\n",
    "valid_size = int(((1+split)/2) * len(inputs))\n",
    "\n",
    "training_data, training_labels = inputs[:train_size], labels[:train_size]\n",
    "valid_data, valid_labels = inputs[train_size:valid_size], labels[train_size:valid_size]\n",
    "test_data, test_labels = inputs[valid_size:], labels[valid_size:]"
   ]
  },
  {
   "cell_type": "code",
   "execution_count": 488,
   "metadata": {},
   "outputs": [
    {
     "name": "stdout",
     "output_type": "stream",
     "text": [
      "Training data: (439, 2, 4), (439,)\n",
      "Validation data: (94, 2, 4), (94,)\n",
      "Test data: (95, 2, 4), (95,)\n"
     ]
    }
   ],
   "source": [
    "print(f\"Training data: {training_data.shape}, {training_labels.shape}\")\n",
    "print(f\"Validation data: {valid_data.shape}, {valid_labels.shape}\")\n",
    "print(f\"Test data: {test_data.shape}, {test_labels.shape}\")"
   ]
  },
  {
   "cell_type": "code",
   "execution_count": 489,
   "metadata": {},
   "outputs": [],
   "source": [
    "model = tf.keras.Sequential([\n",
    "    tf.keras.layers.LSTM(100, input_shape=(input_dim, maxlen)),\n",
    "    # tf.keras.layers.LSTM(100),\n",
    "    \n",
    "    # tf.keras.layers.Dense(64, activation='relu'),\n",
    "    tf.keras.layers.Dense(3, activation='softmax')\n",
    "])"
   ]
  },
  {
   "cell_type": "code",
   "execution_count": 490,
   "metadata": {},
   "outputs": [],
   "source": [
    "optimizer=tf.keras.optimizers.SGD(learning_rate=0.001, momentum=0.9)"
   ]
  },
  {
   "cell_type": "code",
   "execution_count": 491,
   "metadata": {},
   "outputs": [],
   "source": [
    "model.compile(optimizer=optimizer, loss='sparse_categorical_crossentropy', metrics=['accuracy'])"
   ]
  },
  {
   "cell_type": "code",
   "execution_count": 492,
   "metadata": {},
   "outputs": [
    {
     "name": "stdout",
     "output_type": "stream",
     "text": [
      "Epoch 1/200\n",
      "28/28 [==============================] - 9s 89ms/step - loss: 1.0975 - accuracy: 0.3759 - val_loss: 1.0999 - val_accuracy: 0.2872\n",
      "Epoch 2/200\n",
      "28/28 [==============================] - 0s 17ms/step - loss: 1.0973 - accuracy: 0.3554 - val_loss: 1.1003 - val_accuracy: 0.2660\n",
      "Epoch 3/200\n",
      "28/28 [==============================] - 0s 16ms/step - loss: 1.0973 - accuracy: 0.3485 - val_loss: 1.1003 - val_accuracy: 0.2660\n",
      "Epoch 4/200\n",
      "28/28 [==============================] - 0s 12ms/step - loss: 1.0970 - accuracy: 0.3645 - val_loss: 1.1002 - val_accuracy: 0.2553\n",
      "Epoch 5/200\n",
      "28/28 [==============================] - 0s 11ms/step - loss: 1.0969 - accuracy: 0.3690 - val_loss: 1.1003 - val_accuracy: 0.2553\n",
      "Epoch 6/200\n",
      "28/28 [==============================] - 0s 13ms/step - loss: 1.0968 - accuracy: 0.3736 - val_loss: 1.0999 - val_accuracy: 0.2553\n",
      "Epoch 7/200\n",
      "28/28 [==============================] - 0s 12ms/step - loss: 1.0967 - accuracy: 0.3872 - val_loss: 1.1001 - val_accuracy: 0.2553\n",
      "Epoch 8/200\n",
      "28/28 [==============================] - 0s 11ms/step - loss: 1.0966 - accuracy: 0.3781 - val_loss: 1.1000 - val_accuracy: 0.2447\n",
      "Epoch 9/200\n",
      "28/28 [==============================] - 0s 11ms/step - loss: 1.0962 - accuracy: 0.3804 - val_loss: 1.1000 - val_accuracy: 0.2660\n",
      "Epoch 10/200\n",
      "28/28 [==============================] - 0s 12ms/step - loss: 1.0963 - accuracy: 0.3713 - val_loss: 1.1001 - val_accuracy: 0.2766\n",
      "Epoch 11/200\n",
      "28/28 [==============================] - 0s 12ms/step - loss: 1.0961 - accuracy: 0.3713 - val_loss: 1.1000 - val_accuracy: 0.2766\n",
      "Epoch 12/200\n",
      "28/28 [==============================] - 0s 13ms/step - loss: 1.0960 - accuracy: 0.3850 - val_loss: 1.0993 - val_accuracy: 0.3298\n",
      "Epoch 13/200\n",
      "28/28 [==============================] - 0s 10ms/step - loss: 1.0959 - accuracy: 0.3804 - val_loss: 1.0995 - val_accuracy: 0.2979\n",
      "Epoch 14/200\n",
      "28/28 [==============================] - 0s 12ms/step - loss: 1.0959 - accuracy: 0.3736 - val_loss: 1.1006 - val_accuracy: 0.2660\n",
      "Epoch 15/200\n",
      "28/28 [==============================] - 0s 10ms/step - loss: 1.0956 - accuracy: 0.3759 - val_loss: 1.1003 - val_accuracy: 0.2553\n",
      "Epoch 16/200\n",
      "28/28 [==============================] - 0s 11ms/step - loss: 1.0955 - accuracy: 0.3759 - val_loss: 1.0996 - val_accuracy: 0.2872\n",
      "Epoch 17/200\n",
      "28/28 [==============================] - 0s 11ms/step - loss: 1.0955 - accuracy: 0.4123 - val_loss: 1.0994 - val_accuracy: 0.3298\n",
      "Epoch 18/200\n",
      "28/28 [==============================] - 0s 12ms/step - loss: 1.0953 - accuracy: 0.4146 - val_loss: 1.1000 - val_accuracy: 0.2766\n",
      "Epoch 19/200\n",
      "28/28 [==============================] - 0s 10ms/step - loss: 1.0953 - accuracy: 0.3850 - val_loss: 1.0995 - val_accuracy: 0.3085\n",
      "Epoch 20/200\n",
      "28/28 [==============================] - 0s 10ms/step - loss: 1.0952 - accuracy: 0.3872 - val_loss: 1.1005 - val_accuracy: 0.2553\n",
      "Epoch 21/200\n",
      "28/28 [==============================] - 0s 11ms/step - loss: 1.0949 - accuracy: 0.4077 - val_loss: 1.0995 - val_accuracy: 0.3298\n",
      "Epoch 22/200\n",
      "28/28 [==============================] - 0s 18ms/step - loss: 1.0948 - accuracy: 0.3895 - val_loss: 1.1000 - val_accuracy: 0.3085\n",
      "Epoch 23/200\n",
      "28/28 [==============================] - 0s 13ms/step - loss: 1.0946 - accuracy: 0.3895 - val_loss: 1.1003 - val_accuracy: 0.2872\n",
      "Epoch 24/200\n",
      "28/28 [==============================] - 0s 18ms/step - loss: 1.0945 - accuracy: 0.4077 - val_loss: 1.0997 - val_accuracy: 0.3298\n",
      "Epoch 25/200\n",
      "28/28 [==============================] - 0s 14ms/step - loss: 1.0945 - accuracy: 0.4055 - val_loss: 1.0998 - val_accuracy: 0.3404\n",
      "Epoch 26/200\n",
      "28/28 [==============================] - 0s 11ms/step - loss: 1.0942 - accuracy: 0.4123 - val_loss: 1.0998 - val_accuracy: 0.3511\n",
      "Epoch 27/200\n",
      "28/28 [==============================] - 0s 11ms/step - loss: 1.0943 - accuracy: 0.4191 - val_loss: 1.0993 - val_accuracy: 0.3511\n",
      "Epoch 28/200\n",
      "28/28 [==============================] - 0s 11ms/step - loss: 1.0940 - accuracy: 0.4100 - val_loss: 1.1004 - val_accuracy: 0.2979\n",
      "Epoch 29/200\n",
      "28/28 [==============================] - 0s 11ms/step - loss: 1.0939 - accuracy: 0.4100 - val_loss: 1.1000 - val_accuracy: 0.3298\n",
      "Epoch 30/200\n",
      "28/28 [==============================] - 0s 9ms/step - loss: 1.0938 - accuracy: 0.4055 - val_loss: 1.1005 - val_accuracy: 0.2979\n",
      "Epoch 31/200\n",
      "28/28 [==============================] - 0s 12ms/step - loss: 1.0937 - accuracy: 0.3941 - val_loss: 1.1008 - val_accuracy: 0.2979\n",
      "Epoch 32/200\n",
      "28/28 [==============================] - 0s 12ms/step - loss: 1.0936 - accuracy: 0.4032 - val_loss: 1.1006 - val_accuracy: 0.2979\n",
      "Epoch 33/200\n",
      "28/28 [==============================] - 0s 13ms/step - loss: 1.0934 - accuracy: 0.4077 - val_loss: 1.1002 - val_accuracy: 0.3191\n",
      "Epoch 34/200\n",
      "28/28 [==============================] - 0s 10ms/step - loss: 1.0936 - accuracy: 0.3872 - val_loss: 1.1007 - val_accuracy: 0.2979\n",
      "Epoch 35/200\n",
      "28/28 [==============================] - 0s 10ms/step - loss: 1.0933 - accuracy: 0.4169 - val_loss: 1.0999 - val_accuracy: 0.3298\n",
      "Epoch 36/200\n",
      "28/28 [==============================] - 0s 10ms/step - loss: 1.0930 - accuracy: 0.4146 - val_loss: 1.1001 - val_accuracy: 0.3298\n",
      "Epoch 37/200\n",
      "28/28 [==============================] - 0s 15ms/step - loss: 1.0930 - accuracy: 0.4214 - val_loss: 1.1000 - val_accuracy: 0.3298\n",
      "Epoch 38/200\n",
      "28/28 [==============================] - 0s 13ms/step - loss: 1.0928 - accuracy: 0.4237 - val_loss: 1.0999 - val_accuracy: 0.3191\n",
      "Epoch 39/200\n",
      "28/28 [==============================] - 0s 11ms/step - loss: 1.0927 - accuracy: 0.4191 - val_loss: 1.0998 - val_accuracy: 0.3191\n",
      "Epoch 40/200\n",
      "28/28 [==============================] - 0s 10ms/step - loss: 1.0926 - accuracy: 0.4214 - val_loss: 1.1001 - val_accuracy: 0.3298\n",
      "Epoch 41/200\n",
      "28/28 [==============================] - 0s 12ms/step - loss: 1.0927 - accuracy: 0.4169 - val_loss: 1.1009 - val_accuracy: 0.3085\n",
      "Epoch 42/200\n",
      "28/28 [==============================] - 0s 10ms/step - loss: 1.0924 - accuracy: 0.4123 - val_loss: 1.1003 - val_accuracy: 0.3298\n",
      "Epoch 43/200\n",
      "28/28 [==============================] - 0s 10ms/step - loss: 1.0924 - accuracy: 0.4214 - val_loss: 1.1008 - val_accuracy: 0.3085\n",
      "Epoch 44/200\n",
      "28/28 [==============================] - 0s 10ms/step - loss: 1.0922 - accuracy: 0.4191 - val_loss: 1.0997 - val_accuracy: 0.3298\n",
      "Epoch 45/200\n",
      "28/28 [==============================] - 0s 12ms/step - loss: 1.0921 - accuracy: 0.4305 - val_loss: 1.0996 - val_accuracy: 0.3298\n",
      "Epoch 46/200\n",
      "28/28 [==============================] - 0s 10ms/step - loss: 1.0920 - accuracy: 0.4351 - val_loss: 1.0995 - val_accuracy: 0.3298\n",
      "Epoch 47/200\n",
      "28/28 [==============================] - 0s 9ms/step - loss: 1.0919 - accuracy: 0.4260 - val_loss: 1.0994 - val_accuracy: 0.3298\n",
      "Epoch 48/200\n",
      "28/28 [==============================] - 0s 11ms/step - loss: 1.0918 - accuracy: 0.4305 - val_loss: 1.0991 - val_accuracy: 0.3298\n",
      "Epoch 49/200\n",
      "28/28 [==============================] - 0s 11ms/step - loss: 1.0917 - accuracy: 0.4351 - val_loss: 1.0996 - val_accuracy: 0.3298\n",
      "Epoch 50/200\n",
      "28/28 [==============================] - 0s 10ms/step - loss: 1.0915 - accuracy: 0.4282 - val_loss: 1.0997 - val_accuracy: 0.3298\n",
      "Epoch 51/200\n",
      "28/28 [==============================] - 0s 9ms/step - loss: 1.0915 - accuracy: 0.4442 - val_loss: 1.0994 - val_accuracy: 0.3085\n",
      "Epoch 52/200\n",
      "28/28 [==============================] - 0s 10ms/step - loss: 1.0914 - accuracy: 0.4374 - val_loss: 1.0996 - val_accuracy: 0.3085\n",
      "Epoch 53/200\n",
      "28/28 [==============================] - 0s 12ms/step - loss: 1.0912 - accuracy: 0.4374 - val_loss: 1.0994 - val_accuracy: 0.3191\n",
      "Epoch 54/200\n",
      "28/28 [==============================] - 0s 13ms/step - loss: 1.0912 - accuracy: 0.4374 - val_loss: 1.0991 - val_accuracy: 0.3191\n",
      "Epoch 55/200\n",
      "28/28 [==============================] - 0s 12ms/step - loss: 1.0912 - accuracy: 0.4351 - val_loss: 1.0992 - val_accuracy: 0.3191\n",
      "Epoch 56/200\n",
      "28/28 [==============================] - 0s 10ms/step - loss: 1.0912 - accuracy: 0.4328 - val_loss: 1.0991 - val_accuracy: 0.3404\n",
      "Epoch 57/200\n",
      "28/28 [==============================] - 0s 9ms/step - loss: 1.0910 - accuracy: 0.4351 - val_loss: 1.0990 - val_accuracy: 0.3191\n",
      "Epoch 58/200\n",
      "28/28 [==============================] - 0s 12ms/step - loss: 1.0908 - accuracy: 0.4396 - val_loss: 1.1000 - val_accuracy: 0.3298\n",
      "Epoch 59/200\n",
      "28/28 [==============================] - 0s 10ms/step - loss: 1.0907 - accuracy: 0.4260 - val_loss: 1.0996 - val_accuracy: 0.3404\n",
      "Epoch 60/200\n",
      "28/28 [==============================] - 0s 10ms/step - loss: 1.0906 - accuracy: 0.4214 - val_loss: 1.0995 - val_accuracy: 0.3298\n",
      "Epoch 61/200\n",
      "28/28 [==============================] - 0s 11ms/step - loss: 1.0905 - accuracy: 0.4328 - val_loss: 1.0996 - val_accuracy: 0.3191\n",
      "Epoch 62/200\n",
      "28/28 [==============================] - 0s 14ms/step - loss: 1.0904 - accuracy: 0.4305 - val_loss: 1.1000 - val_accuracy: 0.3191\n",
      "Epoch 63/200\n",
      "28/28 [==============================] - 0s 10ms/step - loss: 1.0906 - accuracy: 0.4374 - val_loss: 1.0990 - val_accuracy: 0.3298\n",
      "Epoch 64/200\n",
      "28/28 [==============================] - 0s 10ms/step - loss: 1.0902 - accuracy: 0.4282 - val_loss: 1.1000 - val_accuracy: 0.3404\n",
      "Epoch 65/200\n",
      "28/28 [==============================] - 0s 13ms/step - loss: 1.0902 - accuracy: 0.4169 - val_loss: 1.0998 - val_accuracy: 0.3404\n",
      "Epoch 66/200\n",
      "28/28 [==============================] - 0s 11ms/step - loss: 1.0900 - accuracy: 0.4282 - val_loss: 1.0999 - val_accuracy: 0.3404\n",
      "Epoch 67/200\n",
      "28/28 [==============================] - 0s 10ms/step - loss: 1.0898 - accuracy: 0.4214 - val_loss: 1.0997 - val_accuracy: 0.3298\n",
      "Epoch 68/200\n",
      "28/28 [==============================] - 0s 9ms/step - loss: 1.0897 - accuracy: 0.4305 - val_loss: 1.0992 - val_accuracy: 0.3404\n",
      "Epoch 69/200\n",
      "28/28 [==============================] - 0s 11ms/step - loss: 1.0896 - accuracy: 0.4396 - val_loss: 1.0994 - val_accuracy: 0.3191\n",
      "Epoch 70/200\n",
      "28/28 [==============================] - 0s 14ms/step - loss: 1.0896 - accuracy: 0.4396 - val_loss: 1.0997 - val_accuracy: 0.3191\n",
      "Epoch 71/200\n",
      "28/28 [==============================] - 0s 11ms/step - loss: 1.0902 - accuracy: 0.4282 - val_loss: 1.1006 - val_accuracy: 0.3298\n",
      "Epoch 72/200\n",
      "28/28 [==============================] - 0s 11ms/step - loss: 1.0893 - accuracy: 0.4282 - val_loss: 1.1001 - val_accuracy: 0.3191\n",
      "Epoch 73/200\n",
      "28/28 [==============================] - 0s 11ms/step - loss: 1.0892 - accuracy: 0.4328 - val_loss: 1.1001 - val_accuracy: 0.3404\n",
      "Epoch 74/200\n",
      "28/28 [==============================] - 0s 12ms/step - loss: 1.0893 - accuracy: 0.4237 - val_loss: 1.1002 - val_accuracy: 0.3404\n",
      "Epoch 75/200\n",
      "28/28 [==============================] - 0s 11ms/step - loss: 1.0891 - accuracy: 0.4305 - val_loss: 1.0999 - val_accuracy: 0.3191\n",
      "Epoch 76/200\n",
      "28/28 [==============================] - 0s 10ms/step - loss: 1.0891 - accuracy: 0.4260 - val_loss: 1.0996 - val_accuracy: 0.3404\n",
      "Epoch 77/200\n",
      "28/28 [==============================] - 0s 10ms/step - loss: 1.0889 - accuracy: 0.4328 - val_loss: 1.0997 - val_accuracy: 0.3404\n",
      "Epoch 78/200\n",
      "28/28 [==============================] - 0s 12ms/step - loss: 1.0888 - accuracy: 0.4282 - val_loss: 1.0995 - val_accuracy: 0.3191\n",
      "Epoch 79/200\n",
      "28/28 [==============================] - 0s 10ms/step - loss: 1.0888 - accuracy: 0.4374 - val_loss: 1.0987 - val_accuracy: 0.3191\n",
      "Epoch 80/200\n",
      "28/28 [==============================] - 0s 10ms/step - loss: 1.0889 - accuracy: 0.4237 - val_loss: 1.0983 - val_accuracy: 0.3511\n",
      "Epoch 81/200\n",
      "28/28 [==============================] - 0s 10ms/step - loss: 1.0890 - accuracy: 0.4214 - val_loss: 1.0996 - val_accuracy: 0.3404\n",
      "Epoch 82/200\n",
      "28/28 [==============================] - 0s 12ms/step - loss: 1.0887 - accuracy: 0.4146 - val_loss: 1.0984 - val_accuracy: 0.3723\n",
      "Epoch 83/200\n",
      "28/28 [==============================] - 0s 10ms/step - loss: 1.0886 - accuracy: 0.4328 - val_loss: 1.0989 - val_accuracy: 0.3298\n",
      "Epoch 84/200\n",
      "28/28 [==============================] - 0s 9ms/step - loss: 1.0884 - accuracy: 0.4123 - val_loss: 1.0990 - val_accuracy: 0.3511\n",
      "Epoch 85/200\n",
      "28/28 [==============================] - 0s 10ms/step - loss: 1.0882 - accuracy: 0.4169 - val_loss: 1.0995 - val_accuracy: 0.3404\n",
      "Epoch 86/200\n",
      "28/28 [==============================] - 0s 14ms/step - loss: 1.0882 - accuracy: 0.4214 - val_loss: 1.0990 - val_accuracy: 0.3511\n",
      "Epoch 87/200\n",
      "28/28 [==============================] - 0s 11ms/step - loss: 1.0881 - accuracy: 0.4237 - val_loss: 1.0997 - val_accuracy: 0.3404\n",
      "Epoch 88/200\n",
      "28/28 [==============================] - 0s 12ms/step - loss: 1.0879 - accuracy: 0.4328 - val_loss: 1.0995 - val_accuracy: 0.3298\n",
      "Epoch 89/200\n",
      "28/28 [==============================] - 0s 11ms/step - loss: 1.0880 - accuracy: 0.4328 - val_loss: 1.1001 - val_accuracy: 0.3298\n",
      "Epoch 90/200\n",
      "28/28 [==============================] - 0s 10ms/step - loss: 1.0879 - accuracy: 0.4260 - val_loss: 1.0997 - val_accuracy: 0.3404\n",
      "Epoch 91/200\n",
      "28/28 [==============================] - 0s 12ms/step - loss: 1.0877 - accuracy: 0.4351 - val_loss: 1.0997 - val_accuracy: 0.3298\n",
      "Epoch 92/200\n",
      "28/28 [==============================] - 0s 11ms/step - loss: 1.0876 - accuracy: 0.4328 - val_loss: 1.0992 - val_accuracy: 0.3298\n",
      "Epoch 93/200\n",
      "28/28 [==============================] - 0s 10ms/step - loss: 1.0879 - accuracy: 0.4191 - val_loss: 1.0986 - val_accuracy: 0.3404\n",
      "Epoch 94/200\n",
      "28/28 [==============================] - 0s 10ms/step - loss: 1.0874 - accuracy: 0.4351 - val_loss: 1.0989 - val_accuracy: 0.3298\n",
      "Epoch 95/200\n",
      "28/28 [==============================] - 0s 11ms/step - loss: 1.0873 - accuracy: 0.4328 - val_loss: 1.0993 - val_accuracy: 0.3298\n",
      "Epoch 96/200\n",
      "28/28 [==============================] - 0s 10ms/step - loss: 1.0872 - accuracy: 0.4351 - val_loss: 1.0994 - val_accuracy: 0.3298\n",
      "Epoch 97/200\n",
      "28/28 [==============================] - 0s 10ms/step - loss: 1.0871 - accuracy: 0.4419 - val_loss: 1.0995 - val_accuracy: 0.3298\n",
      "Epoch 98/200\n",
      "28/28 [==============================] - 0s 11ms/step - loss: 1.0872 - accuracy: 0.4328 - val_loss: 1.0993 - val_accuracy: 0.3298\n",
      "Epoch 99/200\n",
      "28/28 [==============================] - 0s 14ms/step - loss: 1.0871 - accuracy: 0.4282 - val_loss: 1.0994 - val_accuracy: 0.3298\n",
      "Epoch 100/200\n",
      "28/28 [==============================] - 0s 9ms/step - loss: 1.0870 - accuracy: 0.4237 - val_loss: 1.0995 - val_accuracy: 0.3298\n",
      "Epoch 101/200\n",
      "28/28 [==============================] - 0s 11ms/step - loss: 1.0868 - accuracy: 0.4282 - val_loss: 1.0997 - val_accuracy: 0.3298\n",
      "Epoch 102/200\n",
      "28/28 [==============================] - 0s 12ms/step - loss: 1.0868 - accuracy: 0.4282 - val_loss: 1.0993 - val_accuracy: 0.3298\n",
      "Epoch 103/200\n",
      "28/28 [==============================] - 0s 12ms/step - loss: 1.0868 - accuracy: 0.4282 - val_loss: 1.0988 - val_accuracy: 0.3404\n",
      "Epoch 104/200\n",
      "28/28 [==============================] - 0s 11ms/step - loss: 1.0866 - accuracy: 0.4282 - val_loss: 1.0998 - val_accuracy: 0.3298\n",
      "Epoch 105/200\n",
      "28/28 [==============================] - 0s 11ms/step - loss: 1.0866 - accuracy: 0.4282 - val_loss: 1.0999 - val_accuracy: 0.3298\n",
      "Epoch 106/200\n",
      "28/28 [==============================] - 0s 10ms/step - loss: 1.0865 - accuracy: 0.4305 - val_loss: 1.1001 - val_accuracy: 0.3404\n",
      "Epoch 107/200\n",
      "28/28 [==============================] - 0s 11ms/step - loss: 1.0865 - accuracy: 0.4214 - val_loss: 1.1005 - val_accuracy: 0.3404\n",
      "Epoch 108/200\n",
      "28/28 [==============================] - 0s 9ms/step - loss: 1.0862 - accuracy: 0.4237 - val_loss: 1.1002 - val_accuracy: 0.3404\n",
      "Epoch 109/200\n",
      "28/28 [==============================] - 0s 10ms/step - loss: 1.0862 - accuracy: 0.4305 - val_loss: 1.0995 - val_accuracy: 0.3298\n",
      "Epoch 110/200\n",
      "28/28 [==============================] - 0s 10ms/step - loss: 1.0861 - accuracy: 0.4396 - val_loss: 1.0998 - val_accuracy: 0.3298\n",
      "Epoch 111/200\n",
      "28/28 [==============================] - 0s 12ms/step - loss: 1.0861 - accuracy: 0.4305 - val_loss: 1.0994 - val_accuracy: 0.3298\n",
      "Epoch 112/200\n",
      "28/28 [==============================] - 0s 10ms/step - loss: 1.0860 - accuracy: 0.4305 - val_loss: 1.0996 - val_accuracy: 0.3298\n",
      "Epoch 113/200\n",
      "28/28 [==============================] - 0s 10ms/step - loss: 1.0859 - accuracy: 0.4260 - val_loss: 1.0999 - val_accuracy: 0.3298\n",
      "Epoch 114/200\n",
      "28/28 [==============================] - 0s 10ms/step - loss: 1.0858 - accuracy: 0.4305 - val_loss: 1.0996 - val_accuracy: 0.3191\n",
      "Epoch 115/200\n",
      "28/28 [==============================] - 0s 12ms/step - loss: 1.0858 - accuracy: 0.4260 - val_loss: 1.1001 - val_accuracy: 0.3298\n",
      "Epoch 116/200\n",
      "28/28 [==============================] - 0s 11ms/step - loss: 1.0856 - accuracy: 0.4282 - val_loss: 1.0999 - val_accuracy: 0.3298\n",
      "Epoch 117/200\n",
      "28/28 [==============================] - 0s 11ms/step - loss: 1.0856 - accuracy: 0.4305 - val_loss: 1.1000 - val_accuracy: 0.3298\n",
      "Epoch 118/200\n",
      "28/28 [==============================] - 0s 12ms/step - loss: 1.0854 - accuracy: 0.4260 - val_loss: 1.0998 - val_accuracy: 0.3298\n",
      "Epoch 119/200\n",
      "28/28 [==============================] - 0s 14ms/step - loss: 1.0855 - accuracy: 0.4328 - val_loss: 1.0992 - val_accuracy: 0.3404\n",
      "Epoch 120/200\n",
      "28/28 [==============================] - 0s 12ms/step - loss: 1.0856 - accuracy: 0.4282 - val_loss: 1.0997 - val_accuracy: 0.3191\n",
      "Epoch 121/200\n",
      "28/28 [==============================] - 0s 11ms/step - loss: 1.0855 - accuracy: 0.4260 - val_loss: 1.1002 - val_accuracy: 0.3298\n",
      "Epoch 122/200\n",
      "28/28 [==============================] - 0s 11ms/step - loss: 1.0852 - accuracy: 0.4351 - val_loss: 1.1000 - val_accuracy: 0.3298\n",
      "Epoch 123/200\n",
      "28/28 [==============================] - 0s 12ms/step - loss: 1.0852 - accuracy: 0.4237 - val_loss: 1.1001 - val_accuracy: 0.3298\n",
      "Epoch 124/200\n",
      "28/28 [==============================] - 0s 11ms/step - loss: 1.0850 - accuracy: 0.4305 - val_loss: 1.1002 - val_accuracy: 0.3298\n",
      "Epoch 125/200\n",
      "28/28 [==============================] - 0s 10ms/step - loss: 1.0850 - accuracy: 0.4328 - val_loss: 1.0994 - val_accuracy: 0.3404\n",
      "Epoch 126/200\n",
      "28/28 [==============================] - 0s 11ms/step - loss: 1.0848 - accuracy: 0.4260 - val_loss: 1.0994 - val_accuracy: 0.3404\n",
      "Epoch 127/200\n",
      "28/28 [==============================] - 0s 13ms/step - loss: 1.0848 - accuracy: 0.4237 - val_loss: 1.1004 - val_accuracy: 0.3298\n",
      "Epoch 128/200\n",
      "28/28 [==============================] - 0s 11ms/step - loss: 1.0847 - accuracy: 0.4351 - val_loss: 1.1003 - val_accuracy: 0.3298\n",
      "Epoch 129/200\n",
      "28/28 [==============================] - 0s 11ms/step - loss: 1.0846 - accuracy: 0.4282 - val_loss: 1.1009 - val_accuracy: 0.3298\n",
      "Epoch 130/200\n",
      "28/28 [==============================] - 0s 11ms/step - loss: 1.0845 - accuracy: 0.4260 - val_loss: 1.1004 - val_accuracy: 0.3298\n",
      "Epoch 131/200\n",
      "28/28 [==============================] - 0s 13ms/step - loss: 1.0846 - accuracy: 0.4328 - val_loss: 1.1005 - val_accuracy: 0.3298\n",
      "Epoch 132/200\n",
      "28/28 [==============================] - 0s 11ms/step - loss: 1.0844 - accuracy: 0.4374 - val_loss: 1.1002 - val_accuracy: 0.3298\n",
      "Epoch 133/200\n",
      "28/28 [==============================] - 0s 12ms/step - loss: 1.0844 - accuracy: 0.4351 - val_loss: 1.1005 - val_accuracy: 0.3298\n",
      "Epoch 134/200\n",
      "28/28 [==============================] - 0s 16ms/step - loss: 1.0844 - accuracy: 0.4305 - val_loss: 1.1002 - val_accuracy: 0.3298\n",
      "Epoch 135/200\n",
      "28/28 [==============================] - 0s 12ms/step - loss: 1.0844 - accuracy: 0.4328 - val_loss: 1.1007 - val_accuracy: 0.3298\n",
      "Epoch 136/200\n",
      "28/28 [==============================] - 0s 12ms/step - loss: 1.0841 - accuracy: 0.4351 - val_loss: 1.1000 - val_accuracy: 0.3191\n",
      "Epoch 137/200\n",
      "28/28 [==============================] - 0s 12ms/step - loss: 1.0841 - accuracy: 0.4328 - val_loss: 1.0994 - val_accuracy: 0.3298\n",
      "Epoch 138/200\n",
      "28/28 [==============================] - 0s 12ms/step - loss: 1.0842 - accuracy: 0.4305 - val_loss: 1.0992 - val_accuracy: 0.3298\n",
      "Epoch 139/200\n",
      "28/28 [==============================] - 0s 11ms/step - loss: 1.0840 - accuracy: 0.4374 - val_loss: 1.1002 - val_accuracy: 0.3298\n",
      "Epoch 140/200\n",
      "28/28 [==============================] - 0s 11ms/step - loss: 1.0838 - accuracy: 0.4305 - val_loss: 1.1000 - val_accuracy: 0.3191\n",
      "Epoch 141/200\n",
      "28/28 [==============================] - 0s 11ms/step - loss: 1.0838 - accuracy: 0.4282 - val_loss: 1.0996 - val_accuracy: 0.3298\n",
      "Epoch 142/200\n",
      "28/28 [==============================] - 0s 12ms/step - loss: 1.0837 - accuracy: 0.4328 - val_loss: 1.1000 - val_accuracy: 0.3298\n",
      "Epoch 143/200\n",
      "28/28 [==============================] - 0s 11ms/step - loss: 1.0836 - accuracy: 0.4305 - val_loss: 1.1002 - val_accuracy: 0.3298\n",
      "Epoch 144/200\n",
      "28/28 [==============================] - 0s 11ms/step - loss: 1.0837 - accuracy: 0.4328 - val_loss: 1.0997 - val_accuracy: 0.3298\n",
      "Epoch 145/200\n",
      "28/28 [==============================] - 0s 17ms/step - loss: 1.0835 - accuracy: 0.4305 - val_loss: 1.1005 - val_accuracy: 0.3298\n",
      "Epoch 146/200\n",
      "28/28 [==============================] - 0s 11ms/step - loss: 1.0834 - accuracy: 0.4351 - val_loss: 1.1002 - val_accuracy: 0.3191\n",
      "Epoch 147/200\n",
      "28/28 [==============================] - 0s 12ms/step - loss: 1.0836 - accuracy: 0.4237 - val_loss: 1.1002 - val_accuracy: 0.3298\n",
      "Epoch 148/200\n",
      "28/28 [==============================] - 0s 12ms/step - loss: 1.0835 - accuracy: 0.4237 - val_loss: 1.0999 - val_accuracy: 0.3298\n",
      "Epoch 149/200\n",
      "28/28 [==============================] - 0s 14ms/step - loss: 1.0834 - accuracy: 0.4237 - val_loss: 1.1002 - val_accuracy: 0.3404\n",
      "Epoch 150/200\n",
      "28/28 [==============================] - 0s 11ms/step - loss: 1.0832 - accuracy: 0.4282 - val_loss: 1.1004 - val_accuracy: 0.3298\n",
      "Epoch 151/200\n",
      "28/28 [==============================] - 0s 10ms/step - loss: 1.0833 - accuracy: 0.4260 - val_loss: 1.1010 - val_accuracy: 0.3298\n",
      "Epoch 152/200\n",
      "28/28 [==============================] - 0s 12ms/step - loss: 1.0832 - accuracy: 0.4305 - val_loss: 1.1004 - val_accuracy: 0.3298\n",
      "Epoch 153/200\n",
      "28/28 [==============================] - 0s 12ms/step - loss: 1.0829 - accuracy: 0.4396 - val_loss: 1.1009 - val_accuracy: 0.3298\n",
      "Epoch 154/200\n",
      "28/28 [==============================] - 0s 11ms/step - loss: 1.0828 - accuracy: 0.4214 - val_loss: 1.1003 - val_accuracy: 0.3404\n",
      "Epoch 155/200\n",
      "28/28 [==============================] - 0s 10ms/step - loss: 1.0829 - accuracy: 0.4260 - val_loss: 1.1007 - val_accuracy: 0.3298\n",
      "Epoch 156/200\n",
      "28/28 [==============================] - 0s 11ms/step - loss: 1.0828 - accuracy: 0.4191 - val_loss: 1.1005 - val_accuracy: 0.3404\n",
      "Epoch 157/200\n",
      "28/28 [==============================] - 0s 13ms/step - loss: 1.0827 - accuracy: 0.4237 - val_loss: 1.1010 - val_accuracy: 0.3298\n",
      "Epoch 158/200\n",
      "28/28 [==============================] - 0s 11ms/step - loss: 1.0828 - accuracy: 0.4328 - val_loss: 1.1008 - val_accuracy: 0.3298\n",
      "Epoch 159/200\n",
      "28/28 [==============================] - 0s 14ms/step - loss: 1.0825 - accuracy: 0.4282 - val_loss: 1.1008 - val_accuracy: 0.3298\n",
      "Epoch 160/200\n",
      "28/28 [==============================] - 0s 12ms/step - loss: 1.0827 - accuracy: 0.4305 - val_loss: 1.1013 - val_accuracy: 0.3298\n",
      "Epoch 161/200\n",
      "28/28 [==============================] - 0s 11ms/step - loss: 1.0824 - accuracy: 0.4305 - val_loss: 1.1006 - val_accuracy: 0.3404\n",
      "Epoch 162/200\n",
      "28/28 [==============================] - 0s 13ms/step - loss: 1.0826 - accuracy: 0.4237 - val_loss: 1.1007 - val_accuracy: 0.3404\n",
      "Epoch 163/200\n",
      "28/28 [==============================] - 0s 12ms/step - loss: 1.0824 - accuracy: 0.4191 - val_loss: 1.1009 - val_accuracy: 0.3404\n",
      "Epoch 164/200\n",
      "28/28 [==============================] - 0s 13ms/step - loss: 1.0823 - accuracy: 0.4237 - val_loss: 1.1004 - val_accuracy: 0.3298\n",
      "Epoch 165/200\n",
      "28/28 [==============================] - 0s 11ms/step - loss: 1.0822 - accuracy: 0.4282 - val_loss: 1.0998 - val_accuracy: 0.3404\n",
      "Epoch 166/200\n",
      "28/28 [==============================] - 0s 11ms/step - loss: 1.0823 - accuracy: 0.4351 - val_loss: 1.0998 - val_accuracy: 0.3404\n",
      "Epoch 167/200\n",
      "28/28 [==============================] - 0s 11ms/step - loss: 1.0822 - accuracy: 0.4237 - val_loss: 1.1006 - val_accuracy: 0.3404\n",
      "Epoch 168/200\n",
      "28/28 [==============================] - 0s 13ms/step - loss: 1.0821 - accuracy: 0.4237 - val_loss: 1.0997 - val_accuracy: 0.3404\n",
      "Epoch 169/200\n",
      "28/28 [==============================] - 0s 11ms/step - loss: 1.0820 - accuracy: 0.4282 - val_loss: 1.1001 - val_accuracy: 0.3298\n",
      "Epoch 170/200\n",
      "28/28 [==============================] - 0s 10ms/step - loss: 1.0820 - accuracy: 0.4237 - val_loss: 1.0998 - val_accuracy: 0.3404\n",
      "Epoch 171/200\n",
      "28/28 [==============================] - 0s 10ms/step - loss: 1.0818 - accuracy: 0.4237 - val_loss: 1.1003 - val_accuracy: 0.3404\n",
      "Epoch 172/200\n",
      "28/28 [==============================] - 0s 12ms/step - loss: 1.0818 - accuracy: 0.4237 - val_loss: 1.1004 - val_accuracy: 0.3298\n",
      "Epoch 173/200\n",
      "28/28 [==============================] - 0s 11ms/step - loss: 1.0819 - accuracy: 0.4351 - val_loss: 1.0999 - val_accuracy: 0.3298\n",
      "Epoch 174/200\n",
      "28/28 [==============================] - 0s 10ms/step - loss: 1.0817 - accuracy: 0.4237 - val_loss: 1.1003 - val_accuracy: 0.3298\n",
      "Epoch 175/200\n",
      "28/28 [==============================] - 0s 11ms/step - loss: 1.0818 - accuracy: 0.4282 - val_loss: 1.1014 - val_accuracy: 0.3298\n",
      "Epoch 176/200\n",
      "28/28 [==============================] - 0s 12ms/step - loss: 1.0817 - accuracy: 0.4328 - val_loss: 1.1006 - val_accuracy: 0.3298\n",
      "Epoch 177/200\n",
      "28/28 [==============================] - 0s 10ms/step - loss: 1.0815 - accuracy: 0.4351 - val_loss: 1.1007 - val_accuracy: 0.3298\n",
      "Epoch 178/200\n",
      "28/28 [==============================] - 0s 11ms/step - loss: 1.0815 - accuracy: 0.4396 - val_loss: 1.1005 - val_accuracy: 0.3298\n",
      "Epoch 179/200\n",
      "28/28 [==============================] - 0s 12ms/step - loss: 1.0815 - accuracy: 0.4374 - val_loss: 1.1002 - val_accuracy: 0.3298\n",
      "Epoch 180/200\n",
      "28/28 [==============================] - 0s 13ms/step - loss: 1.0814 - accuracy: 0.4396 - val_loss: 1.1010 - val_accuracy: 0.3298\n",
      "Epoch 181/200\n",
      "28/28 [==============================] - 0s 11ms/step - loss: 1.0814 - accuracy: 0.4328 - val_loss: 1.1010 - val_accuracy: 0.3298\n",
      "Epoch 182/200\n",
      "28/28 [==============================] - 0s 11ms/step - loss: 1.0813 - accuracy: 0.4328 - val_loss: 1.1006 - val_accuracy: 0.3298\n",
      "Epoch 183/200\n",
      "28/28 [==============================] - 0s 11ms/step - loss: 1.0813 - accuracy: 0.4351 - val_loss: 1.1015 - val_accuracy: 0.3191\n",
      "Epoch 184/200\n",
      "28/28 [==============================] - 0s 12ms/step - loss: 1.0812 - accuracy: 0.4328 - val_loss: 1.1007 - val_accuracy: 0.3298\n",
      "Epoch 185/200\n",
      "28/28 [==============================] - 0s 10ms/step - loss: 1.0811 - accuracy: 0.4305 - val_loss: 1.1011 - val_accuracy: 0.3298\n",
      "Epoch 186/200\n",
      "28/28 [==============================] - 0s 10ms/step - loss: 1.0812 - accuracy: 0.4305 - val_loss: 1.1012 - val_accuracy: 0.3298\n",
      "Epoch 187/200\n",
      "28/28 [==============================] - 0s 10ms/step - loss: 1.0810 - accuracy: 0.4351 - val_loss: 1.1018 - val_accuracy: 0.3298\n",
      "Epoch 188/200\n",
      "28/28 [==============================] - 0s 12ms/step - loss: 1.0809 - accuracy: 0.4305 - val_loss: 1.1020 - val_accuracy: 0.3298\n",
      "Epoch 189/200\n",
      "28/28 [==============================] - 0s 10ms/step - loss: 1.0812 - accuracy: 0.4282 - val_loss: 1.1011 - val_accuracy: 0.3298\n",
      "Epoch 190/200\n",
      "28/28 [==============================] - 0s 11ms/step - loss: 1.0809 - accuracy: 0.4305 - val_loss: 1.1022 - val_accuracy: 0.3298\n",
      "Epoch 191/200\n",
      "28/28 [==============================] - 0s 10ms/step - loss: 1.0809 - accuracy: 0.4305 - val_loss: 1.1015 - val_accuracy: 0.3191\n",
      "Epoch 192/200\n",
      "28/28 [==============================] - 0s 12ms/step - loss: 1.0808 - accuracy: 0.4351 - val_loss: 1.1011 - val_accuracy: 0.3298\n",
      "Epoch 193/200\n",
      "28/28 [==============================] - 0s 14ms/step - loss: 1.0807 - accuracy: 0.4328 - val_loss: 1.1019 - val_accuracy: 0.3191\n",
      "Epoch 194/200\n",
      "28/28 [==============================] - 0s 13ms/step - loss: 1.0807 - accuracy: 0.4328 - val_loss: 1.1021 - val_accuracy: 0.3298\n",
      "Epoch 195/200\n",
      "28/28 [==============================] - 0s 14ms/step - loss: 1.0807 - accuracy: 0.4374 - val_loss: 1.1012 - val_accuracy: 0.3298\n",
      "Epoch 196/200\n",
      "28/28 [==============================] - 0s 12ms/step - loss: 1.0805 - accuracy: 0.4214 - val_loss: 1.1021 - val_accuracy: 0.3298\n",
      "Epoch 197/200\n",
      "28/28 [==============================] - 0s 11ms/step - loss: 1.0805 - accuracy: 0.4282 - val_loss: 1.1016 - val_accuracy: 0.3298\n",
      "Epoch 198/200\n",
      "28/28 [==============================] - 0s 10ms/step - loss: 1.0805 - accuracy: 0.4237 - val_loss: 1.1019 - val_accuracy: 0.3404\n",
      "Epoch 199/200\n",
      "28/28 [==============================] - 0s 11ms/step - loss: 1.0804 - accuracy: 0.4260 - val_loss: 1.1019 - val_accuracy: 0.3404\n",
      "Epoch 200/200\n",
      "28/28 [==============================] - 0s 12ms/step - loss: 1.0803 - accuracy: 0.4260 - val_loss: 1.1017 - val_accuracy: 0.3404\n"
     ]
    }
   ],
   "source": [
    "history = model.fit(training_data, training_labels, epochs=200, batch_size=16, verbose=1, shuffle=True, validation_data=(valid_data, valid_labels))"
   ]
  },
  {
   "cell_type": "code",
   "execution_count": 493,
   "metadata": {},
   "outputs": [
    {
     "data": {
      "image/png": "[encoded data removed]",
      "text/plain": [
       "<Figure size 432x288 with 1 Axes>"
      ]
     },
     "metadata": {
      "needs_background": "light"
     },
     "output_type": "display_data"
    },
    {
     "data": {
      "image/png": "[encoded data removed]",
      "text/plain": [
       "<Figure size 432x288 with 1 Axes>"
      ]
     },
     "metadata": {
      "needs_background": "light"
     },
     "output_type": "display_data"
    }
   ],
   "source": [
    "import matplotlib.pyplot as plt\n",
    "\n",
    "# Plot utility\n",
    "def plot_graphs(history, string):\n",
    "  plt.plot(history.history[string])\n",
    "  plt.plot(history.history['val_'+string])\n",
    "  plt.xlabel(\"Epochs\")\n",
    "  plt.ylabel(string)\n",
    "  plt.show()\n",
    "\n",
    "# Visualize the accuracy\n",
    "plot_graphs(history, 'accuracy')\n",
    "plot_graphs(history, 'loss')"
   ]
  },
  {
   "cell_type": "code",
   "execution_count": 495,
   "metadata": {},
   "outputs": [
    {
     "name": "stdout",
     "output_type": "stream",
     "text": [
      "3/3 [==============================] - 0s 15ms/step - loss: 1.1033 - accuracy: 0.2842\n"
     ]
    },
    {
     "data": {
      "text/plain": [
       "[1.1032726764678955, 0.28421053290367126]"
      ]
     },
     "execution_count": 495,
     "metadata": {},
     "output_type": "execute_result"
    }
   ],
   "source": [
    "model.evaluate(test_data, test_labels)"
   ]
  },
  {
   "cell_type": "code",
   "execution_count": 63,
   "metadata": {},
   "outputs": [],
   "source": [
    "model.save('../models/test_lstm.h5')"
   ]
  }
 ],
 "metadata": {
  "kernelspec": {
   "display_name": "Python 3.9.0 64-bit",
   "language": "python",
   "name": "python3"
  },
  "language_info": {
   "codemirror_mode": {
    "name": "ipython",
    "version": 3
   },
   "file_extension": ".py",
   "mimetype": "text/x-python",
   "name": "python",
   "nbconvert_exporter": "python",
   "pygments_lexer": "ipython3",
   "version": "3.9.0"
  },
  "orig_nbformat": 4,
  "vscode": {
   "interpreter": {
    "hash": "11938c6bc6919ae2720b4d5011047913343b08a43b18698fd82dedb0d4417594"
   }
  }
 },
 "nbformat": 4,
 "nbformat_minor": 2
}
