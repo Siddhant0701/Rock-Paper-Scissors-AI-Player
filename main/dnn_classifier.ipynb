{
 "cells": [
  {
   "cell_type": "code",
   "execution_count": 137,
   "metadata": {},
   "outputs": [],
   "source": [
    "import tensorflow_datasets as tfds\n",
    "import tensorflow as tf\n",
    "import numpy as np\n",
    "import mediapipe as mp\n",
    "from time import process_time\n",
    "import os"
   ]
  },
  {
   "cell_type": "code",
   "execution_count": 138,
   "metadata": {},
   "outputs": [],
   "source": [
    "os.environ['TF_CPP_MIN_LOG_LEVEL'] = '3'  # FATAL\n",
    "os.environ[\"GLOG_minloglevel\"] =\"2\""
   ]
  },
  {
   "cell_type": "code",
   "execution_count": 141,
   "metadata": {},
   "outputs": [],
   "source": [
    "dict ={\n",
    "    0: \"WRIST\",\n",
    "    1: \"THUMB_CMC\",\n",
    "    2: \"THUMB_MCP\",\n",
    "    3: \"THUMB_IP\",\n",
    "    4: \"THUMB_TIP\",\n",
    "    5: \"INDEX_FINGER_MCP\",\n",
    "    6: \"INDEX_FINGER_PIP\",\n",
    "    7: \"INDEX_FINGER_DIP\",\n",
    "    8: \"INDEX_FINGER_TIP\",\n",
    "    9:  \"MIDDLE_FINGER_MCP\",\n",
    "    10: \"MIDDLE_FINGER_PIP\",\n",
    "    11: \"MIDDLE_FINGER_DIP\",\n",
    "    12: \"MIDDLE_FINGER_TIP\",\n",
    "    13: \"RING_FINGER_MCP\",\n",
    "    14: \"RING_FINGER_PIP\",\n",
    "    15: \"RING_FINGER_DIP\",\n",
    "    16: \"RING_FINGER_TIP\",\n",
    "    17: \"PINKY_MCP\",\n",
    "    18: \"PINKY_PIP\",\n",
    "    19: \"PINKY_DIP\",\n",
    "    20: \"PINKY_TIP\",\n",
    "}\n",
    "mp_hands = mp.solutions.hands\n",
    "hands = mp_hands.Hands( \n",
    "    static_image_mode= True,\n",
    "    max_num_hands = 1,\n",
    "    min_detection_confidence=0.5)"
   ]
  },
  {
   "cell_type": "code",
   "execution_count": 143,
   "metadata": {},
   "outputs": [],
   "source": [
    "## Transform the image to a vector with 21 coordinates.\n",
    "def image_to_vector(img):\n",
    "    try:\n",
    "        result_vector =[]\n",
    "        result = hands.process(img)\n",
    "\n",
    "        for hand_landmark in result.multi_hand_world_landmarks:\n",
    "            for item in dict:\n",
    "                landmarkObj = hand_landmark.landmark[mp_hands.HandLandmark[dict[item]]]\n",
    "                result_vector.append([landmarkObj.x,landmarkObj.y, landmarkObj.z])\n",
    "        \n",
    "        return np.array(result_vector, dtype=np.float64)\n",
    "    \n",
    "    except:\n",
    "        return np.reshape(np.zeros(63, dtype=np.float64), (21,3))"
   ]
  },
  {
   "cell_type": "code",
   "execution_count": 144,
   "metadata": {},
   "outputs": [],
   "source": [
    "def NormalizeData(data):\n",
    "    for i in range(len(data)):\n",
    "        data[i] = (data[i] - np.min(data[i])) / (np.max(data[i]) - np.min(data[i]))\n",
    "    return data"
   ]
  },
  {
   "cell_type": "code",
   "execution_count": 145,
   "metadata": {},
   "outputs": [],
   "source": [
    "def Flip(data, p=0.5, axis=0):\n",
    "    for i in range(len(data)):\n",
    "        if np.random.random() < p:\n",
    "            for j in range(3):\n",
    "                if(axis != j):\n",
    "                    data[i][j] = -1* data[i][j]\n",
    "    return data"
   ]
  },
  {
   "cell_type": "code",
   "execution_count": 146,
   "metadata": {},
   "outputs": [],
   "source": [
    "## Load dataset\n",
    "(train_images,train_labels) = tfds.as_numpy(tfds.load('rock_paper_scissors', split='train[:70%]', batch_size=-1, as_supervised = True))\n",
    "(validation_images,validation_labels) = tfds.as_numpy(tfds.load('rock_paper_scissors', split='train[70%:]', batch_size=-1, as_supervised = True))\n",
    "(test_images,test_labels) = tfds.as_numpy(tfds.load('rock_paper_scissors', split='test', batch_size=-1, as_supervised = True))"
   ]
  },
  {
   "cell_type": "code",
   "execution_count": 147,
   "metadata": {},
   "outputs": [],
   "source": [
    "#Transform the images to vectors\n",
    "train_map = map(image_to_vector, train_images)\n",
    "test_map = map(image_to_vector, test_images)\n",
    "validation_map = map(image_to_vector, validation_images)"
   ]
  },
  {
   "cell_type": "code",
   "execution_count": 148,
   "metadata": {},
   "outputs": [],
   "source": [
    "raw_train_data = np.array(list(train_map))\n",
    "raw_test_data = np.array(list(test_map))\n",
    "raw_validation_data = np.array(list(validation_map))"
   ]
  },
  {
   "cell_type": "code",
   "execution_count": 149,
   "metadata": {},
   "outputs": [],
   "source": [
    "train_array = np.reshape(raw_train_data, (-1, 63))\n",
    "test_array = np.reshape(raw_test_data, (-1, 63))\n",
    "validation_array = np.reshape(raw_validation_data, (-1, 63))"
   ]
  },
  {
   "cell_type": "code",
   "execution_count": 150,
   "metadata": {},
   "outputs": [],
   "source": [
    "#Check where sum of a row is not 0\n",
    "train_data, train_labels =  train_array[np.where(np.sum(train_array,axis=1) != 0)], train_labels[np.where(np.sum(train_array,axis=1) != 0)]\n",
    "test_data, test_labels =  test_array[np.where(np.sum(test_array,axis=1) != 0)], test_labels[np.where(np.sum(test_array,axis=1) != 0)]\n",
    "validation_data, validation_labels =  validation_array[np.where(np.sum(validation_array,axis=1) != 0)], validation_labels[np.where(np.sum(validation_array, axis=1) != 0)]"
   ]
  },
  {
   "cell_type": "code",
   "execution_count": 151,
   "metadata": {},
   "outputs": [],
   "source": [
    "train_normalized = NormalizeData(train_data)\n",
    "test_normalized = NormalizeData(test_data)\n",
    "validation_normalized = NormalizeData(validation_data)"
   ]
  },
  {
   "cell_type": "code",
   "execution_count": 152,
   "metadata": {},
   "outputs": [],
   "source": [
    "train_normalized = np.reshape(train_normalized, (-1, 21, 3))\n",
    "test_normalized = np.reshape(test_normalized, (-1, 21, 3))\n",
    "validation_normalized = np.reshape(validation_normalized, (-1, 21, 3))"
   ]
  },
  {
   "cell_type": "code",
   "execution_count": 153,
   "metadata": {},
   "outputs": [],
   "source": [
    "train_normalized = Flip(train_normalized, p=0.25, axis=0)\n",
    "test_normalized = Flip(test_normalized, p=0.25, axis=0)\n",
    "validation_normalized = Flip(validation_normalized, p=0.25, axis=0)\n",
    "\n",
    "train_normalized = Flip(train_normalized, p=0.25, axis=1)\n",
    "test_normalized = Flip(test_normalized, p=0.25, axis=1)\n",
    "validation_normalized = Flip(validation_normalized, p=0.25, axis=1)"
   ]
  },
  {
   "cell_type": "code",
   "execution_count": 154,
   "metadata": {},
   "outputs": [],
   "source": [
    "class myCallback(tf.keras.callbacks.Callback):\n",
    "    def on_epoch_end(self, epoch, logs={}):\n",
    "        if(logs.get('loss') < 0.005):\n",
    "            print(\"\\nReached 1% loss so cancelling training!\")\n",
    "            self.model.stop_training = True"
   ]
  },
  {
   "cell_type": "code",
   "execution_count": 155,
   "metadata": {},
   "outputs": [],
   "source": [
    "model = tf.keras.models.Sequential([\n",
    "    tf.keras.layers.Flatten(input_shape=(21, 3)),\n",
    "    tf.keras.layers.Dense(256, activation='relu'),\n",
    "    tf.keras.layers.Dense(256, activation='relu'),\n",
    "    tf.keras.layers.Dense(3, activation='softmax')])"
   ]
  },
  {
   "cell_type": "code",
   "execution_count": 156,
   "metadata": {},
   "outputs": [],
   "source": [
    "model.compile(optimizer=tf.keras.optimizers.RMSprop(learning_rate=0.001),\n",
    "              loss='sparse_categorical_crossentropy',\n",
    "              metrics=['accuracy'])"
   ]
  },
  {
   "cell_type": "code",
   "execution_count": 157,
   "metadata": {},
   "outputs": [
    {
     "name": "stdout",
     "output_type": "stream",
     "text": [
      "Epoch 1/20\n",
      "169/169 [==============================] - 2s 7ms/step - loss: 0.3392 - accuracy: 0.8847 - val_loss: 0.0638 - val_accuracy: 0.9959\n",
      "Epoch 2/20\n",
      "169/169 [==============================] - 1s 7ms/step - loss: 0.0675 - accuracy: 0.9786 - val_loss: 0.0437 - val_accuracy: 0.9918\n",
      "Epoch 3/20\n",
      "169/169 [==============================] - 1s 5ms/step - loss: 0.0485 - accuracy: 0.9839 - val_loss: 0.0205 - val_accuracy: 0.9959\n",
      "Epoch 4/20\n",
      "169/169 [==============================] - 1s 5ms/step - loss: 0.0365 - accuracy: 0.9881 - val_loss: 0.0329 - val_accuracy: 0.9959\n",
      "Epoch 5/20\n",
      "169/169 [==============================] - 1s 5ms/step - loss: 0.0239 - accuracy: 0.9929 - val_loss: 0.0177 - val_accuracy: 0.9986\n",
      "Epoch 6/20\n",
      "169/169 [==============================] - 1s 6ms/step - loss: 0.0260 - accuracy: 0.9899 - val_loss: 0.0169 - val_accuracy: 0.9973\n",
      "Epoch 7/20\n",
      "169/169 [==============================] - 1s 8ms/step - loss: 0.0185 - accuracy: 0.9952 - val_loss: 0.1801 - val_accuracy: 0.9588\n",
      "Epoch 8/20\n",
      "169/169 [==============================] - 1s 6ms/step - loss: 0.0238 - accuracy: 0.9935 - val_loss: 0.0194 - val_accuracy: 0.9973\n",
      "Epoch 9/20\n",
      "169/169 [==============================] - 1s 5ms/step - loss: 0.0250 - accuracy: 0.9929 - val_loss: 0.0195 - val_accuracy: 0.9986\n",
      "Epoch 10/20\n",
      "169/169 [==============================] - 1s 5ms/step - loss: 0.0205 - accuracy: 0.9929 - val_loss: 0.0300 - val_accuracy: 0.9959\n",
      "Epoch 11/20\n",
      "169/169 [==============================] - 1s 6ms/step - loss: 0.0185 - accuracy: 0.9964 - val_loss: 0.0165 - val_accuracy: 0.9973\n",
      "Epoch 12/20\n",
      "169/169 [==============================] - 1s 8ms/step - loss: 0.0291 - accuracy: 0.9917 - val_loss: 0.0196 - val_accuracy: 0.9973\n",
      "Epoch 13/20\n",
      "169/169 [==============================] - 1s 6ms/step - loss: 0.0174 - accuracy: 0.9952 - val_loss: 0.0221 - val_accuracy: 0.9986\n",
      "Epoch 14/20\n",
      "169/169 [==============================] - 1s 6ms/step - loss: 0.0126 - accuracy: 0.9952 - val_loss: 0.0234 - val_accuracy: 0.9986\n",
      "Epoch 15/20\n",
      "169/169 [==============================] - 1s 6ms/step - loss: 0.0172 - accuracy: 0.9946 - val_loss: 0.0270 - val_accuracy: 0.9973\n",
      "Epoch 16/20\n",
      "169/169 [==============================] - 1s 5ms/step - loss: 0.0141 - accuracy: 0.9958 - val_loss: 0.0191 - val_accuracy: 0.9973\n",
      "Epoch 17/20\n",
      "169/169 [==============================] - 1s 7ms/step - loss: 0.0166 - accuracy: 0.9952 - val_loss: 0.0139 - val_accuracy: 0.9973\n",
      "Epoch 18/20\n",
      "169/169 [==============================] - 1s 5ms/step - loss: 0.0103 - accuracy: 0.9976 - val_loss: 0.0187 - val_accuracy: 0.9986\n",
      "Epoch 19/20\n",
      "169/169 [==============================] - 1s 5ms/step - loss: 0.0204 - accuracy: 0.9952 - val_loss: 0.0205 - val_accuracy: 0.9986\n",
      "Epoch 20/20\n",
      "169/169 [==============================] - 1s 5ms/step - loss: 0.0130 - accuracy: 0.9958 - val_loss: 0.0195 - val_accuracy: 0.9986\n"
     ]
    }
   ],
   "source": [
    "history=model.fit(train_normalized, train_labels, epochs=20, batch_size=10, callbacks=[myCallback()], validation_data=(validation_normalized, validation_labels))"
   ]
  },
  {
   "cell_type": "code",
   "execution_count": 158,
   "metadata": {},
   "outputs": [
    {
     "name": "stdout",
     "output_type": "stream",
     "text": [
      "12/12 [==============================] - 0s 3ms/step - loss: 0.0350 - accuracy: 0.9864\n"
     ]
    },
    {
     "data": {
      "text/plain": [
       "[0.03503408282995224, 0.9864498376846313]"
      ]
     },
     "execution_count": 158,
     "metadata": {},
     "output_type": "execute_result"
    }
   ],
   "source": [
    "model.evaluate(test_normalized, test_labels)"
   ]
  },
  {
   "cell_type": "code",
   "execution_count": 159,
   "metadata": {},
   "outputs": [
    {
     "data": {
      "image/png": "[encoded data removed]",
      "text/plain": [
       "<Figure size 432x288 with 1 Axes>"
      ]
     },
     "metadata": {
      "needs_background": "light"
     },
     "output_type": "display_data"
    },
    {
     "data": {
      "image/png": "[encoded data removed]",
      "text/plain": [
       "<Figure size 432x288 with 1 Axes>"
      ]
     },
     "metadata": {
      "needs_background": "light"
     },
     "output_type": "display_data"
    }
   ],
   "source": [
    "import matplotlib.pyplot as plt\n",
    "\n",
    "# Plot utility\n",
    "def plot_graphs(history, string):\n",
    "  plt.plot(history.history[string], label=string)\n",
    "  plt.plot(history.history['val_'+string], label= \"val\")\n",
    "  plt.legend()\n",
    "  plt.xlabel(\"Epochs\")\n",
    "  plt.ylabel(string)\n",
    "  plt.show()\n",
    "\n",
    "# Visualize the accuracy\n",
    "plot_graphs(history, 'accuracy')\n",
    "plot_graphs(history, 'loss')"
   ]
  },
  {
   "cell_type": "code",
   "execution_count": 160,
   "metadata": {},
   "outputs": [],
   "source": [
    "model.save_weights('../models/dnn_model_weights.h5')\n",
    "model.save('../models/dnn_model.h5')"
   ]
  }
 ],
 "metadata": {
  "kernelspec": {
   "display_name": "Python 3.9.0 64-bit",
   "language": "python",
   "name": "python3"
  },
  "language_info": {
   "codemirror_mode": {
    "name": "ipython",
    "version": 3
   },
   "file_extension": ".py",
   "mimetype": "text/x-python",
   "name": "python",
   "nbconvert_exporter": "python",
   "pygments_lexer": "ipython3",
   "version": "3.9.0"
  },
  "orig_nbformat": 4,
  "vscode": {
   "interpreter": {
    "hash": "11938c6bc6919ae2720b4d5011047913343b08a43b18698fd82dedb0d4417594"
   }
  }
 },
 "nbformat": 4,
 "nbformat_minor": 2
}
