{
 "cells": [
  {
   "cell_type": "code",
   "execution_count": 305,
   "metadata": {},
   "outputs": [],
   "source": [
    "import tensorflow as tf\n",
    "from tensorflow import keras\n",
    "from random import shuffle\n",
    "import numpy as np\n",
    "import csv"
   ]
  },
  {
   "cell_type": "code",
   "execution_count": 306,
   "metadata": {},
   "outputs": [],
   "source": [
    "dict = {\n",
    "    0: \"Rock\",\n",
    "    1: \"Paper\",\n",
    "    2: \"Scissors\"\n",
    "}"
   ]
  },
  {
   "cell_type": "code",
   "execution_count": 307,
   "metadata": {},
   "outputs": [],
   "source": [
    "player_sequences = []\n",
    "computer_sequences = []\n",
    "win_data = []\n",
    "\n",
    "labels = []\n",
    "\n",
    "maxlen = 5\n",
    "split = 0.65\n",
    "\n",
    "with open('../../data/temp.csv', 'r') as csvfile:\n",
    "    reader = csv.reader(csvfile)\n",
    "\n",
    "    next(reader)\n",
    "\n",
    "    for row in reader:\n",
    "        inputs = [int(char) for char in row[2]]\n",
    "        for i in range(1, len(inputs)+1):\n",
    "            player_sequences.append(inputs[:i+1])\n",
    "        inputs = [int(char) for char in row[4]]\n",
    "        for i in range(1, len(inputs)+1):\n",
    "            computer_sequences.append(inputs[:i+1])\n",
    "        inputs = [(lambda x : 2 if x=='w' else (1 if x=='t' else -4))(char) for char in row[3]]\n",
    "        for i in range(1, len(inputs)+1):\n",
    "            win_data.append(inputs[:i+1])\n",
    "\n",
    "# s = '2002120021200212002120021200212002120021200212002120021200212002120021200212002120021200212002120021'\n",
    "# input = [int(i) for i in s]\n",
    "# for i in range(1, len(input)+1):\n",
    "#     player_sequences.append(input[:i+1])\n"
   ]
  },
  {
   "cell_type": "code",
   "execution_count": 308,
   "metadata": {},
   "outputs": [
    {
     "data": {
      "text/plain": [
       "((494,), (494,), (494,))"
      ]
     },
     "execution_count": 308,
     "metadata": {},
     "output_type": "execute_result"
    }
   ],
   "source": [
    "np.shape(player_sequences), np.shape(computer_sequences), np.shape(win_data)"
   ]
  },
  {
   "cell_type": "code",
   "execution_count": 309,
   "metadata": {},
   "outputs": [],
   "source": [
    "player_sequences = list(filter(lambda x : len(x) >= maxlen+1,player_sequences))\n",
    "computer_sequences = list(filter(lambda x : len(x) >= maxlen+1, computer_sequences))\n",
    "win_data = list(filter(lambda x : len(x) >= maxlen+1, win_data))"
   ]
  },
  {
   "cell_type": "code",
   "execution_count": 310,
   "metadata": {},
   "outputs": [],
   "source": [
    "player_sequences = list(map(lambda x: x[-maxlen-1:], player_sequences))\n",
    "computer_sequences = list(map(lambda x: x[-maxlen-1:], computer_sequences))\n",
    "win_data = list(map(lambda x: x[-maxlen-1:], win_data))"
   ]
  },
  {
   "cell_type": "code",
   "execution_count": 311,
   "metadata": {},
   "outputs": [
    {
     "data": {
      "text/plain": [
       "([[1, 2, 1, 1, 1, 2],\n",
       "  [2, 1, 1, 1, 2, 3],\n",
       "  [1, 1, 1, 2, 3, 2],\n",
       "  [1, 1, 2, 3, 2, 1],\n",
       "  [1, 2, 3, 2, 1, 2]],\n",
       " [[3, 1, 3, 1, 2, 2],\n",
       "  [1, 3, 1, 2, 2, 1],\n",
       "  [3, 1, 2, 2, 1, 3],\n",
       "  [1, 2, 2, 1, 3, 3],\n",
       "  [2, 2, 1, 3, 3, 3]],\n",
       " [[2, 2, 2, 1, -4, 1],\n",
       "  [2, 2, 1, -4, 1, -4],\n",
       "  [2, 1, -4, 1, -4, -4],\n",
       "  [1, -4, 1, -4, -4, 2],\n",
       "  [-4, 1, -4, -4, 2, -4]])"
      ]
     },
     "execution_count": 311,
     "metadata": {},
     "output_type": "execute_result"
    }
   ],
   "source": [
    "player_sequences[:5], computer_sequences[:5], win_data[:5]"
   ]
  },
  {
   "cell_type": "code",
   "execution_count": 312,
   "metadata": {},
   "outputs": [],
   "source": [
    "player_sequences, computer_sequences, win_data = np.array(player_sequences), np.array(computer_sequences), np.array(win_data)"
   ]
  },
  {
   "cell_type": "code",
   "execution_count": 313,
   "metadata": {},
   "outputs": [],
   "source": [
    "player_inputs, labels = player_sequences[:,:-1], player_sequences[:,-1]\n",
    "computer_inputs = computer_sequences[:,:-1]\n",
    "win_inputs = win_data[:,:-1]"
   ]
  },
  {
   "cell_type": "code",
   "execution_count": 314,
   "metadata": {},
   "outputs": [
    {
     "data": {
      "text/plain": [
       "((490, 5), (490, 5), (490, 5))"
      ]
     },
     "execution_count": 314,
     "metadata": {},
     "output_type": "execute_result"
    }
   ],
   "source": [
    "np.shape(player_inputs), np.shape(computer_inputs), np.shape(win_inputs)"
   ]
  },
  {
   "cell_type": "code",
   "execution_count": 315,
   "metadata": {},
   "outputs": [
    {
     "data": {
      "text/plain": [
       "(array([[1, 2, 1, 1, 1],\n",
       "        [2, 1, 1, 1, 2],\n",
       "        [1, 1, 1, 2, 3],\n",
       "        [1, 1, 2, 3, 2],\n",
       "        [1, 2, 3, 2, 1]]),\n",
       " array([[3, 1, 3, 1, 2],\n",
       "        [1, 3, 1, 2, 2],\n",
       "        [3, 1, 2, 2, 1],\n",
       "        [1, 2, 2, 1, 3],\n",
       "        [2, 2, 1, 3, 3]]),\n",
       " array([[ 2,  2,  2,  1, -4],\n",
       "        [ 2,  2,  1, -4,  1],\n",
       "        [ 2,  1, -4,  1, -4],\n",
       "        [ 1, -4,  1, -4, -4],\n",
       "        [-4,  1, -4, -4,  2]]))"
      ]
     },
     "execution_count": 315,
     "metadata": {},
     "output_type": "execute_result"
    }
   ],
   "source": [
    "player_inputs[:5], computer_inputs[:5], win_inputs[:5]"
   ]
  },
  {
   "cell_type": "code",
   "execution_count": 316,
   "metadata": {},
   "outputs": [
    {
     "data": {
      "text/plain": [
       "(490, 5, 3)"
      ]
     },
     "execution_count": 316,
     "metadata": {},
     "output_type": "execute_result"
    }
   ],
   "source": [
    "decay = 0.6\n",
    "test_xs = player_inputs - 1\n",
    "test_xs = keras.utils.to_categorical(test_xs, num_classes=3)\n",
    "\n",
    "apply_decay = lambda x : np.array([x[j]*(decay**(len(x) - j - 1)) for j in range(len(x))])\n",
    "\n",
    "for i in range(len(test_xs)):\n",
    "    test_xs[i] = apply_decay(test_xs[i])\n",
    "\n",
    "test_xs.shape"
   ]
  },
  {
   "cell_type": "code",
   "execution_count": 317,
   "metadata": {},
   "outputs": [
    {
     "data": {
      "text/plain": [
       "(490, 5, 3)"
      ]
     },
     "execution_count": 317,
     "metadata": {},
     "output_type": "execute_result"
    }
   ],
   "source": [
    "final_xs = np.array([np.array([test_xs[i,j] * win_inputs[i,j] for j in range(maxlen)]) for i in range(len(test_xs))])\n",
    "final_xs.shape"
   ]
  },
  {
   "cell_type": "code",
   "execution_count": 318,
   "metadata": {},
   "outputs": [
    {
     "data": {
      "text/plain": [
       "(490, 3)"
      ]
     },
     "execution_count": 318,
     "metadata": {},
     "output_type": "execute_result"
    }
   ],
   "source": [
    "final_xs = np.sum(final_xs, axis=1)\n",
    "final_xs.shape"
   ]
  },
  {
   "cell_type": "code",
   "execution_count": 319,
   "metadata": {},
   "outputs": [],
   "source": [
    "final_labels = labels - 1\n",
    "final_labels = keras.utils.to_categorical(final_labels, num_classes=3)"
   ]
  },
  {
   "cell_type": "code",
   "execution_count": 320,
   "metadata": {},
   "outputs": [
    {
     "data": {
      "text/plain": [
       "(array([[-2.4208    ,  0.432     ,  0.        ],\n",
       "        [-1.608     ,  1.2592    ,  0.        ],\n",
       "        [-0.96480006,  0.6       , -4.        ],\n",
       "        [-0.73440003, -3.6399999 , -2.4       ],\n",
       "        [ 1.4816    , -2.184     , -1.44      ]], dtype=float32),\n",
       " array([[0., 1., 0.],\n",
       "        [0., 0., 1.],\n",
       "        [0., 1., 0.],\n",
       "        [1., 0., 0.],\n",
       "        [0., 1., 0.]], dtype=float32))"
      ]
     },
     "execution_count": 320,
     "metadata": {},
     "output_type": "execute_result"
    }
   ],
   "source": [
    "final_xs[:5], final_labels[:5]"
   ]
  },
  {
   "cell_type": "code",
   "execution_count": 321,
   "metadata": {},
   "outputs": [],
   "source": [
    "train_size = int(split * len(final_xs))\n",
    "valid_size = int(((1+split)/2) * len(final_xs))\n",
    "\n",
    "training_data, training_labels = final_xs[:train_size], final_labels[:train_size]\n",
    "valid_data, valid_labels = final_xs[train_size:valid_size], final_labels[train_size:valid_size]\n",
    "test_data, test_labels = final_xs[valid_size:], final_labels[valid_size:]"
   ]
  },
  {
   "cell_type": "code",
   "execution_count": 322,
   "metadata": {},
   "outputs": [
    {
     "name": "stdout",
     "output_type": "stream",
     "text": [
      "Training data: (318, 3), (318, 3)\n",
      "Validation data: (86, 3), (86, 3)\n",
      "Test data: (86, 3), (86, 3)\n"
     ]
    }
   ],
   "source": [
    "print(f\"Training data: {training_data.shape}, {training_labels.shape}\")\n",
    "print(f\"Validation data: {valid_data.shape}, {valid_labels.shape}\")\n",
    "print(f\"Test data: {test_data.shape}, {test_labels.shape}\")"
   ]
  },
  {
   "cell_type": "code",
   "execution_count": 323,
   "metadata": {},
   "outputs": [],
   "source": [
    "model = tf.keras.Sequential([\n",
    "    # tf.keras.layers.LSTM(160, input_shape=(input_dim, maxlen), return_sequences=True),\n",
    "    # tf.keras.layers.LSTM(160, return_sequences=True),\n",
    "    # tf.keras.layers.LSTM(160),\n",
    "    \n",
    "    tf.keras.layers.Dense(160, activation='relu', input_shape= (3,)),\n",
    "    # tf.keras.layers.Dense(80, activation='relu'),\n",
    "    tf.keras.layers.Dense(80, activation='relu'),\n",
    "    tf.keras.layers.Dense(3, activation='softmax')\n",
    "])"
   ]
  },
  {
   "cell_type": "code",
   "execution_count": 324,
   "metadata": {},
   "outputs": [],
   "source": [
    "optimizer=tf.keras.optimizers.SGD(learning_rate=0.001, momentum=0.9)"
   ]
  },
  {
   "cell_type": "code",
   "execution_count": 325,
   "metadata": {},
   "outputs": [],
   "source": [
    "model.compile(optimizer=optimizer, loss='categorical_crossentropy', metrics=['accuracy'])"
   ]
  },
  {
   "cell_type": "code",
   "execution_count": 326,
   "metadata": {},
   "outputs": [
    {
     "name": "stdout",
     "output_type": "stream",
     "text": [
      "Epoch 1/250\n",
      "20/20 [==============================] - 1s 16ms/step - loss: 1.1656 - accuracy: 0.2925 - val_loss: 1.1624 - val_accuracy: 0.3023\n",
      "Epoch 2/250\n",
      "20/20 [==============================] - 0s 9ms/step - loss: 1.1345 - accuracy: 0.3050 - val_loss: 1.1338 - val_accuracy: 0.3140\n",
      "Epoch 3/250\n",
      "20/20 [==============================] - 0s 8ms/step - loss: 1.1170 - accuracy: 0.3019 - val_loss: 1.1175 - val_accuracy: 0.2791\n",
      "Epoch 4/250\n",
      "20/20 [==============================] - 0s 6ms/step - loss: 1.1063 - accuracy: 0.3459 - val_loss: 1.1090 - val_accuracy: 0.3605\n",
      "Epoch 5/250\n",
      "20/20 [==============================] - 0s 6ms/step - loss: 1.0986 - accuracy: 0.3711 - val_loss: 1.1060 - val_accuracy: 0.3372\n",
      "Epoch 6/250\n",
      "20/20 [==============================] - 0s 6ms/step - loss: 1.0936 - accuracy: 0.3711 - val_loss: 1.1044 - val_accuracy: 0.3605\n",
      "Epoch 7/250\n",
      "20/20 [==============================] - 0s 7ms/step - loss: 1.0895 - accuracy: 0.3868 - val_loss: 1.1020 - val_accuracy: 0.3488\n",
      "Epoch 8/250\n",
      "20/20 [==============================] - 0s 8ms/step - loss: 1.0859 - accuracy: 0.4025 - val_loss: 1.1003 - val_accuracy: 0.3721\n",
      "Epoch 9/250\n",
      "20/20 [==============================] - 0s 6ms/step - loss: 1.0826 - accuracy: 0.3994 - val_loss: 1.1001 - val_accuracy: 0.3605\n",
      "Epoch 10/250\n",
      "20/20 [==============================] - 0s 6ms/step - loss: 1.0797 - accuracy: 0.3962 - val_loss: 1.0987 - val_accuracy: 0.3721\n",
      "Epoch 11/250\n",
      "20/20 [==============================] - 0s 6ms/step - loss: 1.0770 - accuracy: 0.3962 - val_loss: 1.0976 - val_accuracy: 0.3837\n",
      "Epoch 12/250\n",
      "20/20 [==============================] - 0s 6ms/step - loss: 1.0741 - accuracy: 0.3805 - val_loss: 1.0970 - val_accuracy: 0.3605\n",
      "Epoch 13/250\n",
      "20/20 [==============================] - 0s 6ms/step - loss: 1.0711 - accuracy: 0.3742 - val_loss: 1.0964 - val_accuracy: 0.3605\n",
      "Epoch 14/250\n",
      "20/20 [==============================] - 0s 6ms/step - loss: 1.0695 - accuracy: 0.3774 - val_loss: 1.0958 - val_accuracy: 0.3721\n",
      "Epoch 15/250\n",
      "20/20 [==============================] - 0s 6ms/step - loss: 1.0661 - accuracy: 0.3931 - val_loss: 1.0954 - val_accuracy: 0.3837\n",
      "Epoch 16/250\n",
      "20/20 [==============================] - 0s 6ms/step - loss: 1.0642 - accuracy: 0.3962 - val_loss: 1.0943 - val_accuracy: 0.3837\n",
      "Epoch 17/250\n",
      "20/20 [==============================] - 0s 8ms/step - loss: 1.0618 - accuracy: 0.4119 - val_loss: 1.0943 - val_accuracy: 0.3721\n",
      "Epoch 18/250\n",
      "20/20 [==============================] - 0s 7ms/step - loss: 1.0601 - accuracy: 0.4245 - val_loss: 1.0943 - val_accuracy: 0.3837\n",
      "Epoch 19/250\n",
      "20/20 [==============================] - 0s 7ms/step - loss: 1.0579 - accuracy: 0.4214 - val_loss: 1.0945 - val_accuracy: 0.3953\n",
      "Epoch 20/250\n",
      "20/20 [==============================] - 0s 6ms/step - loss: 1.0560 - accuracy: 0.4340 - val_loss: 1.0940 - val_accuracy: 0.3837\n",
      "Epoch 21/250\n",
      "20/20 [==============================] - 0s 7ms/step - loss: 1.0545 - accuracy: 0.4277 - val_loss: 1.0936 - val_accuracy: 0.3953\n",
      "Epoch 22/250\n",
      "20/20 [==============================] - 0s 7ms/step - loss: 1.0534 - accuracy: 0.4403 - val_loss: 1.0946 - val_accuracy: 0.3953\n",
      "Epoch 23/250\n",
      "20/20 [==============================] - 0s 6ms/step - loss: 1.0512 - accuracy: 0.4560 - val_loss: 1.0946 - val_accuracy: 0.3953\n",
      "Epoch 24/250\n",
      "20/20 [==============================] - 0s 6ms/step - loss: 1.0504 - accuracy: 0.4528 - val_loss: 1.0930 - val_accuracy: 0.3837\n",
      "Epoch 25/250\n",
      "20/20 [==============================] - 0s 7ms/step - loss: 1.0482 - accuracy: 0.4686 - val_loss: 1.0936 - val_accuracy: 0.3837\n",
      "Epoch 26/250\n",
      "20/20 [==============================] - 0s 7ms/step - loss: 1.0466 - accuracy: 0.4654 - val_loss: 1.0918 - val_accuracy: 0.3953\n",
      "Epoch 27/250\n",
      "20/20 [==============================] - 0s 9ms/step - loss: 1.0455 - accuracy: 0.4654 - val_loss: 1.0936 - val_accuracy: 0.3953\n",
      "Epoch 28/250\n",
      "20/20 [==============================] - 0s 7ms/step - loss: 1.0440 - accuracy: 0.4686 - val_loss: 1.0930 - val_accuracy: 0.3837\n",
      "Epoch 29/250\n",
      "20/20 [==============================] - 0s 7ms/step - loss: 1.0428 - accuracy: 0.4717 - val_loss: 1.0930 - val_accuracy: 0.4070\n",
      "Epoch 30/250\n",
      "20/20 [==============================] - 0s 7ms/step - loss: 1.0413 - accuracy: 0.4748 - val_loss: 1.0933 - val_accuracy: 0.3953\n",
      "Epoch 31/250\n",
      "20/20 [==============================] - 0s 7ms/step - loss: 1.0403 - accuracy: 0.4686 - val_loss: 1.0925 - val_accuracy: 0.3953\n",
      "Epoch 32/250\n",
      "20/20 [==============================] - 0s 6ms/step - loss: 1.0391 - accuracy: 0.4748 - val_loss: 1.0938 - val_accuracy: 0.3953\n",
      "Epoch 33/250\n",
      "20/20 [==============================] - 0s 6ms/step - loss: 1.0380 - accuracy: 0.4717 - val_loss: 1.0931 - val_accuracy: 0.3953\n",
      "Epoch 34/250\n",
      "20/20 [==============================] - 0s 7ms/step - loss: 1.0372 - accuracy: 0.4780 - val_loss: 1.0940 - val_accuracy: 0.3953\n",
      "Epoch 35/250\n",
      "20/20 [==============================] - 0s 8ms/step - loss: 1.0365 - accuracy: 0.4748 - val_loss: 1.0934 - val_accuracy: 0.4186\n",
      "Epoch 36/250\n",
      "20/20 [==============================] - 0s 7ms/step - loss: 1.0362 - accuracy: 0.4686 - val_loss: 1.0930 - val_accuracy: 0.4070\n",
      "Epoch 37/250\n",
      "20/20 [==============================] - 0s 7ms/step - loss: 1.0346 - accuracy: 0.4811 - val_loss: 1.0930 - val_accuracy: 0.4070\n",
      "Epoch 38/250\n",
      "20/20 [==============================] - 0s 7ms/step - loss: 1.0337 - accuracy: 0.4811 - val_loss: 1.0944 - val_accuracy: 0.4070\n",
      "Epoch 39/250\n",
      "20/20 [==============================] - 0s 7ms/step - loss: 1.0322 - accuracy: 0.4748 - val_loss: 1.0931 - val_accuracy: 0.4070\n",
      "Epoch 40/250\n",
      "20/20 [==============================] - 0s 7ms/step - loss: 1.0315 - accuracy: 0.4780 - val_loss: 1.0929 - val_accuracy: 0.4070\n",
      "Epoch 41/250\n",
      "20/20 [==============================] - 0s 6ms/step - loss: 1.0303 - accuracy: 0.4780 - val_loss: 1.0931 - val_accuracy: 0.4070\n",
      "Epoch 42/250\n",
      "20/20 [==============================] - 0s 6ms/step - loss: 1.0297 - accuracy: 0.4811 - val_loss: 1.0934 - val_accuracy: 0.4186\n",
      "Epoch 43/250\n",
      "20/20 [==============================] - 0s 7ms/step - loss: 1.0294 - accuracy: 0.4843 - val_loss: 1.0935 - val_accuracy: 0.4186\n",
      "Epoch 44/250\n",
      "20/20 [==============================] - 0s 7ms/step - loss: 1.0282 - accuracy: 0.4717 - val_loss: 1.0935 - val_accuracy: 0.4186\n",
      "Epoch 45/250\n",
      "20/20 [==============================] - 0s 6ms/step - loss: 1.0271 - accuracy: 0.4780 - val_loss: 1.0926 - val_accuracy: 0.4186\n",
      "Epoch 46/250\n",
      "20/20 [==============================] - 0s 6ms/step - loss: 1.0265 - accuracy: 0.4811 - val_loss: 1.0935 - val_accuracy: 0.4186\n",
      "Epoch 47/250\n",
      "20/20 [==============================] - 0s 6ms/step - loss: 1.0253 - accuracy: 0.4843 - val_loss: 1.0938 - val_accuracy: 0.4186\n",
      "Epoch 48/250\n",
      "20/20 [==============================] - 0s 7ms/step - loss: 1.0247 - accuracy: 0.4874 - val_loss: 1.0939 - val_accuracy: 0.4186\n",
      "Epoch 49/250\n",
      "20/20 [==============================] - 0s 6ms/step - loss: 1.0243 - accuracy: 0.4811 - val_loss: 1.0950 - val_accuracy: 0.4186\n",
      "Epoch 50/250\n",
      "20/20 [==============================] - 0s 7ms/step - loss: 1.0236 - accuracy: 0.4811 - val_loss: 1.0939 - val_accuracy: 0.4186\n",
      "Epoch 51/250\n",
      "20/20 [==============================] - 0s 6ms/step - loss: 1.0225 - accuracy: 0.4843 - val_loss: 1.0936 - val_accuracy: 0.4070\n",
      "Epoch 52/250\n",
      "20/20 [==============================] - 0s 7ms/step - loss: 1.0224 - accuracy: 0.4874 - val_loss: 1.0924 - val_accuracy: 0.4070\n",
      "Epoch 53/250\n",
      "20/20 [==============================] - 0s 7ms/step - loss: 1.0221 - accuracy: 0.4906 - val_loss: 1.0912 - val_accuracy: 0.4070\n",
      "Epoch 54/250\n",
      "20/20 [==============================] - 0s 7ms/step - loss: 1.0207 - accuracy: 0.4906 - val_loss: 1.0943 - val_accuracy: 0.4070\n",
      "Epoch 55/250\n",
      "20/20 [==============================] - 0s 7ms/step - loss: 1.0196 - accuracy: 0.4906 - val_loss: 1.0939 - val_accuracy: 0.4070\n",
      "Epoch 56/250\n",
      "20/20 [==============================] - 0s 6ms/step - loss: 1.0193 - accuracy: 0.4906 - val_loss: 1.0947 - val_accuracy: 0.4070\n",
      "Epoch 57/250\n",
      "20/20 [==============================] - 0s 8ms/step - loss: 1.0191 - accuracy: 0.5000 - val_loss: 1.0932 - val_accuracy: 0.4070\n",
      "Epoch 58/250\n",
      "20/20 [==============================] - 0s 7ms/step - loss: 1.0186 - accuracy: 0.4780 - val_loss: 1.0957 - val_accuracy: 0.4070\n",
      "Epoch 59/250\n",
      "20/20 [==============================] - 0s 7ms/step - loss: 1.0172 - accuracy: 0.4906 - val_loss: 1.0949 - val_accuracy: 0.4070\n",
      "Epoch 60/250\n",
      "20/20 [==============================] - 0s 7ms/step - loss: 1.0164 - accuracy: 0.4906 - val_loss: 1.0939 - val_accuracy: 0.4070\n",
      "Epoch 61/250\n",
      "20/20 [==============================] - 0s 7ms/step - loss: 1.0164 - accuracy: 0.4969 - val_loss: 1.0938 - val_accuracy: 0.4070\n",
      "Epoch 62/250\n",
      "20/20 [==============================] - 0s 7ms/step - loss: 1.0156 - accuracy: 0.4874 - val_loss: 1.0950 - val_accuracy: 0.4070\n",
      "Epoch 63/250\n",
      "20/20 [==============================] - 0s 7ms/step - loss: 1.0155 - accuracy: 0.4937 - val_loss: 1.0962 - val_accuracy: 0.4186\n",
      "Epoch 64/250\n",
      "20/20 [==============================] - 0s 7ms/step - loss: 1.0144 - accuracy: 0.4937 - val_loss: 1.0970 - val_accuracy: 0.4186\n",
      "Epoch 65/250\n",
      "20/20 [==============================] - 0s 9ms/step - loss: 1.0131 - accuracy: 0.4969 - val_loss: 1.0945 - val_accuracy: 0.4070\n",
      "Epoch 66/250\n",
      "20/20 [==============================] - 0s 9ms/step - loss: 1.0132 - accuracy: 0.4906 - val_loss: 1.0951 - val_accuracy: 0.4070\n",
      "Epoch 67/250\n",
      "20/20 [==============================] - 0s 7ms/step - loss: 1.0126 - accuracy: 0.4937 - val_loss: 1.0937 - val_accuracy: 0.4070\n",
      "Epoch 68/250\n",
      "20/20 [==============================] - 0s 8ms/step - loss: 1.0124 - accuracy: 0.5063 - val_loss: 1.0930 - val_accuracy: 0.4070\n",
      "Epoch 69/250\n",
      "20/20 [==============================] - 0s 7ms/step - loss: 1.0122 - accuracy: 0.5031 - val_loss: 1.0928 - val_accuracy: 0.4186\n",
      "Epoch 70/250\n",
      "20/20 [==============================] - 0s 7ms/step - loss: 1.0119 - accuracy: 0.5031 - val_loss: 1.0944 - val_accuracy: 0.4186\n",
      "Epoch 71/250\n",
      "20/20 [==============================] - 0s 6ms/step - loss: 1.0112 - accuracy: 0.5000 - val_loss: 1.0938 - val_accuracy: 0.4070\n",
      "Epoch 72/250\n",
      "20/20 [==============================] - 0s 6ms/step - loss: 1.0112 - accuracy: 0.4937 - val_loss: 1.0960 - val_accuracy: 0.4070\n",
      "Epoch 73/250\n",
      "20/20 [==============================] - 0s 6ms/step - loss: 1.0104 - accuracy: 0.4906 - val_loss: 1.0968 - val_accuracy: 0.4070\n",
      "Epoch 74/250\n",
      "20/20 [==============================] - 0s 6ms/step - loss: 1.0088 - accuracy: 0.4937 - val_loss: 1.0963 - val_accuracy: 0.4070\n",
      "Epoch 75/250\n",
      "20/20 [==============================] - 0s 7ms/step - loss: 1.0088 - accuracy: 0.5000 - val_loss: 1.0951 - val_accuracy: 0.3953\n",
      "Epoch 76/250\n",
      "20/20 [==============================] - 0s 7ms/step - loss: 1.0085 - accuracy: 0.5031 - val_loss: 1.0956 - val_accuracy: 0.4070\n",
      "Epoch 77/250\n",
      "20/20 [==============================] - 0s 8ms/step - loss: 1.0077 - accuracy: 0.5000 - val_loss: 1.0962 - val_accuracy: 0.4070\n",
      "Epoch 78/250\n",
      "20/20 [==============================] - 0s 7ms/step - loss: 1.0070 - accuracy: 0.5031 - val_loss: 1.0959 - val_accuracy: 0.4070\n",
      "Epoch 79/250\n",
      "20/20 [==============================] - 0s 7ms/step - loss: 1.0074 - accuracy: 0.5000 - val_loss: 1.0980 - val_accuracy: 0.4070\n",
      "Epoch 80/250\n",
      "20/20 [==============================] - 0s 7ms/step - loss: 1.0067 - accuracy: 0.4937 - val_loss: 1.0972 - val_accuracy: 0.4070\n",
      "Epoch 81/250\n",
      "20/20 [==============================] - 0s 6ms/step - loss: 1.0070 - accuracy: 0.5000 - val_loss: 1.0944 - val_accuracy: 0.4070\n",
      "Epoch 82/250\n",
      "20/20 [==============================] - 0s 7ms/step - loss: 1.0066 - accuracy: 0.5000 - val_loss: 1.0952 - val_accuracy: 0.4186\n",
      "Epoch 83/250\n",
      "20/20 [==============================] - 0s 7ms/step - loss: 1.0055 - accuracy: 0.4937 - val_loss: 1.0953 - val_accuracy: 0.4186\n",
      "Epoch 84/250\n",
      "20/20 [==============================] - 0s 7ms/step - loss: 1.0046 - accuracy: 0.4937 - val_loss: 1.0977 - val_accuracy: 0.4070\n",
      "Epoch 85/250\n",
      "20/20 [==============================] - 0s 7ms/step - loss: 1.0040 - accuracy: 0.5000 - val_loss: 1.0983 - val_accuracy: 0.3953\n",
      "Epoch 86/250\n",
      "20/20 [==============================] - 0s 7ms/step - loss: 1.0046 - accuracy: 0.5031 - val_loss: 1.0979 - val_accuracy: 0.4186\n",
      "Epoch 87/250\n",
      "20/20 [==============================] - 0s 7ms/step - loss: 1.0034 - accuracy: 0.5000 - val_loss: 1.0986 - val_accuracy: 0.4070\n",
      "Epoch 88/250\n",
      "20/20 [==============================] - 0s 7ms/step - loss: 1.0033 - accuracy: 0.4969 - val_loss: 1.0962 - val_accuracy: 0.4186\n",
      "Epoch 89/250\n",
      "20/20 [==============================] - 0s 7ms/step - loss: 1.0030 - accuracy: 0.5157 - val_loss: 1.0955 - val_accuracy: 0.3953\n",
      "Epoch 90/250\n",
      "20/20 [==============================] - 0s 7ms/step - loss: 1.0022 - accuracy: 0.5031 - val_loss: 1.0989 - val_accuracy: 0.4070\n",
      "Epoch 91/250\n",
      "20/20 [==============================] - 0s 8ms/step - loss: 1.0016 - accuracy: 0.5063 - val_loss: 1.0997 - val_accuracy: 0.4070\n",
      "Epoch 92/250\n",
      "20/20 [==============================] - 0s 7ms/step - loss: 1.0011 - accuracy: 0.5094 - val_loss: 1.0986 - val_accuracy: 0.3953\n",
      "Epoch 93/250\n",
      "20/20 [==============================] - 0s 7ms/step - loss: 1.0006 - accuracy: 0.5063 - val_loss: 1.0990 - val_accuracy: 0.4070\n",
      "Epoch 94/250\n",
      "20/20 [==============================] - 0s 8ms/step - loss: 1.0006 - accuracy: 0.5031 - val_loss: 1.0977 - val_accuracy: 0.4186\n",
      "Epoch 95/250\n",
      "20/20 [==============================] - 0s 7ms/step - loss: 1.0001 - accuracy: 0.5031 - val_loss: 1.0990 - val_accuracy: 0.4070\n",
      "Epoch 96/250\n",
      "20/20 [==============================] - 0s 7ms/step - loss: 1.0007 - accuracy: 0.5000 - val_loss: 1.0989 - val_accuracy: 0.4070\n",
      "Epoch 97/250\n",
      "20/20 [==============================] - 0s 8ms/step - loss: 1.0003 - accuracy: 0.5126 - val_loss: 1.1006 - val_accuracy: 0.3953\n",
      "Epoch 98/250\n",
      "20/20 [==============================] - 0s 7ms/step - loss: 0.9997 - accuracy: 0.5094 - val_loss: 1.1008 - val_accuracy: 0.4070\n",
      "Epoch 99/250\n",
      "20/20 [==============================] - 0s 7ms/step - loss: 0.9986 - accuracy: 0.5094 - val_loss: 1.0998 - val_accuracy: 0.4070\n",
      "Epoch 100/250\n",
      "20/20 [==============================] - 0s 8ms/step - loss: 0.9990 - accuracy: 0.5189 - val_loss: 1.0992 - val_accuracy: 0.4070\n",
      "Epoch 101/250\n",
      "20/20 [==============================] - 0s 7ms/step - loss: 0.9977 - accuracy: 0.5094 - val_loss: 1.1001 - val_accuracy: 0.4070\n",
      "Epoch 102/250\n",
      "20/20 [==============================] - 0s 8ms/step - loss: 0.9975 - accuracy: 0.5063 - val_loss: 1.0997 - val_accuracy: 0.4070\n",
      "Epoch 103/250\n",
      "20/20 [==============================] - 0s 8ms/step - loss: 0.9970 - accuracy: 0.5094 - val_loss: 1.1002 - val_accuracy: 0.4070\n",
      "Epoch 104/250\n",
      "20/20 [==============================] - 0s 7ms/step - loss: 0.9970 - accuracy: 0.5157 - val_loss: 1.1009 - val_accuracy: 0.3953\n",
      "Epoch 105/250\n",
      "20/20 [==============================] - 0s 8ms/step - loss: 0.9975 - accuracy: 0.5126 - val_loss: 1.1005 - val_accuracy: 0.4070\n",
      "Epoch 106/250\n",
      "20/20 [==============================] - 0s 7ms/step - loss: 0.9967 - accuracy: 0.5157 - val_loss: 1.1003 - val_accuracy: 0.3953\n",
      "Epoch 107/250\n",
      "20/20 [==============================] - 0s 7ms/step - loss: 0.9969 - accuracy: 0.5094 - val_loss: 1.1019 - val_accuracy: 0.4070\n",
      "Epoch 108/250\n",
      "20/20 [==============================] - 0s 7ms/step - loss: 0.9952 - accuracy: 0.5126 - val_loss: 1.1013 - val_accuracy: 0.4070\n",
      "Epoch 109/250\n",
      "20/20 [==============================] - 0s 7ms/step - loss: 0.9955 - accuracy: 0.5094 - val_loss: 1.1026 - val_accuracy: 0.4070\n",
      "Epoch 110/250\n",
      "20/20 [==============================] - 0s 7ms/step - loss: 0.9952 - accuracy: 0.5094 - val_loss: 1.1021 - val_accuracy: 0.4070\n",
      "Epoch 111/250\n",
      "20/20 [==============================] - 0s 7ms/step - loss: 0.9945 - accuracy: 0.5220 - val_loss: 1.1013 - val_accuracy: 0.4070\n",
      "Epoch 112/250\n",
      "20/20 [==============================] - 0s 7ms/step - loss: 0.9944 - accuracy: 0.5252 - val_loss: 1.1021 - val_accuracy: 0.4070\n",
      "Epoch 113/250\n",
      "20/20 [==============================] - 0s 6ms/step - loss: 0.9944 - accuracy: 0.5220 - val_loss: 1.1029 - val_accuracy: 0.3953\n",
      "Epoch 114/250\n",
      "20/20 [==============================] - 0s 7ms/step - loss: 0.9949 - accuracy: 0.5189 - val_loss: 1.1048 - val_accuracy: 0.4070\n",
      "Epoch 115/250\n",
      "20/20 [==============================] - 0s 6ms/step - loss: 0.9935 - accuracy: 0.5126 - val_loss: 1.1012 - val_accuracy: 0.3953\n",
      "Epoch 116/250\n",
      "20/20 [==============================] - 0s 6ms/step - loss: 0.9930 - accuracy: 0.5126 - val_loss: 1.1004 - val_accuracy: 0.4186\n",
      "Epoch 117/250\n",
      "20/20 [==============================] - 0s 7ms/step - loss: 0.9927 - accuracy: 0.5220 - val_loss: 1.1024 - val_accuracy: 0.4070\n",
      "Epoch 118/250\n",
      "20/20 [==============================] - 0s 6ms/step - loss: 0.9929 - accuracy: 0.5189 - val_loss: 1.1023 - val_accuracy: 0.4070\n",
      "Epoch 119/250\n",
      "20/20 [==============================] - 0s 8ms/step - loss: 0.9922 - accuracy: 0.5189 - val_loss: 1.1045 - val_accuracy: 0.3953\n",
      "Epoch 120/250\n",
      "20/20 [==============================] - 0s 7ms/step - loss: 0.9911 - accuracy: 0.5189 - val_loss: 1.1041 - val_accuracy: 0.4070\n",
      "Epoch 121/250\n",
      "20/20 [==============================] - 0s 7ms/step - loss: 0.9913 - accuracy: 0.5157 - val_loss: 1.1049 - val_accuracy: 0.4070\n",
      "Epoch 122/250\n",
      "20/20 [==============================] - 0s 7ms/step - loss: 0.9921 - accuracy: 0.5252 - val_loss: 1.1048 - val_accuracy: 0.4070\n",
      "Epoch 123/250\n",
      "20/20 [==============================] - 0s 7ms/step - loss: 0.9906 - accuracy: 0.5220 - val_loss: 1.1036 - val_accuracy: 0.4070\n",
      "Epoch 124/250\n",
      "20/20 [==============================] - 0s 7ms/step - loss: 0.9907 - accuracy: 0.5220 - val_loss: 1.1037 - val_accuracy: 0.4070\n",
      "Epoch 125/250\n",
      "20/20 [==============================] - 0s 7ms/step - loss: 0.9896 - accuracy: 0.5220 - val_loss: 1.1058 - val_accuracy: 0.4070\n",
      "Epoch 126/250\n",
      "20/20 [==============================] - 0s 7ms/step - loss: 0.9906 - accuracy: 0.5220 - val_loss: 1.1038 - val_accuracy: 0.4070\n",
      "Epoch 127/250\n",
      "20/20 [==============================] - 0s 7ms/step - loss: 0.9897 - accuracy: 0.5157 - val_loss: 1.1061 - val_accuracy: 0.3953\n",
      "Epoch 128/250\n",
      "20/20 [==============================] - 0s 7ms/step - loss: 0.9887 - accuracy: 0.5252 - val_loss: 1.1049 - val_accuracy: 0.4070\n",
      "Epoch 129/250\n",
      "20/20 [==============================] - 0s 7ms/step - loss: 0.9885 - accuracy: 0.5283 - val_loss: 1.1076 - val_accuracy: 0.4070\n",
      "Epoch 130/250\n",
      "20/20 [==============================] - 0s 7ms/step - loss: 0.9880 - accuracy: 0.5252 - val_loss: 1.1065 - val_accuracy: 0.4070\n",
      "Epoch 131/250\n",
      "20/20 [==============================] - 0s 7ms/step - loss: 0.9882 - accuracy: 0.5189 - val_loss: 1.1058 - val_accuracy: 0.4070\n",
      "Epoch 132/250\n",
      "20/20 [==============================] - 0s 8ms/step - loss: 0.9875 - accuracy: 0.5314 - val_loss: 1.1044 - val_accuracy: 0.4070\n",
      "Epoch 133/250\n",
      "20/20 [==============================] - 0s 9ms/step - loss: 0.9875 - accuracy: 0.5189 - val_loss: 1.1065 - val_accuracy: 0.3953\n",
      "Epoch 134/250\n",
      "20/20 [==============================] - 0s 10ms/step - loss: 0.9873 - accuracy: 0.5283 - val_loss: 1.1076 - val_accuracy: 0.4070\n",
      "Epoch 135/250\n",
      "20/20 [==============================] - 0s 9ms/step - loss: 0.9862 - accuracy: 0.5220 - val_loss: 1.1068 - val_accuracy: 0.4070\n",
      "Epoch 136/250\n",
      "20/20 [==============================] - 0s 8ms/step - loss: 0.9857 - accuracy: 0.5314 - val_loss: 1.1051 - val_accuracy: 0.4070\n",
      "Epoch 137/250\n",
      "20/20 [==============================] - 0s 8ms/step - loss: 0.9853 - accuracy: 0.5314 - val_loss: 1.1081 - val_accuracy: 0.3953\n",
      "Epoch 138/250\n",
      "20/20 [==============================] - 0s 7ms/step - loss: 0.9862 - accuracy: 0.5252 - val_loss: 1.1065 - val_accuracy: 0.4070\n",
      "Epoch 139/250\n",
      "20/20 [==============================] - 0s 7ms/step - loss: 0.9869 - accuracy: 0.5252 - val_loss: 1.1078 - val_accuracy: 0.4070\n",
      "Epoch 140/250\n",
      "20/20 [==============================] - 0s 7ms/step - loss: 0.9843 - accuracy: 0.5346 - val_loss: 1.1067 - val_accuracy: 0.3953\n",
      "Epoch 141/250\n",
      "20/20 [==============================] - 0s 7ms/step - loss: 0.9853 - accuracy: 0.5314 - val_loss: 1.1087 - val_accuracy: 0.4070\n",
      "Epoch 142/250\n",
      "20/20 [==============================] - 0s 7ms/step - loss: 0.9843 - accuracy: 0.5377 - val_loss: 1.1065 - val_accuracy: 0.3953\n",
      "Epoch 143/250\n",
      "20/20 [==============================] - 0s 7ms/step - loss: 0.9834 - accuracy: 0.5314 - val_loss: 1.1080 - val_accuracy: 0.4070\n",
      "Epoch 144/250\n",
      "20/20 [==============================] - 0s 8ms/step - loss: 0.9835 - accuracy: 0.5314 - val_loss: 1.1119 - val_accuracy: 0.4186\n",
      "Epoch 145/250\n",
      "20/20 [==============================] - 0s 7ms/step - loss: 0.9836 - accuracy: 0.5252 - val_loss: 1.1075 - val_accuracy: 0.3953\n",
      "Epoch 146/250\n",
      "20/20 [==============================] - 0s 7ms/step - loss: 0.9826 - accuracy: 0.5314 - val_loss: 1.1063 - val_accuracy: 0.3953\n",
      "Epoch 147/250\n",
      "20/20 [==============================] - 0s 7ms/step - loss: 0.9827 - accuracy: 0.5346 - val_loss: 1.1117 - val_accuracy: 0.3953\n",
      "Epoch 148/250\n",
      "20/20 [==============================] - 0s 7ms/step - loss: 0.9813 - accuracy: 0.5220 - val_loss: 1.1100 - val_accuracy: 0.4070\n",
      "Epoch 149/250\n",
      "20/20 [==============================] - 0s 7ms/step - loss: 0.9810 - accuracy: 0.5252 - val_loss: 1.1079 - val_accuracy: 0.4070\n",
      "Epoch 150/250\n",
      "20/20 [==============================] - 0s 7ms/step - loss: 0.9807 - accuracy: 0.5220 - val_loss: 1.1102 - val_accuracy: 0.3953\n",
      "Epoch 151/250\n",
      "20/20 [==============================] - 0s 7ms/step - loss: 0.9809 - accuracy: 0.5346 - val_loss: 1.1106 - val_accuracy: 0.3953\n",
      "Epoch 152/250\n",
      "20/20 [==============================] - 0s 8ms/step - loss: 0.9806 - accuracy: 0.5314 - val_loss: 1.1128 - val_accuracy: 0.3953\n",
      "Epoch 153/250\n",
      "20/20 [==============================] - 0s 7ms/step - loss: 0.9801 - accuracy: 0.5346 - val_loss: 1.1121 - val_accuracy: 0.3953\n",
      "Epoch 154/250\n",
      "20/20 [==============================] - 0s 7ms/step - loss: 0.9792 - accuracy: 0.5346 - val_loss: 1.1110 - val_accuracy: 0.4070\n",
      "Epoch 155/250\n",
      "20/20 [==============================] - 0s 7ms/step - loss: 0.9797 - accuracy: 0.5314 - val_loss: 1.1095 - val_accuracy: 0.3953\n",
      "Epoch 156/250\n",
      "20/20 [==============================] - 0s 6ms/step - loss: 0.9783 - accuracy: 0.5346 - val_loss: 1.1108 - val_accuracy: 0.3953\n",
      "Epoch 157/250\n",
      "20/20 [==============================] - 0s 8ms/step - loss: 0.9787 - accuracy: 0.5314 - val_loss: 1.1146 - val_accuracy: 0.4070\n",
      "Epoch 158/250\n",
      "20/20 [==============================] - 0s 7ms/step - loss: 0.9779 - accuracy: 0.5314 - val_loss: 1.1091 - val_accuracy: 0.3953\n",
      "Epoch 159/250\n",
      "20/20 [==============================] - 0s 7ms/step - loss: 0.9785 - accuracy: 0.5440 - val_loss: 1.1110 - val_accuracy: 0.3953\n",
      "Epoch 160/250\n",
      "20/20 [==============================] - 0s 7ms/step - loss: 0.9780 - accuracy: 0.5409 - val_loss: 1.1112 - val_accuracy: 0.3953\n",
      "Epoch 161/250\n",
      "20/20 [==============================] - 0s 8ms/step - loss: 0.9786 - accuracy: 0.5346 - val_loss: 1.1156 - val_accuracy: 0.4070\n",
      "Epoch 162/250\n",
      "20/20 [==============================] - 0s 9ms/step - loss: 0.9776 - accuracy: 0.5377 - val_loss: 1.1140 - val_accuracy: 0.3953\n",
      "Epoch 163/250\n",
      "20/20 [==============================] - 0s 7ms/step - loss: 0.9769 - accuracy: 0.5252 - val_loss: 1.1156 - val_accuracy: 0.4070\n",
      "Epoch 164/250\n",
      "20/20 [==============================] - 0s 7ms/step - loss: 0.9776 - accuracy: 0.5314 - val_loss: 1.1143 - val_accuracy: 0.4070\n",
      "Epoch 165/250\n",
      "20/20 [==============================] - 0s 7ms/step - loss: 0.9766 - accuracy: 0.5566 - val_loss: 1.1147 - val_accuracy: 0.3953\n",
      "Epoch 166/250\n",
      "20/20 [==============================] - 0s 8ms/step - loss: 0.9761 - accuracy: 0.5440 - val_loss: 1.1143 - val_accuracy: 0.3953\n",
      "Epoch 167/250\n",
      "20/20 [==============================] - 0s 10ms/step - loss: 0.9763 - accuracy: 0.5346 - val_loss: 1.1152 - val_accuracy: 0.3953\n",
      "Epoch 168/250\n",
      "20/20 [==============================] - 0s 11ms/step - loss: 0.9747 - accuracy: 0.5346 - val_loss: 1.1147 - val_accuracy: 0.3953\n",
      "Epoch 169/250\n",
      "20/20 [==============================] - 0s 8ms/step - loss: 0.9749 - accuracy: 0.5535 - val_loss: 1.1121 - val_accuracy: 0.4070\n",
      "Epoch 170/250\n",
      "20/20 [==============================] - 0s 8ms/step - loss: 0.9742 - accuracy: 0.5377 - val_loss: 1.1143 - val_accuracy: 0.4070\n",
      "Epoch 171/250\n",
      "20/20 [==============================] - 0s 7ms/step - loss: 0.9747 - accuracy: 0.5377 - val_loss: 1.1154 - val_accuracy: 0.4070\n",
      "Epoch 172/250\n",
      "20/20 [==============================] - 0s 7ms/step - loss: 0.9738 - accuracy: 0.5377 - val_loss: 1.1169 - val_accuracy: 0.4070\n",
      "Epoch 173/250\n",
      "20/20 [==============================] - 0s 7ms/step - loss: 0.9750 - accuracy: 0.5409 - val_loss: 1.1159 - val_accuracy: 0.3953\n",
      "Epoch 174/250\n",
      "20/20 [==============================] - 0s 7ms/step - loss: 0.9744 - accuracy: 0.5314 - val_loss: 1.1186 - val_accuracy: 0.3953\n",
      "Epoch 175/250\n",
      "20/20 [==============================] - 0s 8ms/step - loss: 0.9742 - accuracy: 0.5503 - val_loss: 1.1151 - val_accuracy: 0.4070\n",
      "Epoch 176/250\n",
      "20/20 [==============================] - 0s 8ms/step - loss: 0.9738 - accuracy: 0.5472 - val_loss: 1.1165 - val_accuracy: 0.3953\n",
      "Epoch 177/250\n",
      "20/20 [==============================] - 0s 7ms/step - loss: 0.9718 - accuracy: 0.5377 - val_loss: 1.1166 - val_accuracy: 0.3953\n",
      "Epoch 178/250\n",
      "20/20 [==============================] - 0s 7ms/step - loss: 0.9711 - accuracy: 0.5346 - val_loss: 1.1185 - val_accuracy: 0.3953\n",
      "Epoch 179/250\n",
      "20/20 [==============================] - 0s 7ms/step - loss: 0.9719 - accuracy: 0.5472 - val_loss: 1.1168 - val_accuracy: 0.3837\n",
      "Epoch 180/250\n",
      "20/20 [==============================] - 0s 7ms/step - loss: 0.9713 - accuracy: 0.5472 - val_loss: 1.1168 - val_accuracy: 0.4070\n",
      "Epoch 181/250\n",
      "20/20 [==============================] - 0s 7ms/step - loss: 0.9714 - accuracy: 0.5440 - val_loss: 1.1188 - val_accuracy: 0.3953\n",
      "Epoch 182/250\n",
      "20/20 [==============================] - 0s 7ms/step - loss: 0.9707 - accuracy: 0.5377 - val_loss: 1.1193 - val_accuracy: 0.3953\n",
      "Epoch 183/250\n",
      "20/20 [==============================] - 0s 7ms/step - loss: 0.9710 - accuracy: 0.5503 - val_loss: 1.1154 - val_accuracy: 0.3953\n",
      "Epoch 184/250\n",
      "20/20 [==============================] - 0s 8ms/step - loss: 0.9697 - accuracy: 0.5472 - val_loss: 1.1177 - val_accuracy: 0.3953\n",
      "Epoch 185/250\n",
      "20/20 [==============================] - 0s 7ms/step - loss: 0.9703 - accuracy: 0.5472 - val_loss: 1.1185 - val_accuracy: 0.3953\n",
      "Epoch 186/250\n",
      "20/20 [==============================] - 0s 7ms/step - loss: 0.9684 - accuracy: 0.5314 - val_loss: 1.1219 - val_accuracy: 0.3953\n",
      "Epoch 187/250\n",
      "20/20 [==============================] - 0s 7ms/step - loss: 0.9690 - accuracy: 0.5409 - val_loss: 1.1211 - val_accuracy: 0.4070\n",
      "Epoch 188/250\n",
      "20/20 [==============================] - 0s 7ms/step - loss: 0.9693 - accuracy: 0.5377 - val_loss: 1.1209 - val_accuracy: 0.4070\n",
      "Epoch 189/250\n",
      "20/20 [==============================] - 0s 7ms/step - loss: 0.9684 - accuracy: 0.5440 - val_loss: 1.1193 - val_accuracy: 0.3953\n",
      "Epoch 190/250\n",
      "20/20 [==============================] - 0s 7ms/step - loss: 0.9683 - accuracy: 0.5472 - val_loss: 1.1211 - val_accuracy: 0.3953\n",
      "Epoch 191/250\n",
      "20/20 [==============================] - 0s 7ms/step - loss: 0.9690 - accuracy: 0.5440 - val_loss: 1.1174 - val_accuracy: 0.3953\n",
      "Epoch 192/250\n",
      "20/20 [==============================] - 0s 8ms/step - loss: 0.9698 - accuracy: 0.5346 - val_loss: 1.1253 - val_accuracy: 0.4070\n",
      "Epoch 193/250\n",
      "20/20 [==============================] - 0s 8ms/step - loss: 0.9677 - accuracy: 0.5472 - val_loss: 1.1183 - val_accuracy: 0.3953\n",
      "Epoch 194/250\n",
      "20/20 [==============================] - 0s 7ms/step - loss: 0.9671 - accuracy: 0.5440 - val_loss: 1.1199 - val_accuracy: 0.3953\n",
      "Epoch 195/250\n",
      "20/20 [==============================] - 0s 7ms/step - loss: 0.9673 - accuracy: 0.5472 - val_loss: 1.1217 - val_accuracy: 0.4070\n",
      "Epoch 196/250\n",
      "20/20 [==============================] - 0s 8ms/step - loss: 0.9672 - accuracy: 0.5503 - val_loss: 1.1243 - val_accuracy: 0.4070\n",
      "Epoch 197/250\n",
      "20/20 [==============================] - 0s 10ms/step - loss: 0.9649 - accuracy: 0.5472 - val_loss: 1.1205 - val_accuracy: 0.3953\n",
      "Epoch 198/250\n",
      "20/20 [==============================] - 0s 8ms/step - loss: 0.9668 - accuracy: 0.5472 - val_loss: 1.1195 - val_accuracy: 0.3953\n",
      "Epoch 199/250\n",
      "20/20 [==============================] - 0s 10ms/step - loss: 0.9650 - accuracy: 0.5472 - val_loss: 1.1188 - val_accuracy: 0.3953\n",
      "Epoch 200/250\n",
      "20/20 [==============================] - 0s 10ms/step - loss: 0.9648 - accuracy: 0.5472 - val_loss: 1.1207 - val_accuracy: 0.3953\n",
      "Epoch 201/250\n",
      "20/20 [==============================] - 0s 9ms/step - loss: 0.9652 - accuracy: 0.5503 - val_loss: 1.1234 - val_accuracy: 0.4070\n",
      "Epoch 202/250\n",
      "20/20 [==============================] - 0s 9ms/step - loss: 0.9644 - accuracy: 0.5472 - val_loss: 1.1245 - val_accuracy: 0.3837\n",
      "Epoch 203/250\n",
      "20/20 [==============================] - 0s 7ms/step - loss: 0.9637 - accuracy: 0.5472 - val_loss: 1.1222 - val_accuracy: 0.3953\n",
      "Epoch 204/250\n",
      "20/20 [==============================] - 0s 7ms/step - loss: 0.9633 - accuracy: 0.5566 - val_loss: 1.1255 - val_accuracy: 0.3953\n",
      "Epoch 205/250\n",
      "20/20 [==============================] - 0s 7ms/step - loss: 0.9655 - accuracy: 0.5503 - val_loss: 1.1221 - val_accuracy: 0.3953\n",
      "Epoch 206/250\n",
      "20/20 [==============================] - 0s 7ms/step - loss: 0.9623 - accuracy: 0.5377 - val_loss: 1.1244 - val_accuracy: 0.3837\n",
      "Epoch 207/250\n",
      "20/20 [==============================] - 0s 8ms/step - loss: 0.9632 - accuracy: 0.5440 - val_loss: 1.1263 - val_accuracy: 0.3837\n",
      "Epoch 208/250\n",
      "20/20 [==============================] - 0s 8ms/step - loss: 0.9613 - accuracy: 0.5566 - val_loss: 1.1236 - val_accuracy: 0.4186\n",
      "Epoch 209/250\n",
      "20/20 [==============================] - 0s 7ms/step - loss: 0.9616 - accuracy: 0.5629 - val_loss: 1.1240 - val_accuracy: 0.4070\n",
      "Epoch 210/250\n",
      "20/20 [==============================] - 0s 7ms/step - loss: 0.9619 - accuracy: 0.5503 - val_loss: 1.1244 - val_accuracy: 0.4070\n",
      "Epoch 211/250\n",
      "20/20 [==============================] - 0s 7ms/step - loss: 0.9614 - accuracy: 0.5597 - val_loss: 1.1220 - val_accuracy: 0.4070\n",
      "Epoch 212/250\n",
      "20/20 [==============================] - 0s 7ms/step - loss: 0.9612 - accuracy: 0.5597 - val_loss: 1.1232 - val_accuracy: 0.3953\n",
      "Epoch 213/250\n",
      "20/20 [==============================] - 0s 7ms/step - loss: 0.9606 - accuracy: 0.5566 - val_loss: 1.1283 - val_accuracy: 0.4070\n",
      "Epoch 214/250\n",
      "20/20 [==============================] - 0s 7ms/step - loss: 0.9609 - accuracy: 0.5503 - val_loss: 1.1252 - val_accuracy: 0.4070\n",
      "Epoch 215/250\n",
      "20/20 [==============================] - 0s 8ms/step - loss: 0.9591 - accuracy: 0.5535 - val_loss: 1.1256 - val_accuracy: 0.4070\n",
      "Epoch 216/250\n",
      "20/20 [==============================] - 0s 8ms/step - loss: 0.9620 - accuracy: 0.5503 - val_loss: 1.1214 - val_accuracy: 0.3837\n",
      "Epoch 217/250\n",
      "20/20 [==============================] - 0s 8ms/step - loss: 0.9582 - accuracy: 0.5597 - val_loss: 1.1273 - val_accuracy: 0.4186\n",
      "Epoch 218/250\n",
      "20/20 [==============================] - 0s 7ms/step - loss: 0.9610 - accuracy: 0.5597 - val_loss: 1.1262 - val_accuracy: 0.4070\n",
      "Epoch 219/250\n",
      "20/20 [==============================] - 0s 7ms/step - loss: 0.9588 - accuracy: 0.5629 - val_loss: 1.1288 - val_accuracy: 0.4186\n",
      "Epoch 220/250\n",
      "20/20 [==============================] - 0s 7ms/step - loss: 0.9582 - accuracy: 0.5535 - val_loss: 1.1276 - val_accuracy: 0.3837\n",
      "Epoch 221/250\n",
      "20/20 [==============================] - 0s 7ms/step - loss: 0.9577 - accuracy: 0.5597 - val_loss: 1.1266 - val_accuracy: 0.4070\n",
      "Epoch 222/250\n",
      "20/20 [==============================] - 0s 7ms/step - loss: 0.9583 - accuracy: 0.5692 - val_loss: 1.1238 - val_accuracy: 0.4070\n",
      "Epoch 223/250\n",
      "20/20 [==============================] - 0s 7ms/step - loss: 0.9564 - accuracy: 0.5629 - val_loss: 1.1264 - val_accuracy: 0.4070\n",
      "Epoch 224/250\n",
      "20/20 [==============================] - 0s 8ms/step - loss: 0.9566 - accuracy: 0.5566 - val_loss: 1.1295 - val_accuracy: 0.4070\n",
      "Epoch 225/250\n",
      "20/20 [==============================] - 0s 8ms/step - loss: 0.9564 - accuracy: 0.5597 - val_loss: 1.1277 - val_accuracy: 0.4070\n",
      "Epoch 226/250\n",
      "20/20 [==============================] - 0s 7ms/step - loss: 0.9561 - accuracy: 0.5566 - val_loss: 1.1278 - val_accuracy: 0.4070\n",
      "Epoch 227/250\n",
      "20/20 [==============================] - 0s 7ms/step - loss: 0.9568 - accuracy: 0.5566 - val_loss: 1.1230 - val_accuracy: 0.3953\n",
      "Epoch 228/250\n",
      "20/20 [==============================] - 0s 8ms/step - loss: 0.9546 - accuracy: 0.5597 - val_loss: 1.1293 - val_accuracy: 0.3837\n",
      "Epoch 229/250\n",
      "20/20 [==============================] - 0s 9ms/step - loss: 0.9547 - accuracy: 0.5629 - val_loss: 1.1300 - val_accuracy: 0.4070\n",
      "Epoch 230/250\n",
      "20/20 [==============================] - 0s 8ms/step - loss: 0.9559 - accuracy: 0.5566 - val_loss: 1.1300 - val_accuracy: 0.4070\n",
      "Epoch 231/250\n",
      "20/20 [==============================] - 0s 8ms/step - loss: 0.9550 - accuracy: 0.5629 - val_loss: 1.1273 - val_accuracy: 0.4070\n",
      "Epoch 232/250\n",
      "20/20 [==============================] - 0s 9ms/step - loss: 0.9538 - accuracy: 0.5503 - val_loss: 1.1316 - val_accuracy: 0.3837\n",
      "Epoch 233/250\n",
      "20/20 [==============================] - 0s 8ms/step - loss: 0.9550 - accuracy: 0.5566 - val_loss: 1.1285 - val_accuracy: 0.3953\n",
      "Epoch 234/250\n",
      "20/20 [==============================] - 0s 8ms/step - loss: 0.9529 - accuracy: 0.5629 - val_loss: 1.1312 - val_accuracy: 0.3837\n",
      "Epoch 235/250\n",
      "20/20 [==============================] - 0s 8ms/step - loss: 0.9536 - accuracy: 0.5566 - val_loss: 1.1256 - val_accuracy: 0.3953\n",
      "Epoch 236/250\n",
      "20/20 [==============================] - 0s 8ms/step - loss: 0.9530 - accuracy: 0.5440 - val_loss: 1.1327 - val_accuracy: 0.3837\n",
      "Epoch 237/250\n",
      "20/20 [==============================] - 0s 7ms/step - loss: 0.9520 - accuracy: 0.5660 - val_loss: 1.1315 - val_accuracy: 0.3837\n",
      "Epoch 238/250\n",
      "20/20 [==============================] - 0s 7ms/step - loss: 0.9516 - accuracy: 0.5597 - val_loss: 1.1314 - val_accuracy: 0.3837\n",
      "Epoch 239/250\n",
      "20/20 [==============================] - 0s 7ms/step - loss: 0.9515 - accuracy: 0.5566 - val_loss: 1.1314 - val_accuracy: 0.4070\n",
      "Epoch 240/250\n",
      "20/20 [==============================] - 0s 8ms/step - loss: 0.9517 - accuracy: 0.5597 - val_loss: 1.1306 - val_accuracy: 0.3837\n",
      "Epoch 241/250\n",
      "20/20 [==============================] - 0s 7ms/step - loss: 0.9503 - accuracy: 0.5629 - val_loss: 1.1316 - val_accuracy: 0.4070\n",
      "Epoch 242/250\n",
      "20/20 [==============================] - 0s 8ms/step - loss: 0.9505 - accuracy: 0.5597 - val_loss: 1.1289 - val_accuracy: 0.4070\n",
      "Epoch 243/250\n",
      "20/20 [==============================] - 0s 7ms/step - loss: 0.9518 - accuracy: 0.5660 - val_loss: 1.1293 - val_accuracy: 0.4070\n",
      "Epoch 244/250\n",
      "20/20 [==============================] - 0s 7ms/step - loss: 0.9498 - accuracy: 0.5629 - val_loss: 1.1314 - val_accuracy: 0.3837\n",
      "Epoch 245/250\n",
      "20/20 [==============================] - 0s 7ms/step - loss: 0.9495 - accuracy: 0.5597 - val_loss: 1.1354 - val_accuracy: 0.4070\n",
      "Epoch 246/250\n",
      "20/20 [==============================] - 0s 7ms/step - loss: 0.9498 - accuracy: 0.5660 - val_loss: 1.1321 - val_accuracy: 0.4186\n",
      "Epoch 247/250\n",
      "20/20 [==============================] - 0s 7ms/step - loss: 0.9497 - accuracy: 0.5692 - val_loss: 1.1339 - val_accuracy: 0.4070\n",
      "Epoch 248/250\n",
      "20/20 [==============================] - 0s 9ms/step - loss: 0.9533 - accuracy: 0.5629 - val_loss: 1.1316 - val_accuracy: 0.4186\n",
      "Epoch 249/250\n",
      "20/20 [==============================] - 0s 7ms/step - loss: 0.9483 - accuracy: 0.5629 - val_loss: 1.1333 - val_accuracy: 0.3953\n",
      "Epoch 250/250\n",
      "20/20 [==============================] - 0s 7ms/step - loss: 0.9479 - accuracy: 0.5535 - val_loss: 1.1361 - val_accuracy: 0.3953\n"
     ]
    }
   ],
   "source": [
    "history = model.fit(training_data, training_labels, epochs=250, batch_size=16, verbose=1, shuffle=True, validation_data=(valid_data, valid_labels))"
   ]
  },
  {
   "cell_type": "code",
   "execution_count": 330,
   "metadata": {},
   "outputs": [
    {
     "data": {
      "image/png": "[encoded data removed]",
      "text/plain": [
       "<Figure size 432x288 with 1 Axes>"
      ]
     },
     "metadata": {
      "needs_background": "light"
     },
     "output_type": "display_data"
    },
    {
     "data": {
      "image/png": "[encoded data removed]",
      "text/plain": [
       "<Figure size 432x288 with 1 Axes>"
      ]
     },
     "metadata": {
      "needs_background": "light"
     },
     "output_type": "display_data"
    }
   ],
   "source": [
    "import matplotlib.pyplot as plt\n",
    "\n",
    "# Plot utility\n",
    "def plot_graphs(history, string):\n",
    "  plt.plot(history.history[string])\n",
    "  plt.plot(history.history['val_'+string])\n",
    "  plt.xlabel(\"Epochs\")\n",
    "  plt.ylabel(string)\n",
    "  plt.show()\n",
    "\n",
    "# Visualize the accuracy\n",
    "plot_graphs(history, 'accuracy')\n",
    "plot_graphs(history, 'loss')"
   ]
  },
  {
   "cell_type": "code",
   "execution_count": 331,
   "metadata": {},
   "outputs": [
    {
     "name": "stdout",
     "output_type": "stream",
     "text": [
      "3/3 [==============================] - 0s 5ms/step - loss: 1.1773 - accuracy: 0.3488\n"
     ]
    },
    {
     "data": {
      "text/plain": [
       "[1.177259922027588, 0.3488371968269348]"
      ]
     },
     "execution_count": 331,
     "metadata": {},
     "output_type": "execute_result"
    }
   ],
   "source": [
    "model.evaluate(test_data, test_labels)"
   ]
  },
  {
   "cell_type": "code",
   "execution_count": 329,
   "metadata": {},
   "outputs": [],
   "source": [
    "model.save('../models/test_lstm.h5')"
   ]
  }
 ],
 "metadata": {
  "kernelspec": {
   "display_name": "Python 3.9.0 64-bit",
   "language": "python",
   "name": "python3"
  },
  "language_info": {
   "codemirror_mode": {
    "name": "ipython",
    "version": 3
   },
   "file_extension": ".py",
   "mimetype": "text/x-python",
   "name": "python",
   "nbconvert_exporter": "python",
   "pygments_lexer": "ipython3",
   "version": "3.9.0"
  },
  "orig_nbformat": 4,
  "vscode": {
   "interpreter": {
    "hash": "11938c6bc6919ae2720b4d5011047913343b08a43b18698fd82dedb0d4417594"
   }
  }
 },
 "nbformat": 4,
 "nbformat_minor": 2
}
